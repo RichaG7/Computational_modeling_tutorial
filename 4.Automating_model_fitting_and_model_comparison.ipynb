{
 "cells": [
  {
   "cell_type": "markdown",
   "metadata": {},
   "source": [
    "## Goals:"
   ]
  },
  {
   "cell_type": "markdown",
   "metadata": {},
   "source": [
    "1. Find maximum-likelihood parameters for a model using gradient descent algorithms (based on SSE or LL)\n",
    "2. Model comparison using AIC and BIC\n",
    "3. Model and parameter recovery"
   ]
  },
  {
   "cell_type": "markdown",
   "metadata": {},
   "source": [
    "## Load packages"
   ]
  },
  {
   "cell_type": "code",
   "execution_count": 1,
   "metadata": {},
   "outputs": [],
   "source": [
    "import os, sys, glob, scipy\n",
    "import numpy as np\n",
    "import pandas as pd\n",
    "import matplotlib.pyplot as plt\n",
    "import seaborn as sns"
   ]
  },
  {
   "cell_type": "code",
   "execution_count": 2,
   "metadata": {},
   "outputs": [
    {
     "name": "stdout",
     "output_type": "stream",
     "text": [
      "/Users/jvanbaar/Dropbox (Brown)/Postdoc FHL/Teaching/Computational_modeling_tutorial\n"
     ]
    }
   ],
   "source": [
    "base_dir = os.path.realpath('.')\n",
    "print(base_dir)"
   ]
  },
  {
   "cell_type": "markdown",
   "metadata": {},
   "source": [
    "## Writing choice rules"
   ]
  },
  {
   "cell_type": "code",
   "execution_count": 3,
   "metadata": {},
   "outputs": [],
   "source": [
    "def greedy(utilities, params = []):\n",
    "    \n",
    "    choice = np.where(utilities == np.max(utilities))[0][0]\n",
    "    \n",
    "    return choice"
   ]
  },
  {
   "cell_type": "code",
   "execution_count": 4,
   "metadata": {},
   "outputs": [],
   "source": [
    "def e_greedy(utilities, epsilon):\n",
    "    \n",
    "    random_number = np.random.rand()\n",
    "    \n",
    "    if random_number < epsilon:\n",
    "        # Choose randomly\n",
    "        choice = np.random.randint(0,2)\n",
    "    else:\n",
    "        # Choose deterministically\n",
    "#         choice = np.where(utilites == np.max(utilities))\n",
    "        choice = greedy(utilities)\n",
    "    \n",
    "    return choice"
   ]
  },
  {
   "cell_type": "code",
   "execution_count": 5,
   "metadata": {},
   "outputs": [],
   "source": [
    "def softmax_with_choice(utilities, beta):\n",
    "    # Beta is sometimes called 'inverse temperature' or 'explore parameter'\n",
    "    \n",
    "    # Version for choice A only => then prob_B will be 1 - prob_A\n",
    "    prob_A = (np.exp(utilities[0] * beta) /\n",
    "              (np.exp(utilities[0] * beta) + np.exp(utilities[1] * beta)))\n",
    "    \n",
    "    # General version (this works too, try it out!)\n",
    "    probs = (np.exp(np.multiply(utilities, beta)) /\n",
    "             (np.sum(np.exp(np.multiply(utilities, beta)))))\n",
    "    \n",
    "    random_number = np.random.rand()\n",
    "    if random_number < prob_A:\n",
    "        choice = 0\n",
    "    else:\n",
    "        choice = 1\n",
    "    \n",
    "    return choice"
   ]
  },
  {
   "cell_type": "code",
   "execution_count": 6,
   "metadata": {},
   "outputs": [],
   "source": [
    "def softmax(utilities, beta):\n",
    "\n",
    "    probs = (np.exp(np.multiply(utilities, beta)) /\n",
    "             (np.sum(np.exp(np.multiply(utilities, beta)))))\n",
    "    \n",
    "    return probs"
   ]
  },
  {
   "cell_type": "markdown",
   "metadata": {},
   "source": [
    "##### Define our inequity aversion model again:"
   ]
  },
  {
   "cell_type": "code",
   "execution_count": 7,
   "metadata": {},
   "outputs": [],
   "source": [
    "def inequity_aversion(offer, alpha):\n",
    "    \n",
    "    # Inequity aversion model with one inequity term (= symmetric) and a money term\n",
    "    payoffs = np.array([offer, 0])\n",
    "    inequities = np.array([(100-offer)-offer, 0])\n",
    "    utilities = payoffs - np.multiply(alpha,inequities)\n",
    "\n",
    "    return utilities"
   ]
  },
  {
   "cell_type": "markdown",
   "metadata": {},
   "source": [
    "##### Simulate data for inequity aversion + softmax with varying parameter values"
   ]
  },
  {
   "cell_type": "code",
   "execution_count": 59,
   "metadata": {},
   "outputs": [],
   "source": [
    "def simulate_data(sub_data, alpha, beta, evaluate_choices = False):\n",
    "    simulated_data = pd.DataFrame()\n",
    "    for trial in sub_data['trial'].unique():\n",
    "        trial_data = sub_data.query('trial == @trial')\n",
    "        offer = trial_data['offer'].values[0]\n",
    "        \n",
    "        # Value function: inequity aversion ==> utilities\n",
    "        utilities = inequity_aversion(offer, alpha)\n",
    "        \n",
    "        # Choice rule: softmax ==> probabilities\n",
    "        choice_probabilities = softmax(utilities, beta)\n",
    "        \n",
    "        # Make a choice\n",
    "        if evaluate_choices:\n",
    "            choice = 0 if np.random.rand() < choice_probabilities[0] else 1\n",
    "        \n",
    "        # Store results\n",
    "        if evaluate_choices:\n",
    "            simulated_data = simulated_data.append(pd.DataFrame(\n",
    "                [[trial, offer, choice_probabilities[0], choice]],\n",
    "                columns=['trial', 'offer', 'probability_accept', 'choice'])).reset_index(drop=True)\n",
    "        else:\n",
    "            simulated_data = simulated_data.append(pd.DataFrame(\n",
    "                [[trial, offer, choice_probabilities[0]]],\n",
    "                columns=['trial', 'offer', 'probability_accept'])).reset_index(drop=True)\n",
    "    return simulated_data"
   ]
  },
  {
   "cell_type": "markdown",
   "metadata": {},
   "source": [
    "## Using the SciPy package to fit the model for us"
   ]
  },
  {
   "cell_type": "markdown",
   "metadata": {},
   "source": [
    "1. Load Joey's data again\n",
    "2. Tell the SciPy.Optimise. to find the best fitting parameters"
   ]
  },
  {
   "cell_type": "markdown",
   "metadata": {},
   "source": [
    "##### Load some data"
   ]
  },
  {
   "cell_type": "code",
   "execution_count": 9,
   "metadata": {},
   "outputs": [
    {
     "data": {
      "text/html": [
       "<div>\n",
       "<style scoped>\n",
       "    .dataframe tbody tr th:only-of-type {\n",
       "        vertical-align: middle;\n",
       "    }\n",
       "\n",
       "    .dataframe tbody tr th {\n",
       "        vertical-align: top;\n",
       "    }\n",
       "\n",
       "    .dataframe thead th {\n",
       "        text-align: right;\n",
       "    }\n",
       "</style>\n",
       "<table border=\"1\" class=\"dataframe\">\n",
       "  <thead>\n",
       "    <tr style=\"text-align: right;\">\n",
       "      <th></th>\n",
       "      <th>sub</th>\n",
       "      <th>trial</th>\n",
       "      <th>unfairness</th>\n",
       "      <th>choice</th>\n",
       "      <th>offer</th>\n",
       "    </tr>\n",
       "  </thead>\n",
       "  <tbody>\n",
       "    <tr>\n",
       "      <th>0</th>\n",
       "      <td>1</td>\n",
       "      <td>1</td>\n",
       "      <td>50</td>\n",
       "      <td>0</td>\n",
       "      <td>50</td>\n",
       "    </tr>\n",
       "    <tr>\n",
       "      <th>1</th>\n",
       "      <td>1</td>\n",
       "      <td>2</td>\n",
       "      <td>80</td>\n",
       "      <td>0</td>\n",
       "      <td>20</td>\n",
       "    </tr>\n",
       "    <tr>\n",
       "      <th>2</th>\n",
       "      <td>1</td>\n",
       "      <td>3</td>\n",
       "      <td>95</td>\n",
       "      <td>0</td>\n",
       "      <td>5</td>\n",
       "    </tr>\n",
       "    <tr>\n",
       "      <th>3</th>\n",
       "      <td>1</td>\n",
       "      <td>4</td>\n",
       "      <td>60</td>\n",
       "      <td>0</td>\n",
       "      <td>40</td>\n",
       "    </tr>\n",
       "    <tr>\n",
       "      <th>4</th>\n",
       "      <td>1</td>\n",
       "      <td>5</td>\n",
       "      <td>75</td>\n",
       "      <td>0</td>\n",
       "      <td>25</td>\n",
       "    </tr>\n",
       "  </tbody>\n",
       "</table>\n",
       "</div>"
      ],
      "text/plain": [
       "   sub  trial  unfairness  choice  offer\n",
       "0    1      1          50       0     50\n",
       "1    1      2          80       0     20\n",
       "2    1      3          95       0      5\n",
       "3    1      4          60       0     40\n",
       "4    1      5          75       0     25"
      ]
     },
     "execution_count": 9,
     "metadata": {},
     "output_type": "execute_result"
    }
   ],
   "source": [
    "data = pd.read_csv(base_dir + '/Data/Study1_UG.csv')\n",
    "data = data[['sub','trial','unfairness','choice']]\n",
    "data['offer'] = 100 - data['unfairness']\n",
    "data.head()"
   ]
  },
  {
   "cell_type": "markdown",
   "metadata": {},
   "source": [
    "Single subject:"
   ]
  },
  {
   "cell_type": "code",
   "execution_count": 10,
   "metadata": {},
   "outputs": [
    {
     "data": {
      "text/html": [
       "<div>\n",
       "<style scoped>\n",
       "    .dataframe tbody tr th:only-of-type {\n",
       "        vertical-align: middle;\n",
       "    }\n",
       "\n",
       "    .dataframe tbody tr th {\n",
       "        vertical-align: top;\n",
       "    }\n",
       "\n",
       "    .dataframe thead th {\n",
       "        text-align: right;\n",
       "    }\n",
       "</style>\n",
       "<table border=\"1\" class=\"dataframe\">\n",
       "  <thead>\n",
       "    <tr style=\"text-align: right;\">\n",
       "      <th></th>\n",
       "      <th>sub</th>\n",
       "      <th>trial</th>\n",
       "      <th>unfairness</th>\n",
       "      <th>choice</th>\n",
       "      <th>offer</th>\n",
       "    </tr>\n",
       "  </thead>\n",
       "  <tbody>\n",
       "    <tr>\n",
       "      <th>0</th>\n",
       "      <td>2</td>\n",
       "      <td>1</td>\n",
       "      <td>60</td>\n",
       "      <td>0</td>\n",
       "      <td>40</td>\n",
       "    </tr>\n",
       "    <tr>\n",
       "      <th>1</th>\n",
       "      <td>2</td>\n",
       "      <td>2</td>\n",
       "      <td>55</td>\n",
       "      <td>0</td>\n",
       "      <td>45</td>\n",
       "    </tr>\n",
       "    <tr>\n",
       "      <th>2</th>\n",
       "      <td>2</td>\n",
       "      <td>3</td>\n",
       "      <td>85</td>\n",
       "      <td>1</td>\n",
       "      <td>15</td>\n",
       "    </tr>\n",
       "    <tr>\n",
       "      <th>3</th>\n",
       "      <td>2</td>\n",
       "      <td>4</td>\n",
       "      <td>95</td>\n",
       "      <td>1</td>\n",
       "      <td>5</td>\n",
       "    </tr>\n",
       "    <tr>\n",
       "      <th>4</th>\n",
       "      <td>2</td>\n",
       "      <td>5</td>\n",
       "      <td>65</td>\n",
       "      <td>0</td>\n",
       "      <td>35</td>\n",
       "    </tr>\n",
       "  </tbody>\n",
       "</table>\n",
       "</div>"
      ],
      "text/plain": [
       "   sub  trial  unfairness  choice  offer\n",
       "0    2      1          60       0     40\n",
       "1    2      2          55       0     45\n",
       "2    2      3          85       1     15\n",
       "3    2      4          95       1      5\n",
       "4    2      5          65       0     35"
      ]
     },
     "execution_count": 10,
     "metadata": {},
     "output_type": "execute_result"
    }
   ],
   "source": [
    "sub = 2\n",
    "sub_data = data.query('sub == @sub').reset_index(drop=True)\n",
    "sub_data.head()"
   ]
  },
  {
   "cell_type": "code",
   "execution_count": 11,
   "metadata": {},
   "outputs": [
    {
     "data": {
      "text/plain": [
       "<matplotlib.collections.PathCollection at 0x125db96a0>"
      ]
     },
     "execution_count": 11,
     "metadata": {},
     "output_type": "execute_result"
    },
    {
     "data": {
      "image/png": "[encoded data removed]",
      "text/plain": [
       "<Figure size 432x288 with 1 Axes>"
      ]
     },
     "metadata": {
      "needs_background": "light"
     },
     "output_type": "display_data"
    }
   ],
   "source": [
    "plt.scatter(sub_data['unfairness'], sub_data['choice'])"
   ]
  },
  {
   "cell_type": "markdown",
   "metadata": {},
   "source": [
    "##### Implement the optimization routine"
   ]
  },
  {
   "cell_type": "code",
   "execution_count": 12,
   "metadata": {},
   "outputs": [],
   "source": [
    "def compute_negloglike(params, data):\n",
    "    \n",
    "    alpha = params[0]\n",
    "    beta = params[1]\n",
    "    \n",
    "    # For each trial, compute the probability of observing THIS PARTICULAR BEHAVIOR given alpha and beta\n",
    "    trial_probs = []\n",
    "    for trial in data['trial'].unique():\n",
    "        trial_data = data.query('trial == @trial')\n",
    "        offer = trial_data['offer'].values[0]\n",
    "        choice = trial_data['choice'].values[0]\n",
    "        utilities = inequity_aversion(offer, alpha)\n",
    "        choice_probabilities = softmax(utilities, beta)\n",
    "        prob_of_observed = choice_probabilities[choice]\n",
    "        trial_probs.append(prob_of_observed)\n",
    "    \n",
    "    # Multiply the probabilities of all trials to get the likelihood of the whole dataset –– here use the log trick!\n",
    "    loglike = np.sum(np.log(trial_probs))\n",
    "    \n",
    "    return -loglike"
   ]
  },
  {
   "cell_type": "code",
   "execution_count": 13,
   "metadata": {},
   "outputs": [],
   "source": [
    "import tqdm"
   ]
  },
  {
   "cell_type": "code",
   "execution_count": 14,
   "metadata": {
    "scrolled": true
   },
   "outputs": [
    {
     "name": "stderr",
     "output_type": "stream",
     "text": [
      " 10%|█         | 1/10 [00:02<00:22,  2.52s/it]"
     ]
    },
    {
     "name": "stdout",
     "output_type": "stream",
     "text": [
      "Optimization terminated successfully.\n",
      "         Current function value: 6.392669\n",
      "         Iterations: 42\n",
      "         Function evaluations: 81\n"
     ]
    },
    {
     "name": "stderr",
     "output_type": "stream",
     "text": [
      "\r",
      " 20%|██        | 2/10 [00:04<00:18,  2.33s/it]"
     ]
    },
    {
     "name": "stdout",
     "output_type": "stream",
     "text": [
      "Optimization terminated successfully.\n",
      "         Current function value: 6.392669\n",
      "         Iterations: 31\n",
      "         Function evaluations: 59\n"
     ]
    },
    {
     "name": "stderr",
     "output_type": "stream",
     "text": [
      "\r",
      " 30%|███       | 3/10 [00:06<00:16,  2.29s/it]"
     ]
    },
    {
     "name": "stdout",
     "output_type": "stream",
     "text": [
      "Optimization terminated successfully.\n",
      "         Current function value: 6.392669\n",
      "         Iterations: 36\n",
      "         Function evaluations: 68\n"
     ]
    },
    {
     "name": "stderr",
     "output_type": "stream",
     "text": [
      "\r",
      " 40%|████      | 4/10 [00:08<00:13,  2.22s/it]"
     ]
    },
    {
     "name": "stdout",
     "output_type": "stream",
     "text": [
      "Optimization terminated successfully.\n",
      "         Current function value: 6.392669\n",
      "         Iterations: 38\n",
      "         Function evaluations: 73\n"
     ]
    },
    {
     "name": "stderr",
     "output_type": "stream",
     "text": [
      "\r",
      " 50%|█████     | 5/10 [00:11<00:12,  2.45s/it]"
     ]
    },
    {
     "name": "stdout",
     "output_type": "stream",
     "text": [
      "Optimization terminated successfully.\n",
      "         Current function value: 6.392668\n",
      "         Iterations: 51\n",
      "         Function evaluations: 97\n"
     ]
    },
    {
     "name": "stderr",
     "output_type": "stream",
     "text": [
      "\r",
      " 60%|██████    | 6/10 [00:15<00:10,  2.74s/it]"
     ]
    },
    {
     "name": "stdout",
     "output_type": "stream",
     "text": [
      "Optimization terminated successfully.\n",
      "         Current function value: 6.392669\n",
      "         Iterations: 43\n",
      "         Function evaluations: 83\n"
     ]
    },
    {
     "name": "stderr",
     "output_type": "stream",
     "text": [
      "\r",
      " 70%|███████   | 7/10 [00:17<00:08,  2.74s/it]"
     ]
    },
    {
     "name": "stdout",
     "output_type": "stream",
     "text": [
      "Optimization terminated successfully.\n",
      "         Current function value: 6.392669\n",
      "         Iterations: 38\n",
      "         Function evaluations: 73\n"
     ]
    },
    {
     "name": "stderr",
     "output_type": "stream",
     "text": [
      "\r",
      " 80%|████████  | 8/10 [00:20<00:05,  2.66s/it]"
     ]
    },
    {
     "name": "stdout",
     "output_type": "stream",
     "text": [
      "Optimization terminated successfully.\n",
      "         Current function value: 6.392669\n",
      "         Iterations: 34\n",
      "         Function evaluations: 63\n"
     ]
    },
    {
     "name": "stderr",
     "output_type": "stream",
     "text": [
      "\r",
      " 90%|█████████ | 9/10 [00:22<00:02,  2.64s/it]"
     ]
    },
    {
     "name": "stdout",
     "output_type": "stream",
     "text": [
      "Optimization terminated successfully.\n",
      "         Current function value: 6.392669\n",
      "         Iterations: 40\n",
      "         Function evaluations: 75\n"
     ]
    },
    {
     "name": "stderr",
     "output_type": "stream",
     "text": [
      "100%|██████████| 10/10 [00:25<00:00,  2.57s/it]"
     ]
    },
    {
     "name": "stdout",
     "output_type": "stream",
     "text": [
      "Optimization terminated successfully.\n",
      "         Current function value: 6.392669\n",
      "         Iterations: 44\n",
      "         Function evaluations: 83\n"
     ]
    },
    {
     "name": "stderr",
     "output_type": "stream",
     "text": [
      "\n"
     ]
    }
   ],
   "source": [
    "n_iter = 10\n",
    "objective_function = lambda params: compute_negloglike(params, sub_data)\n",
    "fit_results = pd.DataFrame()\n",
    "for i in tqdm.tqdm(range(n_iter)):\n",
    "    x0 = np.random.rand(2)\n",
    "    out = scipy.optimize.fmin(objective_function, x0, full_output=True)\n",
    "    best_params, best_NLL = out[:2]\n",
    "    fit_results = fit_results.append(pd.DataFrame([[i, best_params, best_NLL]],\n",
    "                                     columns = ['iteration','best_params','best_NLL']))"
   ]
  },
  {
   "cell_type": "code",
   "execution_count": 16,
   "metadata": {},
   "outputs": [
    {
     "data": {
      "text/html": [
       "<div>\n",
       "<style scoped>\n",
       "    .dataframe tbody tr th:only-of-type {\n",
       "        vertical-align: middle;\n",
       "    }\n",
       "\n",
       "    .dataframe tbody tr th {\n",
       "        vertical-align: top;\n",
       "    }\n",
       "\n",
       "    .dataframe thead th {\n",
       "        text-align: right;\n",
       "    }\n",
       "</style>\n",
       "<table border=\"1\" class=\"dataframe\">\n",
       "  <thead>\n",
       "    <tr style=\"text-align: right;\">\n",
       "      <th></th>\n",
       "      <th>iteration</th>\n",
       "      <th>best_params</th>\n",
       "      <th>best_NLL</th>\n",
       "    </tr>\n",
       "  </thead>\n",
       "  <tbody>\n",
       "    <tr>\n",
       "      <th>0</th>\n",
       "      <td>4</td>\n",
       "      <td>[0.32890087483886776, 0.11684241888083689]</td>\n",
       "      <td>6.392668</td>\n",
       "    </tr>\n",
       "    <tr>\n",
       "      <th>0</th>\n",
       "      <td>8</td>\n",
       "      <td>[0.32890205253536675, 0.1168588921941674]</td>\n",
       "      <td>6.392669</td>\n",
       "    </tr>\n",
       "    <tr>\n",
       "      <th>0</th>\n",
       "      <td>0</td>\n",
       "      <td>[0.32889000856217804, 0.11686632280656636]</td>\n",
       "      <td>6.392669</td>\n",
       "    </tr>\n",
       "    <tr>\n",
       "      <th>0</th>\n",
       "      <td>5</td>\n",
       "      <td>[0.3288499453041194, 0.1168621759008255]</td>\n",
       "      <td>6.392669</td>\n",
       "    </tr>\n",
       "    <tr>\n",
       "      <th>0</th>\n",
       "      <td>2</td>\n",
       "      <td>[0.3288563430615493, 0.11684326866808417]</td>\n",
       "      <td>6.392669</td>\n",
       "    </tr>\n",
       "    <tr>\n",
       "      <th>0</th>\n",
       "      <td>7</td>\n",
       "      <td>[0.3288602574215953, 0.11683971959432654]</td>\n",
       "      <td>6.392669</td>\n",
       "    </tr>\n",
       "    <tr>\n",
       "      <th>0</th>\n",
       "      <td>3</td>\n",
       "      <td>[0.3289131943108281, 0.11684018315539903]</td>\n",
       "      <td>6.392669</td>\n",
       "    </tr>\n",
       "    <tr>\n",
       "      <th>0</th>\n",
       "      <td>6</td>\n",
       "      <td>[0.3288350335293181, 0.11686596363537857]</td>\n",
       "      <td>6.392669</td>\n",
       "    </tr>\n",
       "    <tr>\n",
       "      <th>0</th>\n",
       "      <td>1</td>\n",
       "      <td>[0.32892608529911516, 0.11683956881099716]</td>\n",
       "      <td>6.392669</td>\n",
       "    </tr>\n",
       "    <tr>\n",
       "      <th>0</th>\n",
       "      <td>9</td>\n",
       "      <td>[0.32883625212046597, 0.11684374703687117]</td>\n",
       "      <td>6.392669</td>\n",
       "    </tr>\n",
       "  </tbody>\n",
       "</table>\n",
       "</div>"
      ],
      "text/plain": [
       "   iteration                                 best_params  best_NLL\n",
       "0          4  [0.32890087483886776, 0.11684241888083689]  6.392668\n",
       "0          8   [0.32890205253536675, 0.1168588921941674]  6.392669\n",
       "0          0  [0.32889000856217804, 0.11686632280656636]  6.392669\n",
       "0          5    [0.3288499453041194, 0.1168621759008255]  6.392669\n",
       "0          2   [0.3288563430615493, 0.11684326866808417]  6.392669\n",
       "0          7   [0.3288602574215953, 0.11683971959432654]  6.392669\n",
       "0          3   [0.3289131943108281, 0.11684018315539903]  6.392669\n",
       "0          6   [0.3288350335293181, 0.11686596363537857]  6.392669\n",
       "0          1  [0.32892608529911516, 0.11683956881099716]  6.392669\n",
       "0          9  [0.32883625212046597, 0.11684374703687117]  6.392669"
      ]
     },
     "execution_count": 16,
     "metadata": {},
     "output_type": "execute_result"
    }
   ],
   "source": [
    "fit_results.sort_values(by='best_NLL')"
   ]
  },
  {
   "cell_type": "markdown",
   "metadata": {},
   "source": [
    "## Say you want to send this data to the GitHub repository for others to see"
   ]
  },
  {
   "cell_type": "code",
   "execution_count": 25,
   "metadata": {},
   "outputs": [],
   "source": [
    "fit_results.to_csv(base_dir + '/Results/fit_onesub_jeroen.csv')"
   ]
  },
  {
   "cell_type": "markdown",
   "metadata": {},
   "source": [
    "Now use git command line or GitHub Desktop to push this file to the repo (outside of notebook)"
   ]
  },
  {
   "cell_type": "code",
   "execution_count": 27,
   "metadata": {},
   "outputs": [
    {
     "name": "stdout",
     "output_type": "stream",
     "text": [
      "Study1_UG_Fits_Joey.csv fit_onesub_jeroen.csv\r\n"
     ]
    }
   ],
   "source": [
    "!ls Results"
   ]
  },
  {
   "cell_type": "markdown",
   "metadata": {},
   "source": [
    "## Find the best-fitting parameters for all subjects using scipy.optimize.fmin"
   ]
  },
  {
   "cell_type": "markdown",
   "metadata": {},
   "source": [
    "Homework:\n",
    "1. Fit model for all subjects - find a good number of iterations to try\n",
    "2. Plot the best-fitting parameters for all subjects\n",
    "3. Do parameter recovery: a) pick 10 sets of parameters (alpha & beta), b) simulate data for each set, c) fit the model to the simulated data, d) repeat b and c 100 times, e) compare the 'recovered' parameters to the ones you picked in step a)."
   ]
  },
  {
   "cell_type": "markdown",
   "metadata": {},
   "source": [
    "## Load Joey's model fit results"
   ]
  },
  {
   "cell_type": "code",
   "execution_count": 29,
   "metadata": {},
   "outputs": [
    {
     "data": {
      "text/html": [
       "<div>\n",
       "<style scoped>\n",
       "    .dataframe tbody tr th:only-of-type {\n",
       "        vertical-align: middle;\n",
       "    }\n",
       "\n",
       "    .dataframe tbody tr th {\n",
       "        vertical-align: top;\n",
       "    }\n",
       "\n",
       "    .dataframe thead th {\n",
       "        text-align: right;\n",
       "    }\n",
       "</style>\n",
       "<table border=\"1\" class=\"dataframe\">\n",
       "  <thead>\n",
       "    <tr style=\"text-align: right;\">\n",
       "      <th></th>\n",
       "      <th>sub</th>\n",
       "      <th>alpha</th>\n",
       "      <th>beta</th>\n",
       "      <th>log_lik</th>\n",
       "    </tr>\n",
       "  </thead>\n",
       "  <tbody>\n",
       "    <tr>\n",
       "      <th>1</th>\n",
       "      <td>1</td>\n",
       "      <td>-0.847179</td>\n",
       "      <td>0.812091</td>\n",
       "      <td>0.000000</td>\n",
       "    </tr>\n",
       "    <tr>\n",
       "      <th>2</th>\n",
       "      <td>2</td>\n",
       "      <td>0.328861</td>\n",
       "      <td>0.116852</td>\n",
       "      <td>-6.392668</td>\n",
       "    </tr>\n",
       "    <tr>\n",
       "      <th>3</th>\n",
       "      <td>3</td>\n",
       "      <td>-0.466158</td>\n",
       "      <td>0.844786</td>\n",
       "      <td>0.000000</td>\n",
       "    </tr>\n",
       "    <tr>\n",
       "      <th>4</th>\n",
       "      <td>4</td>\n",
       "      <td>0.611098</td>\n",
       "      <td>0.068869</td>\n",
       "      <td>-7.950943</td>\n",
       "    </tr>\n",
       "    <tr>\n",
       "      <th>5</th>\n",
       "      <td>5</td>\n",
       "      <td>0.214286</td>\n",
       "      <td>5.286248</td>\n",
       "      <td>-1.386294</td>\n",
       "    </tr>\n",
       "  </tbody>\n",
       "</table>\n",
       "</div>"
      ],
      "text/plain": [
       "   sub     alpha      beta   log_lik\n",
       "1    1 -0.847179  0.812091  0.000000\n",
       "2    2  0.328861  0.116852 -6.392668\n",
       "3    3 -0.466158  0.844786  0.000000\n",
       "4    4  0.611098  0.068869 -7.950943\n",
       "5    5  0.214286  5.286248 -1.386294"
      ]
     },
     "execution_count": 29,
     "metadata": {},
     "output_type": "execute_result"
    }
   ],
   "source": [
    "model_fits_allsubs = pd.read_csv(base_dir + '/Results/Study1_UG_Fits_Joey.csv',index_col=0)\n",
    "model_fits_allsubs.head()"
   ]
  },
  {
   "cell_type": "markdown",
   "metadata": {},
   "source": [
    "##### Visualize the fitted parameters:"
   ]
  },
  {
   "cell_type": "code",
   "execution_count": 35,
   "metadata": {},
   "outputs": [
    {
     "data": {
      "text/plain": [
       "<matplotlib.axes._subplots.AxesSubplot at 0x12742dd90>"
      ]
     },
     "execution_count": 35,
     "metadata": {},
     "output_type": "execute_result"
    },
    {
     "data": {
      "image/png": "[encoded data removed]",
      "text/plain": [
       "<Figure size 432x288 with 1 Axes>"
      ]
     },
     "metadata": {
      "needs_background": "light"
     },
     "output_type": "display_data"
    }
   ],
   "source": [
    "sns.scatterplot(x = model_fits_allsubs.query('alpha < 10')['alpha'],\n",
    "               y = model_fits_allsubs.query('alpha < 10')['beta'])"
   ]
  },
  {
   "cell_type": "code",
   "execution_count": 39,
   "metadata": {},
   "outputs": [
    {
     "data": {
      "text/plain": [
       "<matplotlib.axes._subplots.AxesSubplot at 0x127981e20>"
      ]
     },
     "execution_count": 39,
     "metadata": {},
     "output_type": "execute_result"
    },
    {
     "data": {
      "image/png": "[encoded data removed]",
      "text/plain": [
       "<Figure size 432x288 with 1 Axes>"
      ]
     },
     "metadata": {
      "needs_background": "light"
     },
     "output_type": "display_data"
    }
   ],
   "source": [
    "sns.distplot(model_fits_allsubs['alpha'], bins = 50)"
   ]
  },
  {
   "cell_type": "code",
   "execution_count": 38,
   "metadata": {},
   "outputs": [
    {
     "data": {
      "text/plain": [
       "<matplotlib.axes._subplots.AxesSubplot at 0x127aa08b0>"
      ]
     },
     "execution_count": 38,
     "metadata": {},
     "output_type": "execute_result"
    },
    {
     "data": {
      "image/png": "[encoded data removed]",
      "text/plain": [
       "<Figure size 432x288 with 1 Axes>"
      ]
     },
     "metadata": {
      "needs_background": "light"
     },
     "output_type": "display_data"
    }
   ],
   "source": [
    "sns.distplot(model_fits_allsubs['beta'], bins = 50)"
   ]
  },
  {
   "cell_type": "code",
   "execution_count": 45,
   "metadata": {},
   "outputs": [
    {
     "data": {
      "text/plain": [
       "<matplotlib.axes._subplots.AxesSubplot at 0x127fc3760>"
      ]
     },
     "execution_count": 45,
     "metadata": {},
     "output_type": "execute_result"
    },
    {
     "data": {
      "image/png": "[encoded data removed]",
      "text/plain": [
       "<Figure size 432x288 with 1 Axes>"
      ]
     },
     "metadata": {
      "needs_background": "light"
     },
     "output_type": "display_data"
    }
   ],
   "source": [
    "sns.distplot(model_fits_allsubs.query('log_lik < -.1')['log_lik'])"
   ]
  },
  {
   "cell_type": "markdown",
   "metadata": {},
   "source": [
    "##### Compare to Lotte's results"
   ]
  },
  {
   "cell_type": "code",
   "execution_count": 51,
   "metadata": {},
   "outputs": [
    {
     "data": {
      "text/html": [
       "<div>\n",
       "<style scoped>\n",
       "    .dataframe tbody tr th:only-of-type {\n",
       "        vertical-align: middle;\n",
       "    }\n",
       "\n",
       "    .dataframe tbody tr th {\n",
       "        vertical-align: top;\n",
       "    }\n",
       "\n",
       "    .dataframe thead th {\n",
       "        text-align: right;\n",
       "    }\n",
       "</style>\n",
       "<table border=\"1\" class=\"dataframe\">\n",
       "  <thead>\n",
       "    <tr style=\"text-align: right;\">\n",
       "      <th></th>\n",
       "      <th>sub</th>\n",
       "      <th>alpha</th>\n",
       "      <th>beta</th>\n",
       "      <th>NLL</th>\n",
       "      <th>log_lik</th>\n",
       "    </tr>\n",
       "  </thead>\n",
       "  <tbody>\n",
       "    <tr>\n",
       "      <th>0</th>\n",
       "      <td>2</td>\n",
       "      <td>0.328821</td>\n",
       "      <td>0.116842</td>\n",
       "      <td>6.392669</td>\n",
       "      <td>-6.392669</td>\n",
       "    </tr>\n",
       "    <tr>\n",
       "      <th>0</th>\n",
       "      <td>3</td>\n",
       "      <td>-0.576554</td>\n",
       "      <td>1.176875</td>\n",
       "      <td>-0.000000</td>\n",
       "      <td>0.000000</td>\n",
       "    </tr>\n",
       "    <tr>\n",
       "      <th>0</th>\n",
       "      <td>4</td>\n",
       "      <td>0.611046</td>\n",
       "      <td>0.068872</td>\n",
       "      <td>7.950943</td>\n",
       "      <td>-7.950943</td>\n",
       "    </tr>\n",
       "    <tr>\n",
       "      <th>0</th>\n",
       "      <td>5</td>\n",
       "      <td>0.214286</td>\n",
       "      <td>5.020193</td>\n",
       "      <td>1.386294</td>\n",
       "      <td>-1.386294</td>\n",
       "    </tr>\n",
       "    <tr>\n",
       "      <th>0</th>\n",
       "      <td>6</td>\n",
       "      <td>0.412874</td>\n",
       "      <td>9.383481</td>\n",
       "      <td>-0.000000</td>\n",
       "      <td>0.000000</td>\n",
       "    </tr>\n",
       "  </tbody>\n",
       "</table>\n",
       "</div>"
      ],
      "text/plain": [
       "   sub     alpha      beta       NLL   log_lik\n",
       "0    2  0.328821  0.116842  6.392669 -6.392669\n",
       "0    3 -0.576554  1.176875 -0.000000  0.000000\n",
       "0    4  0.611046  0.068872  7.950943 -7.950943\n",
       "0    5  0.214286  5.020193  1.386294 -1.386294\n",
       "0    6  0.412874  9.383481 -0.000000  0.000000"
      ]
     },
     "execution_count": 51,
     "metadata": {},
     "output_type": "execute_result"
    }
   ],
   "source": [
    "model_fits_lotte = pd.read_csv(base_dir + '/Results/Model_fit_results_Lotte.csv',\n",
    "                              index_col = 0)\n",
    "model_fits_lotte = model_fits_lotte.rename(columns = {'subject':'sub','tot_best_NLL':'NLL'})\n",
    "model_fits_lotte['log_lik'] = -model_fits_lotte['NLL']\n",
    "model_fits_lotte.head()"
   ]
  },
  {
   "cell_type": "code",
   "execution_count": 52,
   "metadata": {},
   "outputs": [],
   "source": [
    "model_fits_joeylotte = model_fits_allsubs.merge(model_fits_lotte,\n",
    "                           on = 'sub', suffixes = ['_joey','_lotte'])"
   ]
  },
  {
   "cell_type": "code",
   "execution_count": 53,
   "metadata": {},
   "outputs": [
    {
     "data": {
      "text/html": [
       "<div>\n",
       "<style scoped>\n",
       "    .dataframe tbody tr th:only-of-type {\n",
       "        vertical-align: middle;\n",
       "    }\n",
       "\n",
       "    .dataframe tbody tr th {\n",
       "        vertical-align: top;\n",
       "    }\n",
       "\n",
       "    .dataframe thead th {\n",
       "        text-align: right;\n",
       "    }\n",
       "</style>\n",
       "<table border=\"1\" class=\"dataframe\">\n",
       "  <thead>\n",
       "    <tr style=\"text-align: right;\">\n",
       "      <th></th>\n",
       "      <th>sub</th>\n",
       "      <th>alpha_joey</th>\n",
       "      <th>beta_joey</th>\n",
       "      <th>log_lik_joey</th>\n",
       "      <th>alpha_lotte</th>\n",
       "      <th>beta_lotte</th>\n",
       "      <th>NLL</th>\n",
       "      <th>log_lik_lotte</th>\n",
       "    </tr>\n",
       "  </thead>\n",
       "  <tbody>\n",
       "    <tr>\n",
       "      <th>0</th>\n",
       "      <td>2</td>\n",
       "      <td>0.328861</td>\n",
       "      <td>0.116852</td>\n",
       "      <td>-6.392668</td>\n",
       "      <td>0.328821</td>\n",
       "      <td>0.116842</td>\n",
       "      <td>6.392669</td>\n",
       "      <td>-6.392669</td>\n",
       "    </tr>\n",
       "    <tr>\n",
       "      <th>1</th>\n",
       "      <td>3</td>\n",
       "      <td>-0.466158</td>\n",
       "      <td>0.844786</td>\n",
       "      <td>0.000000</td>\n",
       "      <td>-0.576554</td>\n",
       "      <td>1.176875</td>\n",
       "      <td>-0.000000</td>\n",
       "      <td>0.000000</td>\n",
       "    </tr>\n",
       "    <tr>\n",
       "      <th>2</th>\n",
       "      <td>4</td>\n",
       "      <td>0.611098</td>\n",
       "      <td>0.068869</td>\n",
       "      <td>-7.950943</td>\n",
       "      <td>0.611046</td>\n",
       "      <td>0.068872</td>\n",
       "      <td>7.950943</td>\n",
       "      <td>-7.950943</td>\n",
       "    </tr>\n",
       "    <tr>\n",
       "      <th>3</th>\n",
       "      <td>5</td>\n",
       "      <td>0.214286</td>\n",
       "      <td>5.286248</td>\n",
       "      <td>-1.386294</td>\n",
       "      <td>0.214286</td>\n",
       "      <td>5.020193</td>\n",
       "      <td>1.386294</td>\n",
       "      <td>-1.386294</td>\n",
       "    </tr>\n",
       "    <tr>\n",
       "      <th>4</th>\n",
       "      <td>6</td>\n",
       "      <td>0.408515</td>\n",
       "      <td>8.274810</td>\n",
       "      <td>0.000000</td>\n",
       "      <td>0.412874</td>\n",
       "      <td>9.383481</td>\n",
       "      <td>-0.000000</td>\n",
       "      <td>0.000000</td>\n",
       "    </tr>\n",
       "  </tbody>\n",
       "</table>\n",
       "</div>"
      ],
      "text/plain": [
       "   sub  alpha_joey  beta_joey  log_lik_joey  alpha_lotte  beta_lotte  \\\n",
       "0    2    0.328861   0.116852     -6.392668     0.328821    0.116842   \n",
       "1    3   -0.466158   0.844786      0.000000    -0.576554    1.176875   \n",
       "2    4    0.611098   0.068869     -7.950943     0.611046    0.068872   \n",
       "3    5    0.214286   5.286248     -1.386294     0.214286    5.020193   \n",
       "4    6    0.408515   8.274810      0.000000     0.412874    9.383481   \n",
       "\n",
       "        NLL  log_lik_lotte  \n",
       "0  6.392669      -6.392669  \n",
       "1 -0.000000       0.000000  \n",
       "2  7.950943      -7.950943  \n",
       "3  1.386294      -1.386294  \n",
       "4 -0.000000       0.000000  "
      ]
     },
     "execution_count": 53,
     "metadata": {},
     "output_type": "execute_result"
    }
   ],
   "source": [
    "model_fits_joeylotte.head()"
   ]
  },
  {
   "cell_type": "code",
   "execution_count": 54,
   "metadata": {},
   "outputs": [
    {
     "data": {
      "text/plain": [
       "<matplotlib.axes._subplots.AxesSubplot at 0x1280b15e0>"
      ]
     },
     "execution_count": 54,
     "metadata": {},
     "output_type": "execute_result"
    },
    {
     "data": {
      "image/png": "[encoded data removed]",
      "text/plain": [
       "<Figure size 432x288 with 1 Axes>"
      ]
     },
     "metadata": {
      "needs_background": "light"
     },
     "output_type": "display_data"
    }
   ],
   "source": [
    "sns.scatterplot(model_fits_joeylotte['alpha_joey'],\n",
    "                model_fits_joeylotte['alpha_lotte'])"
   ]
  },
  {
   "cell_type": "code",
   "execution_count": 55,
   "metadata": {},
   "outputs": [
    {
     "data": {
      "text/plain": [
       "<matplotlib.axes._subplots.AxesSubplot at 0x127df6bb0>"
      ]
     },
     "execution_count": 55,
     "metadata": {},
     "output_type": "execute_result"
    },
    {
     "data": {
      "image/png": "[encoded data removed]",
      "text/plain": [
       "<Figure size 432x288 with 1 Axes>"
      ]
     },
     "metadata": {
      "needs_background": "light"
     },
     "output_type": "display_data"
    }
   ],
   "source": [
    "sns.scatterplot(model_fits_joeylotte['beta_joey'],\n",
    "                model_fits_joeylotte['beta_lotte'])"
   ]
  },
  {
   "cell_type": "markdown",
   "metadata": {},
   "source": [
    "This looks pretty good: it seems like the subjects with alpha > 0 gave consistent results, while subjects with alpha < 0 gave erratic estimates for alpha. This means that alpha is not as well interpretable with < 0 values, which we can also conclude by reasoning about the model since all different alpha < 0 will yield the same result where the subject always accepts an UG offer."
   ]
  },
  {
   "cell_type": "markdown",
   "metadata": {},
   "source": [
    "Actually going back to the original Fehr & Schmidt (1999) paper, where the IA model is proposed, they say alpha must be >= 0."
   ]
  },
  {
   "cell_type": "markdown",
   "metadata": {},
   "source": [
    "So if we wanted, we could run the model again with that constraint."
   ]
  },
  {
   "cell_type": "markdown",
   "metadata": {},
   "source": [
    "##### Summary: how to deal with unreliable parameter fits?"
   ]
  },
  {
   "cell_type": "markdown",
   "metadata": {},
   "source": [
    "1. Run the model more times to avoid local maxima.\n",
    "2. Apply boundaries to the model parameters, based on the theory behind the model or simulations of the model. E.g. Capping beta at 10, or writing the model such that alpha is between 0 and 1 with 0 meaning only caring about payoff and 1 meaning only caring about inequity.\n",
    "3. Run parameter recovery to test if the fits are reliable or not."
   ]
  },
  {
   "cell_type": "markdown",
   "metadata": {},
   "source": [
    "## Parameter recovery"
   ]
  },
  {
   "cell_type": "markdown",
   "metadata": {},
   "source": [
    "##### Logic:"
   ]
  },
  {
   "cell_type": "markdown",
   "metadata": {},
   "source": [
    "1. Create a 'ground truth' model for which you KNOW the parameter values.\n",
    "2. Simulate data from that ground truth model.\n",
    "3. Fit your model to the simulated data to see if you can RECOVER the known parameters."
   ]
  },
  {
   "cell_type": "code",
   "execution_count": 81,
   "metadata": {},
   "outputs": [],
   "source": [
    "# Step 1: pick some ground truth alphas and betas\n",
    "alpha = 1\n",
    "beta = 2"
   ]
  },
  {
   "cell_type": "code",
   "execution_count": 82,
   "metadata": {},
   "outputs": [
    {
     "data": {
      "text/html": [
       "<div>\n",
       "<style scoped>\n",
       "    .dataframe tbody tr th:only-of-type {\n",
       "        vertical-align: middle;\n",
       "    }\n",
       "\n",
       "    .dataframe tbody tr th {\n",
       "        vertical-align: top;\n",
       "    }\n",
       "\n",
       "    .dataframe thead th {\n",
       "        text-align: right;\n",
       "    }\n",
       "</style>\n",
       "<table border=\"1\" class=\"dataframe\">\n",
       "  <thead>\n",
       "    <tr style=\"text-align: right;\">\n",
       "      <th></th>\n",
       "      <th>trial</th>\n",
       "      <th>offer</th>\n",
       "      <th>probability_accept</th>\n",
       "      <th>choice</th>\n",
       "    </tr>\n",
       "  </thead>\n",
       "  <tbody>\n",
       "    <tr>\n",
       "      <th>0</th>\n",
       "      <td>1</td>\n",
       "      <td>40</td>\n",
       "      <td>1.000000e+00</td>\n",
       "      <td>0</td>\n",
       "    </tr>\n",
       "    <tr>\n",
       "      <th>1</th>\n",
       "      <td>2</td>\n",
       "      <td>45</td>\n",
       "      <td>1.000000e+00</td>\n",
       "      <td>0</td>\n",
       "    </tr>\n",
       "    <tr>\n",
       "      <th>2</th>\n",
       "      <td>3</td>\n",
       "      <td>15</td>\n",
       "      <td>1.688912e-48</td>\n",
       "      <td>1</td>\n",
       "    </tr>\n",
       "    <tr>\n",
       "      <th>3</th>\n",
       "      <td>4</td>\n",
       "      <td>5</td>\n",
       "      <td>1.478898e-74</td>\n",
       "      <td>1</td>\n",
       "    </tr>\n",
       "    <tr>\n",
       "      <th>4</th>\n",
       "      <td>5</td>\n",
       "      <td>35</td>\n",
       "      <td>9.999546e-01</td>\n",
       "      <td>0</td>\n",
       "    </tr>\n",
       "  </tbody>\n",
       "</table>\n",
       "</div>"
      ],
      "text/plain": [
       "   trial  offer  probability_accept  choice\n",
       "0      1     40        1.000000e+00       0\n",
       "1      2     45        1.000000e+00       0\n",
       "2      3     15        1.688912e-48       1\n",
       "3      4      5        1.478898e-74       1\n",
       "4      5     35        9.999546e-01       0"
      ]
     },
     "execution_count": 82,
     "metadata": {},
     "output_type": "execute_result"
    }
   ],
   "source": [
    "# Step 2: simulate data\n",
    "sim_data = simulate_data(sub_data, alpha, beta, evaluate_choices = True)\n",
    "sim_data.head()"
   ]
  },
  {
   "cell_type": "code",
   "execution_count": 85,
   "metadata": {},
   "outputs": [
    {
     "data": {
      "text/plain": [
       "<matplotlib.axes._subplots.AxesSubplot at 0x127de5af0>"
      ]
     },
     "execution_count": 85,
     "metadata": {},
     "output_type": "execute_result"
    },
    {
     "data": {
      "image/png": "[encoded data removed]",
      "text/plain": [
       "<Figure size 432x288 with 1 Axes>"
      ]
     },
     "metadata": {
      "needs_background": "light"
     },
     "output_type": "display_data"
    }
   ],
   "source": [
    "sns.scatterplot(data = sim_data, x = 'offer', y = 'choice')"
   ]
  },
  {
   "cell_type": "code",
   "execution_count": 90,
   "metadata": {
    "scrolled": true
   },
   "outputs": [
    {
     "name": "stdout",
     "output_type": "stream",
     "text": [
      "Optimization terminated successfully.\n",
      "         Current function value: -0.000000\n",
      "         Iterations: 40\n",
      "         Function evaluations: 104\n",
      "Optimization terminated successfully.\n",
      "         Current function value: -0.000000\n",
      "         Iterations: 59\n",
      "         Function evaluations: 139\n",
      "Optimization terminated successfully.\n",
      "         Current function value: -0.000000\n",
      "         Iterations: 49\n",
      "         Function evaluations: 122\n",
      "Optimization terminated successfully.\n",
      "         Current function value: -0.000000\n",
      "         Iterations: 35\n",
      "         Function evaluations: 97\n",
      "Optimization terminated successfully.\n",
      "         Current function value: -0.000000\n",
      "         Iterations: 53\n",
      "         Function evaluations: 132\n",
      "Optimization terminated successfully.\n",
      "         Current function value: -0.000000\n",
      "         Iterations: 41\n",
      "         Function evaluations: 104\n",
      "Optimization terminated successfully.\n",
      "         Current function value: -0.000000\n",
      "         Iterations: 77\n",
      "         Function evaluations: 172\n",
      "Optimization terminated successfully.\n",
      "         Current function value: -0.000000\n",
      "         Iterations: 35\n",
      "         Function evaluations: 97\n",
      "Optimization terminated successfully.\n",
      "         Current function value: -0.000000\n",
      "         Iterations: 33\n",
      "         Function evaluations: 93\n",
      "Optimization terminated successfully.\n",
      "         Current function value: -0.000000\n",
      "         Iterations: 46\n",
      "         Function evaluations: 112\n"
     ]
    }
   ],
   "source": [
    "# Step 3: fit model to these simulated data\n",
    "n_iter = 10\n",
    "objective_function = lambda params: compute_negloglike(params, sim_data)\n",
    "fit_results = pd.DataFrame()\n",
    "for i in range(n_iter):\n",
    "    x0 = np.random.rand(2)\n",
    "    out = scipy.optimize.fmin(objective_function, x0, full_output=True)\n",
    "    best_params, best_NLL = out[:2]\n",
    "    fit_results = fit_results.append(pd.DataFrame([[i, best_params[0], best_params[1], best_NLL]],\n",
    "                                     columns = ['iteration','alpha','beta','best_NLL']))"
   ]
  },
  {
   "cell_type": "code",
   "execution_count": 91,
   "metadata": {},
   "outputs": [
    {
     "name": "stdout",
     "output_type": "stream",
     "text": [
      "-0.0\n"
     ]
    }
   ],
   "source": [
    "best_NLL = np.min(fit_results['best_NLL'])\n",
    "print(best_NLL)"
   ]
  },
  {
   "cell_type": "code",
   "execution_count": 92,
   "metadata": {},
   "outputs": [],
   "source": [
    "best_solutions = fit_results.query('best_NLL == @best_NLL').copy()"
   ]
  },
  {
   "cell_type": "code",
   "execution_count": 100,
   "metadata": {},
   "outputs": [
    {
     "data": {
      "text/html": [
       "<div>\n",
       "<style scoped>\n",
       "    .dataframe tbody tr th:only-of-type {\n",
       "        vertical-align: middle;\n",
       "    }\n",
       "\n",
       "    .dataframe tbody tr th {\n",
       "        vertical-align: top;\n",
       "    }\n",
       "\n",
       "    .dataframe thead th {\n",
       "        text-align: right;\n",
       "    }\n",
       "</style>\n",
       "<table border=\"1\" class=\"dataframe\">\n",
       "  <thead>\n",
       "    <tr style=\"text-align: right;\">\n",
       "      <th></th>\n",
       "      <th>iteration</th>\n",
       "      <th>alpha</th>\n",
       "      <th>beta</th>\n",
       "      <th>best_NLL</th>\n",
       "    </tr>\n",
       "  </thead>\n",
       "  <tbody>\n",
       "    <tr>\n",
       "      <th>0</th>\n",
       "      <td>0</td>\n",
       "      <td>0.864507</td>\n",
       "      <td>8.344201</td>\n",
       "      <td>-0.0</td>\n",
       "    </tr>\n",
       "    <tr>\n",
       "      <th>0</th>\n",
       "      <td>1</td>\n",
       "      <td>0.924663</td>\n",
       "      <td>7.022454</td>\n",
       "      <td>-0.0</td>\n",
       "    </tr>\n",
       "    <tr>\n",
       "      <th>0</th>\n",
       "      <td>2</td>\n",
       "      <td>0.948115</td>\n",
       "      <td>5.900576</td>\n",
       "      <td>-0.0</td>\n",
       "    </tr>\n",
       "    <tr>\n",
       "      <th>0</th>\n",
       "      <td>3</td>\n",
       "      <td>0.897796</td>\n",
       "      <td>6.494606</td>\n",
       "      <td>-0.0</td>\n",
       "    </tr>\n",
       "    <tr>\n",
       "      <th>0</th>\n",
       "      <td>4</td>\n",
       "      <td>0.937512</td>\n",
       "      <td>7.862938</td>\n",
       "      <td>-0.0</td>\n",
       "    </tr>\n",
       "  </tbody>\n",
       "</table>\n",
       "</div>"
      ],
      "text/plain": [
       "   iteration     alpha      beta  best_NLL\n",
       "0          0  0.864507  8.344201      -0.0\n",
       "0          1  0.924663  7.022454      -0.0\n",
       "0          2  0.948115  5.900576      -0.0\n",
       "0          3  0.897796  6.494606      -0.0\n",
       "0          4  0.937512  7.862938      -0.0"
      ]
     },
     "execution_count": 100,
     "metadata": {},
     "output_type": "execute_result"
    }
   ],
   "source": [
    "best_solutions.head()"
   ]
  },
  {
   "cell_type": "code",
   "execution_count": 97,
   "metadata": {},
   "outputs": [
    {
     "data": {
      "text/plain": [
       "<matplotlib.collections.PathCollection at 0x1280bddc0>"
      ]
     },
     "execution_count": 97,
     "metadata": {},
     "output_type": "execute_result"
    },
    {
     "data": {
      "image/png": "[encoded data removed]",
      "text/plain": [
       "<Figure size 432x288 with 1 Axes>"
      ]
     },
     "metadata": {
      "needs_background": "light"
     },
     "output_type": "display_data"
    }
   ],
   "source": [
    "sns.scatterplot(data = best_solutions, x = 'alpha', y = 'beta')\n",
    "plt.xlim([0,10]); plt.ylim([0,10]);\n",
    "plt.scatter(alpha,beta)"
   ]
  },
  {
   "cell_type": "code",
   "execution_count": 103,
   "metadata": {},
   "outputs": [
    {
     "data": {
      "text/plain": [
       "iteration    0.000000\n",
       "alpha        0.864507\n",
       "beta         8.344201\n",
       "best_NLL    -0.000000\n",
       "Name: 0, dtype: float64"
      ]
     },
     "execution_count": 103,
     "metadata": {},
     "output_type": "execute_result"
    }
   ],
   "source": [
    "best_solution = best_solutions.iloc[0]\n",
    "best_solution"
   ]
  },
  {
   "cell_type": "code",
   "execution_count": 107,
   "metadata": {},
   "outputs": [],
   "source": [
    "sim_best = simulate_data(sub_data, best_solution['alpha'], best_solution['beta'], evaluate_choices=True)"
   ]
  },
  {
   "cell_type": "code",
   "execution_count": 108,
   "metadata": {},
   "outputs": [
    {
     "data": {
      "text/plain": [
       "<matplotlib.collections.PathCollection at 0x128d973d0>"
      ]
     },
     "execution_count": 108,
     "metadata": {},
     "output_type": "execute_result"
    },
    {
     "data": {
      "image/png": "[encoded data removed]",
      "text/plain": [
       "<Figure size 720x288 with 2 Axes>"
      ]
     },
     "metadata": {
      "needs_background": "light"
     },
     "output_type": "display_data"
    }
   ],
   "source": [
    "fig,ax = plt.subplots(nrows = 1, ncols = 2, figsize = [10,4])\n",
    "ax[0].scatter(sim_data['offer'], sim_data['choice'])\n",
    "ax[1].scatter(sim_best['offer'], sim_best['choice'])"
   ]
  },
  {
   "cell_type": "markdown",
   "metadata": {},
   "source": [
    "The parameters don't fit exactly but the data is the same... we therefore need more data in our experiment to get a more precise match of recovered to true parameters!"
   ]
  },
  {
   "cell_type": "code",
   "execution_count": 113,
   "metadata": {},
   "outputs": [
    {
     "data": {
      "text/html": [
       "<div>\n",
       "<style scoped>\n",
       "    .dataframe tbody tr th:only-of-type {\n",
       "        vertical-align: middle;\n",
       "    }\n",
       "\n",
       "    .dataframe tbody tr th {\n",
       "        vertical-align: top;\n",
       "    }\n",
       "\n",
       "    .dataframe thead th {\n",
       "        text-align: right;\n",
       "    }\n",
       "</style>\n",
       "<table border=\"1\" class=\"dataframe\">\n",
       "  <thead>\n",
       "    <tr style=\"text-align: right;\">\n",
       "      <th></th>\n",
       "      <th>trial</th>\n",
       "      <th>offer</th>\n",
       "      <th>probability_accept</th>\n",
       "      <th>choice</th>\n",
       "    </tr>\n",
       "  </thead>\n",
       "  <tbody>\n",
       "    <tr>\n",
       "      <th>0</th>\n",
       "      <td>1</td>\n",
       "      <td>40</td>\n",
       "      <td>1.000000e+00</td>\n",
       "      <td>0</td>\n",
       "    </tr>\n",
       "    <tr>\n",
       "      <th>1</th>\n",
       "      <td>2</td>\n",
       "      <td>45</td>\n",
       "      <td>1.000000e+00</td>\n",
       "      <td>0</td>\n",
       "    </tr>\n",
       "    <tr>\n",
       "      <th>2</th>\n",
       "      <td>3</td>\n",
       "      <td>15</td>\n",
       "      <td>1.688912e-48</td>\n",
       "      <td>1</td>\n",
       "    </tr>\n",
       "    <tr>\n",
       "      <th>3</th>\n",
       "      <td>4</td>\n",
       "      <td>5</td>\n",
       "      <td>1.478898e-74</td>\n",
       "      <td>1</td>\n",
       "    </tr>\n",
       "    <tr>\n",
       "      <th>4</th>\n",
       "      <td>5</td>\n",
       "      <td>35</td>\n",
       "      <td>9.999546e-01</td>\n",
       "      <td>0</td>\n",
       "    </tr>\n",
       "  </tbody>\n",
       "</table>\n",
       "</div>"
      ],
      "text/plain": [
       "   trial  offer  probability_accept  choice\n",
       "0      1     40        1.000000e+00       0\n",
       "1      2     45        1.000000e+00       0\n",
       "2      3     15        1.688912e-48       1\n",
       "3      4      5        1.478898e-74       1\n",
       "4      5     35        9.999546e-01       0"
      ]
     },
     "execution_count": 113,
     "metadata": {},
     "output_type": "execute_result"
    }
   ],
   "source": [
    "# Step 2: simulate data\n",
    "sim_data = pd.DataFrame()\n",
    "for n_experiments in range(100):\n",
    "    to_append = simulate_data(sub_data, alpha, beta, evaluate_choices = True)\n",
    "    sim_data = sim_data.append(to_append)\n",
    "sim_data.head()"
   ]
  },
  {
   "cell_type": "code",
   "execution_count": 114,
   "metadata": {
    "scrolled": true
   },
   "outputs": [
    {
     "name": "stdout",
     "output_type": "stream",
     "text": [
      "Optimization terminated successfully.\n",
      "         Current function value: -0.000000\n",
      "         Iterations: 57\n",
      "         Function evaluations: 134\n",
      "Optimization terminated successfully.\n",
      "         Current function value: -0.000000\n",
      "         Iterations: 50\n",
      "         Function evaluations: 124\n",
      "Optimization terminated successfully.\n",
      "         Current function value: -0.000000\n",
      "         Iterations: 56\n",
      "         Function evaluations: 137\n",
      "Optimization terminated successfully.\n",
      "         Current function value: -0.000000\n",
      "         Iterations: 47\n",
      "         Function evaluations: 120\n",
      "Optimization terminated successfully.\n",
      "         Current function value: -0.000000\n",
      "         Iterations: 57\n",
      "         Function evaluations: 140\n",
      "Optimization terminated successfully.\n",
      "         Current function value: -0.000000\n",
      "         Iterations: 53\n",
      "         Function evaluations: 126\n",
      "Optimization terminated successfully.\n",
      "         Current function value: -0.000000\n",
      "         Iterations: 35\n",
      "         Function evaluations: 96\n",
      "Optimization terminated successfully.\n",
      "         Current function value: -0.000000\n",
      "         Iterations: 44\n",
      "         Function evaluations: 105\n",
      "Optimization terminated successfully.\n",
      "         Current function value: -0.000000\n",
      "         Iterations: 56\n",
      "         Function evaluations: 133\n",
      "Optimization terminated successfully.\n",
      "         Current function value: -0.000000\n",
      "         Iterations: 49\n",
      "         Function evaluations: 122\n"
     ]
    }
   ],
   "source": [
    "# Step 3: fit model to these simulated data\n",
    "n_iter = 10\n",
    "objective_function = lambda params: compute_negloglike(params, sim_data)\n",
    "fit_results = pd.DataFrame()\n",
    "for i in range(n_iter):\n",
    "    x0 = np.random.rand(2)\n",
    "    out = scipy.optimize.fmin(objective_function, x0, full_output=True)\n",
    "    best_params, best_NLL = out[:2]\n",
    "    fit_results = fit_results.append(pd.DataFrame([[i, best_params[0], best_params[1], best_NLL]],\n",
    "                                     columns = ['iteration','alpha','beta','best_NLL']))"
   ]
  },
  {
   "cell_type": "code",
   "execution_count": 115,
   "metadata": {},
   "outputs": [],
   "source": [
    "best_solutions = fit_results.query('best_NLL == @best_NLL').copy()"
   ]
  },
  {
   "cell_type": "code",
   "execution_count": 116,
   "metadata": {},
   "outputs": [
    {
     "data": {
      "text/plain": [
       "<matplotlib.collections.PathCollection at 0x1292ce550>"
      ]
     },
     "execution_count": 116,
     "metadata": {},
     "output_type": "execute_result"
    },
    {
     "data": {
      "image/png": "[encoded data removed]",
      "text/plain": [
       "<Figure size 432x288 with 1 Axes>"
      ]
     },
     "metadata": {
      "needs_background": "light"
     },
     "output_type": "display_data"
    }
   ],
   "source": [
    "sns.scatterplot(data = best_solutions, x = 'alpha', y = 'beta')\n",
    "plt.xlim([0,10]); plt.ylim([0,10]);\n",
    "plt.scatter(alpha,beta)"
   ]
  },
  {
   "cell_type": "code",
   "execution_count": 119,
   "metadata": {},
   "outputs": [],
   "source": [
    "sim_data_agg = sim_data.groupby(['offer'], as_index=False).mean()"
   ]
  },
  {
   "cell_type": "code",
   "execution_count": 120,
   "metadata": {},
   "outputs": [
    {
     "data": {
      "text/plain": [
       "<matplotlib.axes._subplots.AxesSubplot at 0x1297aa160>"
      ]
     },
     "execution_count": 120,
     "metadata": {},
     "output_type": "execute_result"
    },
    {
     "data": {
      "image/png": "[encoded data removed]",
      "text/plain": [
       "<Figure size 432x288 with 1 Axes>"
      ]
     },
     "metadata": {
      "needs_background": "light"
     },
     "output_type": "display_data"
    }
   ],
   "source": [
    "sns.scatterplot(data = sim_data_agg, x = 'offer', y = 'choice')"
   ]
  },
  {
   "cell_type": "markdown",
   "metadata": {},
   "source": [
    "##### Let's try other alphas and betas"
   ]
  },
  {
   "cell_type": "code",
   "execution_count": 134,
   "metadata": {},
   "outputs": [
    {
     "data": {
      "text/plain": [
       "(array([0. , 0.4, 0.8, 1.2, 1.6]), array([0. , 0.2, 0.4, 0.6, 0.8]))"
      ]
     },
     "execution_count": 134,
     "metadata": {},
     "output_type": "execute_result"
    }
   ],
   "source": [
    "alphas = np.arange(0,2,.4)\n",
    "betas = np.arange(0,1,.2)\n",
    "alphas, betas"
   ]
  },
  {
   "cell_type": "code",
   "execution_count": 135,
   "metadata": {
    "scrolled": true
   },
   "outputs": [
    {
     "name": "stdout",
     "output_type": "stream",
     "text": [
      "0.0\n",
      "Optimization terminated successfully.\n",
      "         Current function value: 13.612110\n",
      "         Iterations: 70\n",
      "         Function evaluations: 129\n",
      "Optimization terminated successfully.\n",
      "         Current function value: 2.989885\n",
      "         Iterations: 52\n",
      "         Function evaluations: 97\n",
      "Optimization terminated successfully.\n",
      "         Current function value: -0.000000\n",
      "         Iterations: 22\n",
      "         Function evaluations: 70\n"
     ]
    },
    {
     "name": "stderr",
     "output_type": "stream",
     "text": [
      "<ipython-input-6-be67f20bb439>:3: RuntimeWarning: overflow encountered in exp\n",
      "  probs = (np.exp(np.multiply(utilities, beta)) /\n",
      "<ipython-input-6-be67f20bb439>:4: RuntimeWarning: overflow encountered in exp\n",
      "  (np.sum(np.exp(np.multiply(utilities, beta)))))\n",
      "<ipython-input-6-be67f20bb439>:3: RuntimeWarning: invalid value encountered in true_divide\n",
      "  probs = (np.exp(np.multiply(utilities, beta)) /\n"
     ]
    },
    {
     "name": "stdout",
     "output_type": "stream",
     "text": [
      "Optimization terminated successfully.\n",
      "         Current function value: 0.000000\n",
      "         Iterations: 49\n",
      "         Function evaluations: 112\n",
      "Optimization terminated successfully.\n",
      "         Current function value: -0.000000\n",
      "         Iterations: 25\n",
      "         Function evaluations: 75\n",
      "0.4\n",
      "Warning: Maximum number of function evaluations has been exceeded.\n",
      "Optimization terminated successfully.\n",
      "         Current function value: 6.392669\n",
      "         Iterations: 32\n",
      "         Function evaluations: 62\n",
      "Optimization terminated successfully.\n",
      "         Current function value: 1.386294\n",
      "         Iterations: 147\n",
      "         Function evaluations: 295\n",
      "Optimization terminated successfully.\n",
      "         Current function value: -0.000000\n",
      "         Iterations: 51\n",
      "         Function evaluations: 125\n",
      "Optimization terminated successfully.\n",
      "         Current function value: -0.000000\n",
      "         Iterations: 44\n",
      "         Function evaluations: 114\n",
      "0.8\n",
      "Optimization terminated successfully.\n",
      "         Current function value: 13.753498\n",
      "         Iterations: 56\n",
      "         Function evaluations: 108\n",
      "Optimization terminated successfully.\n",
      "         Current function value: -0.000000\n",
      "         Iterations: 58\n",
      "         Function evaluations: 138\n",
      "Optimization terminated successfully.\n",
      "         Current function value: -0.000000\n",
      "         Iterations: 50\n",
      "         Function evaluations: 122\n",
      "Optimization terminated successfully.\n",
      "         Current function value: -0.000000\n",
      "         Iterations: 78\n",
      "         Function evaluations: 176\n",
      "Optimization terminated successfully.\n",
      "         Current function value: 1.386294\n",
      "         Iterations: 114\n",
      "         Function evaluations: 229\n",
      "1.2000000000000002\n",
      "Optimization terminated successfully.\n",
      "         Current function value: 11.067387\n",
      "         Iterations: 47\n",
      "         Function evaluations: 89\n",
      "Optimization terminated successfully.\n",
      "         Current function value: -0.000000\n",
      "         Iterations: 35\n",
      "         Function evaluations: 93\n",
      "Optimization terminated successfully.\n",
      "         Current function value: 1.386294\n",
      "         Iterations: 105\n",
      "         Function evaluations: 217\n",
      "Optimization terminated successfully.\n",
      "         Current function value: 1.386294\n",
      "         Iterations: 115\n",
      "         Function evaluations: 231\n",
      "Optimization terminated successfully.\n",
      "         Current function value: -0.000000\n",
      "         Iterations: 54\n",
      "         Function evaluations: 132\n",
      "1.6\n",
      "Optimization terminated successfully.\n",
      "         Current function value: 13.862944\n",
      "         Iterations: 41\n",
      "         Function evaluations: 74\n",
      "Optimization terminated successfully.\n",
      "         Current function value: -0.000000\n",
      "         Iterations: 85\n",
      "         Function evaluations: 182\n",
      "Optimization terminated successfully.\n",
      "         Current function value: -0.000000\n",
      "         Iterations: 59\n",
      "         Function evaluations: 138\n",
      "Optimization terminated successfully.\n",
      "         Current function value: -0.000000\n",
      "         Iterations: 36\n",
      "         Function evaluations: 95\n",
      "Optimization terminated successfully.\n",
      "         Current function value: -0.000000\n",
      "         Iterations: 43\n",
      "         Function evaluations: 108\n"
     ]
    }
   ],
   "source": [
    "n_iter = 1\n",
    "recovery_results = pd.DataFrame()\n",
    "for alpha in alphas:\n",
    "    print(alpha)\n",
    "    for beta in betas:\n",
    "        sim_data = simulate_data(sub_data, alpha, beta, evaluate_choices=True)\n",
    "        # Fit the model\n",
    "        objective_function = lambda params: compute_negloglike(params, sim_data)\n",
    "        fit_results = pd.DataFrame()\n",
    "        for i in range(n_iter):\n",
    "            x0 = np.random.rand(2)\n",
    "            out = scipy.optimize.fmin(objective_function, x0, full_output=True)\n",
    "            best_params, best_NLL = out[:2]\n",
    "            fit_results = fit_results.append(pd.DataFrame([[i, best_params[0], best_params[1], best_NLL]],\n",
    "                                             columns = ['iteration','alpha','beta','best_NLL']))\n",
    "        to_append = pd.DataFrame([[alpha, beta, best_params[0], best_params[1], best_NLL]],\n",
    "                                 columns = ['true_alpha','true_beta','recov_alpha','recov_beta','NLL'])\n",
    "        recovery_results = recovery_results.append(to_append)"
   ]
  },
  {
   "cell_type": "code",
   "execution_count": 136,
   "metadata": {},
   "outputs": [
    {
     "data": {
      "text/html": [
       "<div>\n",
       "<style scoped>\n",
       "    .dataframe tbody tr th:only-of-type {\n",
       "        vertical-align: middle;\n",
       "    }\n",
       "\n",
       "    .dataframe tbody tr th {\n",
       "        vertical-align: top;\n",
       "    }\n",
       "\n",
       "    .dataframe thead th {\n",
       "        text-align: right;\n",
       "    }\n",
       "</style>\n",
       "<table border=\"1\" class=\"dataframe\">\n",
       "  <thead>\n",
       "    <tr style=\"text-align: right;\">\n",
       "      <th></th>\n",
       "      <th>true_alpha</th>\n",
       "      <th>true_beta</th>\n",
       "      <th>recov_alpha</th>\n",
       "      <th>recov_beta</th>\n",
       "      <th>NLL</th>\n",
       "    </tr>\n",
       "  </thead>\n",
       "  <tbody>\n",
       "    <tr>\n",
       "      <th>0</th>\n",
       "      <td>0.0</td>\n",
       "      <td>0.0</td>\n",
       "      <td>1.831907</td>\n",
       "      <td>0.003709</td>\n",
       "      <td>1.361211e+01</td>\n",
       "    </tr>\n",
       "    <tr>\n",
       "      <th>0</th>\n",
       "      <td>0.0</td>\n",
       "      <td>0.2</td>\n",
       "      <td>-0.024639</td>\n",
       "      <td>0.158340</td>\n",
       "      <td>2.989885e+00</td>\n",
       "    </tr>\n",
       "    <tr>\n",
       "      <th>0</th>\n",
       "      <td>0.0</td>\n",
       "      <td>0.4</td>\n",
       "      <td>-0.497701</td>\n",
       "      <td>1.083268</td>\n",
       "      <td>-0.000000e+00</td>\n",
       "    </tr>\n",
       "    <tr>\n",
       "      <th>0</th>\n",
       "      <td>0.0</td>\n",
       "      <td>0.6</td>\n",
       "      <td>-11.759702</td>\n",
       "      <td>0.666759</td>\n",
       "      <td>6.661338e-15</td>\n",
       "    </tr>\n",
       "    <tr>\n",
       "      <th>0</th>\n",
       "      <td>0.0</td>\n",
       "      <td>0.8</td>\n",
       "      <td>-3.428243</td>\n",
       "      <td>0.839430</td>\n",
       "      <td>-0.000000e+00</td>\n",
       "    </tr>\n",
       "  </tbody>\n",
       "</table>\n",
       "</div>"
      ],
      "text/plain": [
       "   true_alpha  true_beta  recov_alpha  recov_beta           NLL\n",
       "0         0.0        0.0     1.831907    0.003709  1.361211e+01\n",
       "0         0.0        0.2    -0.024639    0.158340  2.989885e+00\n",
       "0         0.0        0.4    -0.497701    1.083268 -0.000000e+00\n",
       "0         0.0        0.6   -11.759702    0.666759  6.661338e-15\n",
       "0         0.0        0.8    -3.428243    0.839430 -0.000000e+00"
      ]
     },
     "execution_count": 136,
     "metadata": {},
     "output_type": "execute_result"
    }
   ],
   "source": [
    "recovery_results.head()"
   ]
  },
  {
   "cell_type": "code",
   "execution_count": 141,
   "metadata": {},
   "outputs": [
    {
     "data": {
      "text/plain": [
       "[<matplotlib.lines.Line2D at 0x12a51ff70>]"
      ]
     },
     "execution_count": 141,
     "metadata": {},
     "output_type": "execute_result"
    },
    {
     "data": {
      "image/png": "[encoded data removed]",
      "text/plain": [
       "<Figure size 432x288 with 1 Axes>"
      ]
     },
     "metadata": {
      "needs_background": "light"
     },
     "output_type": "display_data"
    }
   ],
   "source": [
    "sns.scatterplot(data = recovery_results.query('recov_alpha < 2 and true_alpha > 0'),\n",
    "                x = 'true_alpha', y = 'recov_alpha')\n",
    "plt.plot([0,1],[0,1],'k:')"
   ]
  },
  {
   "cell_type": "code",
   "execution_count": 138,
   "metadata": {},
   "outputs": [
    {
     "data": {
      "text/plain": [
       "[<matplotlib.lines.Line2D at 0x12a388fa0>]"
      ]
     },
     "execution_count": 138,
     "metadata": {},
     "output_type": "execute_result"
    },
    {
     "data": {
      "image/png": "[encoded data removed]",
      "text/plain": [
       "<Figure size 432x288 with 1 Axes>"
      ]
     },
     "metadata": {
      "needs_background": "light"
     },
     "output_type": "display_data"
    }
   ],
   "source": [
    "sns.scatterplot(data = recovery_results.query('recov_alpha < 2 and true_alpha > 0'),\n",
    "                x = 'true_beta', y = 'recov_beta')\n",
    "plt.plot([0,10],[0,10],'k:')"
   ]
  },
  {
   "cell_type": "markdown",
   "metadata": {},
   "source": [
    "So it looks like, barring the known issues at alpha == 0, both alpha and beta can be recovered well even though we only have 20 trials in our experiment."
   ]
  },
  {
   "cell_type": "markdown",
   "metadata": {},
   "source": [
    "HOMEWORK: FIGURE THIS OUT!"
   ]
  },
  {
   "cell_type": "code",
   "execution_count": null,
   "metadata": {},
   "outputs": [],
   "source": []
  },
  {
   "cell_type": "code",
   "execution_count": null,
   "metadata": {},
   "outputs": [],
   "source": []
  },
  {
   "cell_type": "markdown",
   "metadata": {},
   "source": [
    "## Next:"
   ]
  },
  {
   "cell_type": "markdown",
   "metadata": {},
   "source": [
    "1. Talk about model comparison between model classes (first inequity aversion model vs random choice model using log likelihood, then if we want hidden multiplier trust game social preference models using sum of squared error)\n",
    "2. Summarize what we've seen so far. Take a step back and talk about why it's useful what we've done and what we're still lacking. What do we still need?\n",
    "3. Other model types - RL, DDM etc"
   ]
  },
  {
   "cell_type": "code",
   "execution_count": null,
   "metadata": {},
   "outputs": [],
   "source": []
  }
 ],
 "metadata": {
  "kernelspec": {
   "display_name": "Python 3",
   "language": "python",
   "name": "python3"
  },
  "language_info": {
   "codemirror_mode": {
    "name": "ipython",
    "version": 3
   },
   "file_extension": ".py",
   "mimetype": "text/x-python",
   "name": "python",
   "nbconvert_exporter": "python",
   "pygments_lexer": "ipython3",
   "version": "3.8.1"
  }
 },
 "nbformat": 4,
 "nbformat_minor": 4
}
