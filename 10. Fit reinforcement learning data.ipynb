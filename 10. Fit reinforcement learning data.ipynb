{
 "cells": [
  {
   "cell_type": "code",
   "execution_count": 2,
   "metadata": {},
   "outputs": [],
   "source": [
    "import os, sys, glob, scipy\n",
    "import numpy as np\n",
    "import pandas as pd\n",
    "import matplotlib.pyplot as plt\n",
    "import seaborn as sns\n",
    "import tqdm"
   ]
  },
  {
   "cell_type": "code",
   "execution_count": null,
   "metadata": {},
   "outputs": [],
   "source": []
  },
  {
   "cell_type": "markdown",
   "metadata": {},
   "source": [
    "# Load data"
   ]
  },
  {
   "cell_type": "markdown",
   "metadata": {},
   "source": [
    "# Simulate data"
   ]
  },
  {
   "cell_type": "markdown",
   "metadata": {},
   "source": [
    "## Learning Model"
   ]
  },
  {
   "cell_type": "markdown",
   "metadata": {},
   "source": [
    "The learning model used to generate choices is a simple Rescorla-Wagner (Rescorla & Wagner, 1972) model.\n",
    "\n",
    "$$ Q(action, trial) = Q(action, trial - 1) + \\alpha*prediction_{error}$$\n",
    "$$ prediction_{error} = r(trial-1) - Q(action, trial - 1)$$\n",
    "$$ 0 <= \\alpha <= 1 $$"
   ]
  },
  {
   "cell_type": "markdown",
   "metadata": {},
   "source": [
    "### Softmax"
   ]
  },
  {
   "cell_type": "code",
   "execution_count": 3,
   "metadata": {},
   "outputs": [
    {
     "data": {
      "text/plain": [
       "array([0.5, 0.5])"
      ]
     },
     "execution_count": 3,
     "metadata": {},
     "output_type": "execute_result"
    }
   ],
   "source": [
    "def softmax(q_values, beta):\n",
    "    # Inputs:\n",
    "    #       q_values: value of different actions, often just 2\n",
    "    #       beta: inverse temperature, also known as exploitation parameter\n",
    "    # Outputs:\n",
    "    #       choice_probs: model's predicted probability of actions\n",
    "\n",
    "    # Numerator represents value of utility of single choice\n",
    "    numerator = np.exp(np.multiply(q_values, beta))\n",
    "\n",
    "    # Denominator represents sum of total value of utilities\n",
    "    denominator = np.sum(np.exp(np.multiply(q_values, beta)))\n",
    "    \n",
    "    # Outputs\n",
    "    choice_probs = numerator / denominator\n",
    "        \n",
    "    return choice_probs\n",
    "softmax(np.zeros(2), beta = .1)"
   ]
  },
  {
   "cell_type": "code",
   "execution_count": 4,
   "metadata": {},
   "outputs": [
    {
     "data": {
      "text/html": [
       "<div>\n",
       "<style scoped>\n",
       "    .dataframe tbody tr th:only-of-type {\n",
       "        vertical-align: middle;\n",
       "    }\n",
       "\n",
       "    .dataframe tbody tr th {\n",
       "        vertical-align: top;\n",
       "    }\n",
       "\n",
       "    .dataframe thead th {\n",
       "        text-align: right;\n",
       "    }\n",
       "</style>\n",
       "<table border=\"1\" class=\"dataframe\">\n",
       "  <thead>\n",
       "    <tr style=\"text-align: right;\">\n",
       "      <th></th>\n",
       "      <th>volatility</th>\n",
       "      <th>block</th>\n",
       "      <th>block_trial</th>\n",
       "      <th>exp_trial</th>\n",
       "      <th>prob_reward_left</th>\n",
       "      <th>prob_reward_right</th>\n",
       "      <th>reward_left</th>\n",
       "      <th>reward_right</th>\n",
       "    </tr>\n",
       "  </thead>\n",
       "  <tbody>\n",
       "    <tr>\n",
       "      <th>0</th>\n",
       "      <td>low</td>\n",
       "      <td>1</td>\n",
       "      <td>1</td>\n",
       "      <td>1</td>\n",
       "      <td>0.7</td>\n",
       "      <td>0.3</td>\n",
       "      <td>0</td>\n",
       "      <td>1</td>\n",
       "    </tr>\n",
       "    <tr>\n",
       "      <th>1</th>\n",
       "      <td>low</td>\n",
       "      <td>1</td>\n",
       "      <td>2</td>\n",
       "      <td>2</td>\n",
       "      <td>0.7</td>\n",
       "      <td>0.3</td>\n",
       "      <td>0</td>\n",
       "      <td>0</td>\n",
       "    </tr>\n",
       "    <tr>\n",
       "      <th>2</th>\n",
       "      <td>low</td>\n",
       "      <td>1</td>\n",
       "      <td>3</td>\n",
       "      <td>3</td>\n",
       "      <td>0.7</td>\n",
       "      <td>0.3</td>\n",
       "      <td>1</td>\n",
       "      <td>0</td>\n",
       "    </tr>\n",
       "    <tr>\n",
       "      <th>3</th>\n",
       "      <td>low</td>\n",
       "      <td>1</td>\n",
       "      <td>4</td>\n",
       "      <td>4</td>\n",
       "      <td>0.7</td>\n",
       "      <td>0.3</td>\n",
       "      <td>1</td>\n",
       "      <td>1</td>\n",
       "    </tr>\n",
       "    <tr>\n",
       "      <th>4</th>\n",
       "      <td>low</td>\n",
       "      <td>1</td>\n",
       "      <td>5</td>\n",
       "      <td>5</td>\n",
       "      <td>0.7</td>\n",
       "      <td>0.3</td>\n",
       "      <td>1</td>\n",
       "      <td>0</td>\n",
       "    </tr>\n",
       "  </tbody>\n",
       "</table>\n",
       "</div>"
      ],
      "text/plain": [
       "  volatility block block_trial exp_trial  prob_reward_left  prob_reward_right  \\\n",
       "0        low     1           1         1               0.7                0.3   \n",
       "1        low     1           2         2               0.7                0.3   \n",
       "2        low     1           3         3               0.7                0.3   \n",
       "3        low     1           4         4               0.7                0.3   \n",
       "4        low     1           5         5               0.7                0.3   \n",
       "\n",
       "  reward_left reward_right  \n",
       "0           0            1  \n",
       "1           0            0  \n",
       "2           1            0  \n",
       "3           1            1  \n",
       "4           1            0  "
      ]
     },
     "execution_count": 4,
     "metadata": {},
     "output_type": "execute_result"
    }
   ],
   "source": [
    "def task_parameters(volatility = 'low'): \n",
    "    \n",
    "    # Generate dataframe to store simulated results\n",
    "    sim_exp = pd.DataFrame(columns = ['volatility', 'block', 'block_trial', 'exp_trial', \n",
    "                                       'prob_reward_left', 'prob_reward_right', 'reward_left', 'reward_right'])\n",
    "    \n",
    "    # Trial sequence\n",
    "    block_seq = [[17, 15, 19, 18, 15, 17, 19, 15], # high volatility\n",
    "                [35, 30, 35, 35]] # low volatility\n",
    "    reward_probs_left = [.7, .3] \n",
    "    reward_probs_right = [.3, .7] \n",
    "\n",
    "    if volatility == 'low':\n",
    "        task_blocks = block_seq[1]\n",
    "        block_prob_reward_left = np.array(reward_probs_left*(np.int(len(task_blocks)/2)))\n",
    "        block_prob_reward_right = np.array(reward_probs_right*(np.int(len(task_blocks)/2)))\n",
    "    else: \n",
    "        task_blocks = block_seq[0]\n",
    "        block_prob_reward_left = np.array(reward_probs_left*(np.int(len(task_blocks)/2)))\n",
    "        block_prob_reward_right = np.array(reward_probs_right*(np.int(len(task_blocks)/2)))\n",
    "\n",
    "    # generate trials\n",
    "    trial = 0\n",
    "    for block in range(len(task_blocks)): \n",
    "        block_trial = 0\n",
    "        # Loop through trials of the block\n",
    "        for block_trial in range(task_blocks[block]):\n",
    "            trial += 1\n",
    "            block_trial += 1\n",
    "            \n",
    "            # Generate reward for both choices\n",
    "            prob_reward_left = block_prob_reward_left[block] # pulls correct probability for left\n",
    "            prob_reward_right = block_prob_reward_right[block] # pulls correct probability for right\n",
    "            \n",
    "            # Left choice\n",
    "            if np.random.rand() <= prob_reward_left:\n",
    "                reward_left = 1\n",
    "            else: \n",
    "                reward_left = 0\n",
    "                \n",
    "            # Right choice\n",
    "            if np.random.rand() <= prob_reward_right:\n",
    "                reward_right = 1\n",
    "            else: \n",
    "                reward_right = 0\n",
    "                \n",
    "            # Store results\n",
    "            trial_data = pd.DataFrame([[volatility, block+1, block_trial, trial, \n",
    "                                        prob_reward_left, prob_reward_right, reward_left, reward_right]], \n",
    "                                     columns = ['volatility', 'block', 'block_trial', 'exp_trial', \n",
    "                                       'prob_reward_left', 'prob_reward_right', 'reward_left', 'reward_right'])\n",
    "            sim_exp = sim_exp.append(trial_data).reset_index(drop=True)\n",
    "            \n",
    "    return sim_exp\n",
    "sim_exp = task_parameters(volatility = 'low')\n",
    "sim_exp.head(5)"
   ]
  },
  {
   "cell_type": "markdown",
   "metadata": {},
   "source": [
    "### Reinforcement Learning"
   ]
  },
  {
   "cell_type": "code",
   "execution_count": 5,
   "metadata": {},
   "outputs": [],
   "source": [
    "def rl_simulate(params, sim_exp): \n",
    "    data = sim_exp.copy()\n",
    "    # Initialize parameters\n",
    "    # two alphas? (positive vs negative pes), stickiness? (likelihood of just repeating past action)\n",
    "    # two-step modeling\n",
    "    alpha = params[0] # learning param\n",
    "    beta = params[1] # exploitation param\n",
    "    q_values = [.5, .5] # q-values for left and right choices start at .5\n",
    "    \n",
    "    # Loop over rows in data\n",
    "    for index, row in data.iterrows(): # loop over rows, slow but easy to understand and index\n",
    "        \n",
    "        # Compute probability of chosing left or right\n",
    "        choice_probs = softmax(q_values, beta) \n",
    "        \n",
    "        # Make choice weighted by probabilities\n",
    "        # probabilities given by left, right\n",
    "        if np.random.rand() <= choice_probs[0]:\n",
    "            choice = 'left'\n",
    "            choice_num = 0\n",
    "        else:\n",
    "            choice = 'right'\n",
    "            choice_num = 1\n",
    "\n",
    "                    \n",
    "        # Store (keep above update)      \n",
    "        data.at[index, 'choice'] = choice # useful way to append single values\n",
    "        data.at[index, 'choice_num'] = choice_num\n",
    "        data.at[index, 'prob_left'] = choice_probs[0]\n",
    "        data.at[index, 'prob_right'] = choice_probs[1]\n",
    "        data.at[index, 'q_left'] = q_values[0]\n",
    "        data.at[index, 'q_right'] = q_values[1]\n",
    "        \n",
    "        # Update q_values (to be used on next trial)\n",
    "        # All the magic happens here\n",
    "        if choice == 'left':\n",
    "            pe = row['reward_left'] - q_values[choice_num] # compute pe = reward - q_value['choice']\n",
    "            q_values[choice_num] = q_values[choice_num] + alpha*pe # update value\n",
    "        else:\n",
    "            pe = row['reward_right'] - q_values[choice_num] # compute pe\n",
    "            q_values[choice_num] = q_values[choice_num] + alpha*pe # update value\n",
    "                \n",
    "    # Add final information\n",
    "    data['alpha'] = alpha\n",
    "    data['beta'] = beta\n",
    "    \n",
    "    return data"
   ]
  },
  {
   "cell_type": "markdown",
   "metadata": {},
   "source": [
    "# Fit simulated data"
   ]
  },
  {
   "cell_type": "markdown",
   "metadata": {},
   "source": [
    "Now using the simulated data with alpah and beta 0.5, I need to fit the simulated behavior."
   ]
  },
  {
   "cell_type": "code",
   "execution_count": 6,
   "metadata": {},
   "outputs": [],
   "source": [
    "def rl_simulate_fit(params, data): \n",
    "    \n",
    "    # Initialize parameters\n",
    "    # two alphas? (positive vs negative pes), stickiness? (likelihood of just repeating past action)\n",
    "    # two-step modeling\n",
    "    alpha = params[0] # learning param\n",
    "    beta = params[1] # exploitation param\n",
    "    q_values = [.5, .5] # q-values for left and right choices start at .5\n",
    "    log_likelihood = 0.\n",
    "    \n",
    "    # Loop over rows in data\n",
    "    for index, row in data.iterrows(): # loop over rows, slow but easy to understand and index\n",
    "        \n",
    "        # Compute probability of chosing left or right\n",
    "        choice_probs = softmax(q_values, beta)\n",
    "        \n",
    "        choice = np.int(row['choice_num'])\n",
    "        \n",
    "        rewards = [np.int(row['reward_left']), np.int(row['reward_right'])]\n",
    "        reward = rewards[choice]\n",
    "        \n",
    "        # Update likelihood\n",
    "        log_likelihood += np.log(choice_probs[choice]) # index based on choice \n",
    "\n",
    "        pe = reward - q_values[choice] # compute pe = reward - q_value['choice']\n",
    "        q_values[choice] = q_values[choice] + alpha*pe # update value\n",
    "                 \n",
    "    return -log_likelihood"
   ]
  },
  {
   "cell_type": "code",
   "execution_count": 16,
   "metadata": {
    "scrolled": true
   },
   "outputs": [
    {
     "name": "stderr",
     "output_type": "stream",
     "text": [
      "  5%|██▏                                        | 1/20 [00:03<01:11,  3.79s/it]"
     ]
    },
    {
     "name": "stdout",
     "output_type": "stream",
     "text": [
      "Optimization terminated successfully.\n",
      "         Current function value: 87.359494\n",
      "         Iterations: 58\n",
      "         Function evaluations: 110\n"
     ]
    },
    {
     "name": "stderr",
     "output_type": "stream",
     "text": [
      "\r",
      " 10%|████▎                                      | 2/20 [00:06<01:02,  3.46s/it]"
     ]
    },
    {
     "name": "stdout",
     "output_type": "stream",
     "text": [
      "Optimization terminated successfully.\n",
      "         Current function value: 87.359494\n",
      "         Iterations: 46\n",
      "         Function evaluations: 88\n"
     ]
    },
    {
     "name": "stderr",
     "output_type": "stream",
     "text": [
      "\r",
      " 15%|██████▍                                    | 3/20 [00:09<00:55,  3.24s/it]"
     ]
    },
    {
     "name": "stdout",
     "output_type": "stream",
     "text": [
      "Optimization terminated successfully.\n",
      "         Current function value: 87.359494\n",
      "         Iterations: 55\n",
      "         Function evaluations: 106\n"
     ]
    },
    {
     "name": "stderr",
     "output_type": "stream",
     "text": [
      "\r",
      " 20%|████████▌                                  | 4/20 [00:12<00:51,  3.22s/it]"
     ]
    },
    {
     "name": "stdout",
     "output_type": "stream",
     "text": [
      "Optimization terminated successfully.\n",
      "         Current function value: 87.359494\n",
      "         Iterations: 49\n",
      "         Function evaluations: 93\n"
     ]
    },
    {
     "name": "stderr",
     "output_type": "stream",
     "text": [
      "c:\\users\\lotte\\anaconda2\\envs\\py35\\lib\\site-packages\\ipykernel_launcher.py:23: RuntimeWarning: divide by zero encountered in log\n",
      "c:\\users\\lotte\\anaconda2\\envs\\py35\\lib\\site-packages\\ipykernel_launcher.py:9: RuntimeWarning: overflow encountered in exp\n",
      "  if __name__ == '__main__':\n",
      "c:\\users\\lotte\\anaconda2\\envs\\py35\\lib\\site-packages\\ipykernel_launcher.py:12: RuntimeWarning: overflow encountered in exp\n",
      "  if sys.path[0] == '':\n",
      "c:\\users\\lotte\\anaconda2\\envs\\py35\\lib\\site-packages\\ipykernel_launcher.py:15: RuntimeWarning: invalid value encountered in true_divide\n",
      "  from ipykernel import kernelapp as app\n",
      " 25%|██████████▊                                | 5/20 [00:17<00:56,  3.75s/it]"
     ]
    },
    {
     "name": "stdout",
     "output_type": "stream",
     "text": [
      "Optimization terminated successfully.\n",
      "         Current function value: 87.359494\n",
      "         Iterations: 56\n",
      "         Function evaluations: 108\n"
     ]
    },
    {
     "name": "stderr",
     "output_type": "stream",
     "text": [
      "\r",
      " 30%|████████████▉                              | 6/20 [00:20<00:50,  3.64s/it]"
     ]
    },
    {
     "name": "stdout",
     "output_type": "stream",
     "text": [
      "Optimization terminated successfully.\n",
      "         Current function value: 87.359494\n",
      "         Iterations: 52\n",
      "         Function evaluations: 100\n"
     ]
    },
    {
     "name": "stderr",
     "output_type": "stream",
     "text": [
      "\r",
      " 35%|███████████████                            | 7/20 [00:24<00:46,  3.54s/it]"
     ]
    },
    {
     "name": "stdout",
     "output_type": "stream",
     "text": [
      "Optimization terminated successfully.\n",
      "         Current function value: 87.359494\n",
      "         Iterations: 56\n",
      "         Function evaluations: 109\n"
     ]
    },
    {
     "name": "stderr",
     "output_type": "stream",
     "text": [
      "\r",
      " 40%|█████████████████▏                         | 8/20 [00:27<00:40,  3.38s/it]"
     ]
    },
    {
     "name": "stdout",
     "output_type": "stream",
     "text": [
      "Optimization terminated successfully.\n",
      "         Current function value: 87.359494\n",
      "         Iterations: 57\n",
      "         Function evaluations: 107\n"
     ]
    },
    {
     "name": "stderr",
     "output_type": "stream",
     "text": [
      "\r",
      " 45%|███████████████████▎                       | 9/20 [00:31<00:39,  3.61s/it]"
     ]
    },
    {
     "name": "stdout",
     "output_type": "stream",
     "text": [
      "Optimization terminated successfully.\n",
      "         Current function value: 87.359494\n",
      "         Iterations: 67\n",
      "         Function evaluations: 124\n"
     ]
    },
    {
     "name": "stderr",
     "output_type": "stream",
     "text": [
      "\r",
      " 50%|█████████████████████                     | 10/20 [00:34<00:36,  3.62s/it]"
     ]
    },
    {
     "name": "stdout",
     "output_type": "stream",
     "text": [
      "Optimization terminated successfully.\n",
      "         Current function value: 87.359494\n",
      "         Iterations: 53\n",
      "         Function evaluations: 100\n"
     ]
    },
    {
     "name": "stderr",
     "output_type": "stream",
     "text": [
      "\r",
      " 55%|███████████████████████                   | 11/20 [00:37<00:30,  3.37s/it]"
     ]
    },
    {
     "name": "stdout",
     "output_type": "stream",
     "text": [
      "Optimization terminated successfully.\n",
      "         Current function value: 87.359494\n",
      "         Iterations: 51\n",
      "         Function evaluations: 98\n"
     ]
    },
    {
     "name": "stderr",
     "output_type": "stream",
     "text": [
      "\r",
      " 60%|█████████████████████████▏                | 12/20 [00:41<00:27,  3.43s/it]"
     ]
    },
    {
     "name": "stdout",
     "output_type": "stream",
     "text": [
      "Optimization terminated successfully.\n",
      "         Current function value: 87.359494\n",
      "         Iterations: 55\n",
      "         Function evaluations: 103\n"
     ]
    },
    {
     "name": "stderr",
     "output_type": "stream",
     "text": [
      "\r",
      " 65%|███████████████████████████▎              | 13/20 [00:44<00:23,  3.31s/it]"
     ]
    },
    {
     "name": "stdout",
     "output_type": "stream",
     "text": [
      "Optimization terminated successfully.\n",
      "         Current function value: 87.359494\n",
      "         Iterations: 60\n",
      "         Function evaluations: 114\n"
     ]
    },
    {
     "name": "stderr",
     "output_type": "stream",
     "text": [
      "\r",
      " 70%|█████████████████████████████▍            | 14/20 [00:47<00:19,  3.26s/it]"
     ]
    },
    {
     "name": "stdout",
     "output_type": "stream",
     "text": [
      "Optimization terminated successfully.\n",
      "         Current function value: 87.359494\n",
      "         Iterations: 64\n",
      "         Function evaluations: 122\n"
     ]
    },
    {
     "name": "stderr",
     "output_type": "stream",
     "text": [
      "\r",
      " 75%|███████████████████████████████▌          | 15/20 [00:50<00:16,  3.25s/it]"
     ]
    },
    {
     "name": "stdout",
     "output_type": "stream",
     "text": [
      "Optimization terminated successfully.\n",
      "         Current function value: 87.359494\n",
      "         Iterations: 65\n",
      "         Function evaluations: 122\n"
     ]
    },
    {
     "name": "stderr",
     "output_type": "stream",
     "text": [
      "\r",
      " 80%|█████████████████████████████████▌        | 16/20 [00:54<00:13,  3.30s/it]"
     ]
    },
    {
     "name": "stdout",
     "output_type": "stream",
     "text": [
      "Optimization terminated successfully.\n",
      "         Current function value: 87.359494\n",
      "         Iterations: 58\n",
      "         Function evaluations: 108\n"
     ]
    },
    {
     "name": "stderr",
     "output_type": "stream",
     "text": [
      "\r",
      " 85%|███████████████████████████████████▋      | 17/20 [00:56<00:09,  3.13s/it]"
     ]
    },
    {
     "name": "stdout",
     "output_type": "stream",
     "text": [
      "Optimization terminated successfully.\n",
      "         Current function value: 87.359494\n",
      "         Iterations: 56\n",
      "         Function evaluations: 107\n"
     ]
    },
    {
     "name": "stderr",
     "output_type": "stream",
     "text": [
      "\r",
      " 90%|█████████████████████████████████████▊    | 18/20 [00:59<00:05,  2.91s/it]"
     ]
    },
    {
     "name": "stdout",
     "output_type": "stream",
     "text": [
      "Optimization terminated successfully.\n",
      "         Current function value: 87.359494\n",
      "         Iterations: 52\n",
      "         Function evaluations: 99\n"
     ]
    },
    {
     "name": "stderr",
     "output_type": "stream",
     "text": [
      "\r",
      " 95%|███████████████████████████████████████▉  | 19/20 [01:01<00:02,  2.86s/it]"
     ]
    },
    {
     "name": "stdout",
     "output_type": "stream",
     "text": [
      "Optimization terminated successfully.\n",
      "         Current function value: 87.359494\n",
      "         Iterations: 57\n",
      "         Function evaluations: 112\n"
     ]
    },
    {
     "name": "stderr",
     "output_type": "stream",
     "text": [
      "100%|██████████████████████████████████████████| 20/20 [01:04<00:00,  3.22s/it]"
     ]
    },
    {
     "name": "stdout",
     "output_type": "stream",
     "text": [
      "Optimization terminated successfully.\n",
      "         Current function value: 87.359494\n",
      "         Iterations: 53\n",
      "         Function evaluations: 101\n"
     ]
    },
    {
     "name": "stderr",
     "output_type": "stream",
     "text": [
      "\n"
     ]
    }
   ],
   "source": [
    "params_true = [0.3, 1]\n",
    "n_iter = 20\n",
    "sim_exp = task_parameters(volatility = 'low')\n",
    "sim_data = rl_simulate(params_true, sim_exp)\n",
    "    \n",
    "objective_function = lambda params: rl_simulate_fit(params, sim_data)\n",
    "        \n",
    "fit_results = pd.DataFrame()\n",
    "for j in tqdm.tqdm(range(n_iter)):\n",
    "    x0 = np.random.rand(2)\n",
    "    out = scipy.optimize.fmin(objective_function, x0, full_output=True)\n",
    "    best_params, best_NLL = out[:2]\n",
    "    fit_results = fit_results.append(pd.DataFrame([[j, best_params, best_NLL]],\n",
    "                                             columns = ['iteration','best_params','best_NLL']))\n",
    "\n",
    "        \n",
    "# After each iteration, extract the parameters with the max NLL\n",
    "index = np.where(fit_results == np.max(fit_results[['best_NLL']]))[0][0]\n",
    "alpha = fit_results.iloc[index, 1][0]\n",
    "beta = fit_results.iloc[index, 1][1]\n",
    "\n"
   ]
  },
  {
   "cell_type": "code",
   "execution_count": 14,
   "metadata": {},
   "outputs": [
    {
     "data": {
      "text/html": [
       "<div>\n",
       "<style scoped>\n",
       "    .dataframe tbody tr th:only-of-type {\n",
       "        vertical-align: middle;\n",
       "    }\n",
       "\n",
       "    .dataframe tbody tr th {\n",
       "        vertical-align: top;\n",
       "    }\n",
       "\n",
       "    .dataframe thead th {\n",
       "        text-align: right;\n",
       "    }\n",
       "</style>\n",
       "<table border=\"1\" class=\"dataframe\">\n",
       "  <thead>\n",
       "    <tr style=\"text-align: right;\">\n",
       "      <th></th>\n",
       "      <th>iteration</th>\n",
       "      <th>best_params</th>\n",
       "      <th>best_NLL</th>\n",
       "    </tr>\n",
       "  </thead>\n",
       "  <tbody>\n",
       "    <tr>\n",
       "      <th>0</th>\n",
       "      <td>9</td>\n",
       "      <td>[0.23081788319962165, 1.0046693797026855]</td>\n",
       "      <td>90.786951</td>\n",
       "    </tr>\n",
       "    <tr>\n",
       "      <th>0</th>\n",
       "      <td>9</td>\n",
       "      <td>[0.23081301533601445, 1.0046936741572323]</td>\n",
       "      <td>90.786951</td>\n",
       "    </tr>\n",
       "    <tr>\n",
       "      <th>0</th>\n",
       "      <td>9</td>\n",
       "      <td>[0.23083361326907925, 1.0046501342814351]</td>\n",
       "      <td>90.786951</td>\n",
       "    </tr>\n",
       "    <tr>\n",
       "      <th>0</th>\n",
       "      <td>9</td>\n",
       "      <td>[0.23082752323851724, 1.0046553452453146]</td>\n",
       "      <td>90.786951</td>\n",
       "    </tr>\n",
       "    <tr>\n",
       "      <th>0</th>\n",
       "      <td>9</td>\n",
       "      <td>[0.23082767086659386, 1.004672734291151]</td>\n",
       "      <td>90.786951</td>\n",
       "    </tr>\n",
       "    <tr>\n",
       "      <th>0</th>\n",
       "      <td>9</td>\n",
       "      <td>[0.2308567541698086, 1.004658196259077]</td>\n",
       "      <td>90.786951</td>\n",
       "    </tr>\n",
       "    <tr>\n",
       "      <th>0</th>\n",
       "      <td>9</td>\n",
       "      <td>[0.23082308416571404, 1.0046881330502304]</td>\n",
       "      <td>90.786951</td>\n",
       "    </tr>\n",
       "    <tr>\n",
       "      <th>0</th>\n",
       "      <td>9</td>\n",
       "      <td>[0.23082105094777733, 1.0046909619544406]</td>\n",
       "      <td>90.786951</td>\n",
       "    </tr>\n",
       "    <tr>\n",
       "      <th>0</th>\n",
       "      <td>9</td>\n",
       "      <td>[0.2308453134831542, 1.004628502780145]</td>\n",
       "      <td>90.786951</td>\n",
       "    </tr>\n",
       "    <tr>\n",
       "      <th>0</th>\n",
       "      <td>9</td>\n",
       "      <td>[0.2308402351746023, 1.0046424066514321]</td>\n",
       "      <td>90.786951</td>\n",
       "    </tr>\n",
       "    <tr>\n",
       "      <th>0</th>\n",
       "      <td>9</td>\n",
       "      <td>[0.23082544976555447, 1.004708513625916]</td>\n",
       "      <td>90.786951</td>\n",
       "    </tr>\n",
       "    <tr>\n",
       "      <th>0</th>\n",
       "      <td>9</td>\n",
       "      <td>[0.23085295300340725, 1.0046268400070457]</td>\n",
       "      <td>90.786951</td>\n",
       "    </tr>\n",
       "    <tr>\n",
       "      <th>0</th>\n",
       "      <td>9</td>\n",
       "      <td>[0.23084563508561012, 1.0046203965708584]</td>\n",
       "      <td>90.786951</td>\n",
       "    </tr>\n",
       "    <tr>\n",
       "      <th>0</th>\n",
       "      <td>9</td>\n",
       "      <td>[0.23081340498437364, 1.0047015361217568]</td>\n",
       "      <td>90.786951</td>\n",
       "    </tr>\n",
       "    <tr>\n",
       "      <th>0</th>\n",
       "      <td>9</td>\n",
       "      <td>[0.2308236555804846, 1.0046783723501558]</td>\n",
       "      <td>90.786951</td>\n",
       "    </tr>\n",
       "    <tr>\n",
       "      <th>0</th>\n",
       "      <td>9</td>\n",
       "      <td>[0.2308411389513897, 1.004637720813366]</td>\n",
       "      <td>90.786951</td>\n",
       "    </tr>\n",
       "    <tr>\n",
       "      <th>0</th>\n",
       "      <td>9</td>\n",
       "      <td>[0.23085536142110305, 1.0046227569646136]</td>\n",
       "      <td>90.786951</td>\n",
       "    </tr>\n",
       "    <tr>\n",
       "      <th>0</th>\n",
       "      <td>9</td>\n",
       "      <td>[0.23084269615611375, 1.0046746476759718]</td>\n",
       "      <td>90.786951</td>\n",
       "    </tr>\n",
       "    <tr>\n",
       "      <th>0</th>\n",
       "      <td>9</td>\n",
       "      <td>[0.23085340559985965, 1.0046372759586002]</td>\n",
       "      <td>90.786951</td>\n",
       "    </tr>\n",
       "    <tr>\n",
       "      <th>0</th>\n",
       "      <td>9</td>\n",
       "      <td>[0.2308501256473697, 1.0046518002244418]</td>\n",
       "      <td>90.786951</td>\n",
       "    </tr>\n",
       "  </tbody>\n",
       "</table>\n",
       "</div>"
      ],
      "text/plain": [
       "   iteration                                best_params   best_NLL\n",
       "0          9  [0.23081788319962165, 1.0046693797026855]  90.786951\n",
       "0          9  [0.23081301533601445, 1.0046936741572323]  90.786951\n",
       "0          9  [0.23083361326907925, 1.0046501342814351]  90.786951\n",
       "0          9  [0.23082752323851724, 1.0046553452453146]  90.786951\n",
       "0          9   [0.23082767086659386, 1.004672734291151]  90.786951\n",
       "0          9    [0.2308567541698086, 1.004658196259077]  90.786951\n",
       "0          9  [0.23082308416571404, 1.0046881330502304]  90.786951\n",
       "0          9  [0.23082105094777733, 1.0046909619544406]  90.786951\n",
       "0          9    [0.2308453134831542, 1.004628502780145]  90.786951\n",
       "0          9   [0.2308402351746023, 1.0046424066514321]  90.786951\n",
       "0          9   [0.23082544976555447, 1.004708513625916]  90.786951\n",
       "0          9  [0.23085295300340725, 1.0046268400070457]  90.786951\n",
       "0          9  [0.23084563508561012, 1.0046203965708584]  90.786951\n",
       "0          9  [0.23081340498437364, 1.0047015361217568]  90.786951\n",
       "0          9   [0.2308236555804846, 1.0046783723501558]  90.786951\n",
       "0          9    [0.2308411389513897, 1.004637720813366]  90.786951\n",
       "0          9  [0.23085536142110305, 1.0046227569646136]  90.786951\n",
       "0          9  [0.23084269615611375, 1.0046746476759718]  90.786951\n",
       "0          9  [0.23085340559985965, 1.0046372759586002]  90.786951\n",
       "0          9   [0.2308501256473697, 1.0046518002244418]  90.786951"
      ]
     },
     "execution_count": 14,
     "metadata": {},
     "output_type": "execute_result"
    }
   ],
   "source": [
    "fit_results"
   ]
  },
  {
   "cell_type": "code",
   "execution_count": 15,
   "metadata": {},
   "outputs": [
    {
     "ename": "KeyError",
     "evalue": "'best_params'",
     "output_type": "error",
     "traceback": [
      "\u001b[1;31m---------------------------------------------------------------------------\u001b[0m",
      "\u001b[1;31mKeyError\u001b[0m                                  Traceback (most recent call last)",
      "\u001b[1;32mc:\\users\\lotte\\anaconda2\\envs\\py35\\lib\\site-packages\\pandas\\core\\indexes\\base.py\u001b[0m in \u001b[0;36mget_loc\u001b[1;34m(self, key, method, tolerance)\u001b[0m\n\u001b[0;32m   2896\u001b[0m             \u001b[1;32mtry\u001b[0m\u001b[1;33m:\u001b[0m\u001b[1;33m\u001b[0m\u001b[1;33m\u001b[0m\u001b[0m\n\u001b[1;32m-> 2897\u001b[1;33m                 \u001b[1;32mreturn\u001b[0m \u001b[0mself\u001b[0m\u001b[1;33m.\u001b[0m\u001b[0m_engine\u001b[0m\u001b[1;33m.\u001b[0m\u001b[0mget_loc\u001b[0m\u001b[1;33m(\u001b[0m\u001b[0mkey\u001b[0m\u001b[1;33m)\u001b[0m\u001b[1;33m\u001b[0m\u001b[1;33m\u001b[0m\u001b[0m\n\u001b[0m\u001b[0;32m   2898\u001b[0m             \u001b[1;32mexcept\u001b[0m \u001b[0mKeyError\u001b[0m\u001b[1;33m:\u001b[0m\u001b[1;33m\u001b[0m\u001b[1;33m\u001b[0m\u001b[0m\n",
      "\u001b[1;32mpandas/_libs/index.pyx\u001b[0m in \u001b[0;36mpandas._libs.index.IndexEngine.get_loc\u001b[1;34m()\u001b[0m\n",
      "\u001b[1;32mpandas/_libs/index.pyx\u001b[0m in \u001b[0;36mpandas._libs.index.IndexEngine.get_loc\u001b[1;34m()\u001b[0m\n",
      "\u001b[1;32mpandas/_libs/hashtable_class_helper.pxi\u001b[0m in \u001b[0;36mpandas._libs.hashtable.PyObjectHashTable.get_item\u001b[1;34m()\u001b[0m\n",
      "\u001b[1;32mpandas/_libs/hashtable_class_helper.pxi\u001b[0m in \u001b[0;36mpandas._libs.hashtable.PyObjectHashTable.get_item\u001b[1;34m()\u001b[0m\n",
      "\u001b[1;31mKeyError\u001b[0m: 'best_params'",
      "\nDuring handling of the above exception, another exception occurred:\n",
      "\u001b[1;31mKeyError\u001b[0m                                  Traceback (most recent call last)",
      "\u001b[1;32m<ipython-input-15-9b82b0ca74ba>\u001b[0m in \u001b[0;36m<module>\u001b[1;34m\u001b[0m\n\u001b[1;32m----> 1\u001b[1;33m \u001b[0msns\u001b[0m\u001b[1;33m.\u001b[0m\u001b[0mscatterplot\u001b[0m\u001b[1;33m(\u001b[0m\u001b[0mx\u001b[0m \u001b[1;33m=\u001b[0m \u001b[0mfit_results\u001b[0m\u001b[1;33m[\u001b[0m\u001b[1;34m'best_params'\u001b[0m\u001b[1;33m]\u001b[0m\u001b[1;33m[\u001b[0m\u001b[1;36m0\u001b[0m\u001b[1;33m]\u001b[0m\u001b[1;33m,\u001b[0m \u001b[0my\u001b[0m \u001b[1;33m=\u001b[0m \u001b[0miteration_results\u001b[0m\u001b[1;33m[\u001b[0m\u001b[1;34m'best_params'\u001b[0m\u001b[1;33m]\u001b[0m\u001b[1;33m[\u001b[0m\u001b[1;36m1\u001b[0m\u001b[1;33m]\u001b[0m\u001b[1;33m)\u001b[0m\u001b[1;33m\u001b[0m\u001b[1;33m\u001b[0m\u001b[0m\n\u001b[0m",
      "\u001b[1;32mc:\\users\\lotte\\anaconda2\\envs\\py35\\lib\\site-packages\\pandas\\core\\frame.py\u001b[0m in \u001b[0;36m__getitem__\u001b[1;34m(self, key)\u001b[0m\n\u001b[0;32m   2993\u001b[0m             \u001b[1;32mif\u001b[0m \u001b[0mself\u001b[0m\u001b[1;33m.\u001b[0m\u001b[0mcolumns\u001b[0m\u001b[1;33m.\u001b[0m\u001b[0mnlevels\u001b[0m \u001b[1;33m>\u001b[0m \u001b[1;36m1\u001b[0m\u001b[1;33m:\u001b[0m\u001b[1;33m\u001b[0m\u001b[1;33m\u001b[0m\u001b[0m\n\u001b[0;32m   2994\u001b[0m                 \u001b[1;32mreturn\u001b[0m \u001b[0mself\u001b[0m\u001b[1;33m.\u001b[0m\u001b[0m_getitem_multilevel\u001b[0m\u001b[1;33m(\u001b[0m\u001b[0mkey\u001b[0m\u001b[1;33m)\u001b[0m\u001b[1;33m\u001b[0m\u001b[1;33m\u001b[0m\u001b[0m\n\u001b[1;32m-> 2995\u001b[1;33m             \u001b[0mindexer\u001b[0m \u001b[1;33m=\u001b[0m \u001b[0mself\u001b[0m\u001b[1;33m.\u001b[0m\u001b[0mcolumns\u001b[0m\u001b[1;33m.\u001b[0m\u001b[0mget_loc\u001b[0m\u001b[1;33m(\u001b[0m\u001b[0mkey\u001b[0m\u001b[1;33m)\u001b[0m\u001b[1;33m\u001b[0m\u001b[1;33m\u001b[0m\u001b[0m\n\u001b[0m\u001b[0;32m   2996\u001b[0m             \u001b[1;32mif\u001b[0m \u001b[0mis_integer\u001b[0m\u001b[1;33m(\u001b[0m\u001b[0mindexer\u001b[0m\u001b[1;33m)\u001b[0m\u001b[1;33m:\u001b[0m\u001b[1;33m\u001b[0m\u001b[1;33m\u001b[0m\u001b[0m\n\u001b[0;32m   2997\u001b[0m                 \u001b[0mindexer\u001b[0m \u001b[1;33m=\u001b[0m \u001b[1;33m[\u001b[0m\u001b[0mindexer\u001b[0m\u001b[1;33m]\u001b[0m\u001b[1;33m\u001b[0m\u001b[1;33m\u001b[0m\u001b[0m\n",
      "\u001b[1;32mc:\\users\\lotte\\anaconda2\\envs\\py35\\lib\\site-packages\\pandas\\core\\indexes\\base.py\u001b[0m in \u001b[0;36mget_loc\u001b[1;34m(self, key, method, tolerance)\u001b[0m\n\u001b[0;32m   2897\u001b[0m                 \u001b[1;32mreturn\u001b[0m \u001b[0mself\u001b[0m\u001b[1;33m.\u001b[0m\u001b[0m_engine\u001b[0m\u001b[1;33m.\u001b[0m\u001b[0mget_loc\u001b[0m\u001b[1;33m(\u001b[0m\u001b[0mkey\u001b[0m\u001b[1;33m)\u001b[0m\u001b[1;33m\u001b[0m\u001b[1;33m\u001b[0m\u001b[0m\n\u001b[0;32m   2898\u001b[0m             \u001b[1;32mexcept\u001b[0m \u001b[0mKeyError\u001b[0m\u001b[1;33m:\u001b[0m\u001b[1;33m\u001b[0m\u001b[1;33m\u001b[0m\u001b[0m\n\u001b[1;32m-> 2899\u001b[1;33m                 \u001b[1;32mreturn\u001b[0m \u001b[0mself\u001b[0m\u001b[1;33m.\u001b[0m\u001b[0m_engine\u001b[0m\u001b[1;33m.\u001b[0m\u001b[0mget_loc\u001b[0m\u001b[1;33m(\u001b[0m\u001b[0mself\u001b[0m\u001b[1;33m.\u001b[0m\u001b[0m_maybe_cast_indexer\u001b[0m\u001b[1;33m(\u001b[0m\u001b[0mkey\u001b[0m\u001b[1;33m)\u001b[0m\u001b[1;33m)\u001b[0m\u001b[1;33m\u001b[0m\u001b[1;33m\u001b[0m\u001b[0m\n\u001b[0m\u001b[0;32m   2900\u001b[0m         \u001b[0mindexer\u001b[0m \u001b[1;33m=\u001b[0m \u001b[0mself\u001b[0m\u001b[1;33m.\u001b[0m\u001b[0mget_indexer\u001b[0m\u001b[1;33m(\u001b[0m\u001b[1;33m[\u001b[0m\u001b[0mkey\u001b[0m\u001b[1;33m]\u001b[0m\u001b[1;33m,\u001b[0m \u001b[0mmethod\u001b[0m\u001b[1;33m=\u001b[0m\u001b[0mmethod\u001b[0m\u001b[1;33m,\u001b[0m \u001b[0mtolerance\u001b[0m\u001b[1;33m=\u001b[0m\u001b[0mtolerance\u001b[0m\u001b[1;33m)\u001b[0m\u001b[1;33m\u001b[0m\u001b[1;33m\u001b[0m\u001b[0m\n\u001b[0;32m   2901\u001b[0m         \u001b[1;32mif\u001b[0m \u001b[0mindexer\u001b[0m\u001b[1;33m.\u001b[0m\u001b[0mndim\u001b[0m \u001b[1;33m>\u001b[0m \u001b[1;36m1\u001b[0m \u001b[1;32mor\u001b[0m \u001b[0mindexer\u001b[0m\u001b[1;33m.\u001b[0m\u001b[0msize\u001b[0m \u001b[1;33m>\u001b[0m \u001b[1;36m1\u001b[0m\u001b[1;33m:\u001b[0m\u001b[1;33m\u001b[0m\u001b[1;33m\u001b[0m\u001b[0m\n",
      "\u001b[1;32mpandas/_libs/index.pyx\u001b[0m in \u001b[0;36mpandas._libs.index.IndexEngine.get_loc\u001b[1;34m()\u001b[0m\n",
      "\u001b[1;32mpandas/_libs/index.pyx\u001b[0m in \u001b[0;36mpandas._libs.index.IndexEngine.get_loc\u001b[1;34m()\u001b[0m\n",
      "\u001b[1;32mpandas/_libs/hashtable_class_helper.pxi\u001b[0m in \u001b[0;36mpandas._libs.hashtable.PyObjectHashTable.get_item\u001b[1;34m()\u001b[0m\n",
      "\u001b[1;32mpandas/_libs/hashtable_class_helper.pxi\u001b[0m in \u001b[0;36mpandas._libs.hashtable.PyObjectHashTable.get_item\u001b[1;34m()\u001b[0m\n",
      "\u001b[1;31mKeyError\u001b[0m: 'best_params'"
     ]
    }
   ],
   "source": []
  },
  {
   "cell_type": "code",
   "execution_count": 12,
   "metadata": {},
   "outputs": [
    {
     "data": {
      "text/plain": [
       "<matplotlib.axes._subplots.AxesSubplot at 0x1dc1948ad48>"
      ]
     },
     "execution_count": 12,
     "metadata": {},
     "output_type": "execute_result"
    },
    {
     "data": {
      "image/png": "[encoded data removed]",
      "text/plain": [
       "<Figure size 432x288 with 1 Axes>"
      ]
     },
     "metadata": {
      "needs_background": "light"
     },
     "output_type": "display_data"
    }
   ],
   "source": [
    "sns.scatterplot(x = sim_data['exp_trial'], y = sim_data['choice'])"
   ]
  }
 ],
 "metadata": {
  "kernelspec": {
   "display_name": "Python 3",
   "language": "python",
   "name": "python3"
  },
  "language_info": {
   "codemirror_mode": {
    "name": "ipython",
    "version": 3
   },
   "file_extension": ".py",
   "mimetype": "text/x-python",
   "name": "python",
   "nbconvert_exporter": "python",
   "pygments_lexer": "ipython3",
   "version": "3.7.6"
  }
 },
 "nbformat": 4,
 "nbformat_minor": 4
}
