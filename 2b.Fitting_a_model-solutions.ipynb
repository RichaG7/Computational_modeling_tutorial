{
 "cells": [
  {
   "cell_type": "markdown",
   "metadata": {},
   "source": [
    "## Rationale"
   ]
  },
  {
   "cell_type": "markdown",
   "metadata": {},
   "source": [
    "Explain"
   ]
  },
  {
   "cell_type": "markdown",
   "metadata": {},
   "source": [
    "## Plan"
   ]
  },
  {
   "cell_type": "markdown",
   "metadata": {},
   "source": [
    "1. Think about how to define 'model fit', i.e. when is a model good?\n",
    "2. Computing model fit for a given model\n",
    "3. Comparing model fit across participants and models"
   ]
  },
  {
   "cell_type": "code",
   "execution_count": 1,
   "metadata": {},
   "outputs": [],
   "source": [
    "import os, sys, glob, scipy\n",
    "import numpy as np\n",
    "import pandas as pd\n",
    "import matplotlib.pyplot as plt\n",
    "import seaborn as sns"
   ]
  },
  {
   "cell_type": "code",
   "execution_count": 2,
   "metadata": {},
   "outputs": [
    {
     "name": "stdout",
     "output_type": "stream",
     "text": [
      "/Users/jeroen/Dropbox (Brown)/Postdoc FHL/Teaching/Computational_modeling_tutorial\n"
     ]
    }
   ],
   "source": [
    "base_dir = os.path.realpath('.')\n",
    "print(base_dir)"
   ]
  },
  {
   "cell_type": "markdown",
   "metadata": {},
   "source": [
    "## Functions from before"
   ]
  },
  {
   "cell_type": "markdown",
   "metadata": {},
   "source": [
    "##### Choice models"
   ]
  },
  {
   "cell_type": "code",
   "execution_count": 3,
   "metadata": {},
   "outputs": [],
   "source": [
    "def inequity_aversion(params, offer):\n",
    "    \n",
    "    # Inequity aversion model with one inequity term (= symmetric) and a money term\n",
    "    payoffs = [offer, 0]\n",
    "    inequities = [(100-offer)-offer, 0]\n",
    "    utilities = payoffs - np.multiply(params[0],inequities)\n",
    "    choice = np.where(utilities == np.max(utilities))[0][0]\n",
    "\n",
    "    return choice"
   ]
  },
  {
   "cell_type": "code",
   "execution_count": 4,
   "metadata": {},
   "outputs": [],
   "source": [
    "def random_model(params, offer):\n",
    "    \n",
    "    choice = np.random.randint(0,2)\n",
    "    \n",
    "    return choice"
   ]
  },
  {
   "cell_type": "markdown",
   "metadata": {},
   "source": [
    "##### Simulation code"
   ]
  },
  {
   "cell_type": "code",
   "execution_count": 5,
   "metadata": {},
   "outputs": [],
   "source": [
    "def simulate_model(model, data_to_simulate, params = None):\n",
    "    \n",
    "    # Input variables: ...asdoaijsoiajc\n",
    "    \n",
    "    # Create output dataframe\n",
    "    simulation_results = data_to_simulate.copy()\n",
    "    \n",
    "    # Loop over trials and simulate each trial\n",
    "    for trial in data_to_simulate['trial']:\n",
    "        offer = data_to_simulate.loc[data_to_simulate['trial']==trial, 'offer'].values[0]\n",
    "        predicted_choice = model(params, offer)\n",
    "        # store in output dataframe:\n",
    "        simulation_results.loc[data_to_simulate['trial']==trial,'choice'] = predicted_choice\n",
    "        \n",
    "    return simulation_results"
   ]
  },
  {
   "cell_type": "code",
   "execution_count": 6,
   "metadata": {},
   "outputs": [],
   "source": [
    "def plot_simulation(simulated_sub_data):\n",
    "    \n",
    "    fig = sns.scatterplot(data = simulated_sub_data, x = 'offer', y = 'choice')\n",
    "    \n",
    "    return fig"
   ]
  },
  {
   "cell_type": "markdown",
   "metadata": {},
   "source": [
    "## Load some data"
   ]
  },
  {
   "cell_type": "code",
   "execution_count": 7,
   "metadata": {},
   "outputs": [
    {
     "name": "stdout",
     "output_type": "stream",
     "text": [
      "/Users/jeroen/Dropbox (Brown)/Postdoc FHL/Teaching/Computational_modeling_tutorial/Data\n"
     ]
    }
   ],
   "source": [
    "data_dir = base_dir + '/Data'\n",
    "print(data_dir)"
   ]
  },
  {
   "cell_type": "code",
   "execution_count": 8,
   "metadata": {},
   "outputs": [
    {
     "data": {
      "text/html": [
       "<div>\n",
       "<style scoped>\n",
       "    .dataframe tbody tr th:only-of-type {\n",
       "        vertical-align: middle;\n",
       "    }\n",
       "\n",
       "    .dataframe tbody tr th {\n",
       "        vertical-align: top;\n",
       "    }\n",
       "\n",
       "    .dataframe thead th {\n",
       "        text-align: right;\n",
       "    }\n",
       "</style>\n",
       "<table border=\"1\" class=\"dataframe\">\n",
       "  <thead>\n",
       "    <tr style=\"text-align: right;\">\n",
       "      <th></th>\n",
       "      <th>sub</th>\n",
       "      <th>trial</th>\n",
       "      <th>unfairness</th>\n",
       "      <th>choice</th>\n",
       "      <th>offer</th>\n",
       "    </tr>\n",
       "  </thead>\n",
       "  <tbody>\n",
       "    <tr>\n",
       "      <th>0</th>\n",
       "      <td>1</td>\n",
       "      <td>1</td>\n",
       "      <td>50</td>\n",
       "      <td>0</td>\n",
       "      <td>50</td>\n",
       "    </tr>\n",
       "    <tr>\n",
       "      <th>1</th>\n",
       "      <td>1</td>\n",
       "      <td>2</td>\n",
       "      <td>80</td>\n",
       "      <td>0</td>\n",
       "      <td>20</td>\n",
       "    </tr>\n",
       "    <tr>\n",
       "      <th>2</th>\n",
       "      <td>1</td>\n",
       "      <td>3</td>\n",
       "      <td>95</td>\n",
       "      <td>0</td>\n",
       "      <td>5</td>\n",
       "    </tr>\n",
       "    <tr>\n",
       "      <th>3</th>\n",
       "      <td>1</td>\n",
       "      <td>4</td>\n",
       "      <td>60</td>\n",
       "      <td>0</td>\n",
       "      <td>40</td>\n",
       "    </tr>\n",
       "    <tr>\n",
       "      <th>4</th>\n",
       "      <td>1</td>\n",
       "      <td>5</td>\n",
       "      <td>75</td>\n",
       "      <td>0</td>\n",
       "      <td>25</td>\n",
       "    </tr>\n",
       "  </tbody>\n",
       "</table>\n",
       "</div>"
      ],
      "text/plain": [
       "   sub  trial  unfairness  choice  offer\n",
       "0    1      1          50       0     50\n",
       "1    1      2          80       0     20\n",
       "2    1      3          95       0      5\n",
       "3    1      4          60       0     40\n",
       "4    1      5          75       0     25"
      ]
     },
     "execution_count": 8,
     "metadata": {},
     "output_type": "execute_result"
    }
   ],
   "source": [
    "data = pd.read_csv(data_dir + '/Study1_UG.csv')\n",
    "data = data[['sub','trial','unfairness','choice']]\n",
    "data['offer'] = 100 - data['unfairness']\n",
    "data.head()"
   ]
  },
  {
   "cell_type": "markdown",
   "metadata": {},
   "source": [
    "## 1.How to define model fit?"
   ]
  },
  {
   "cell_type": "markdown",
   "metadata": {},
   "source": [
    "Let's start with a metric of model fit that you might know from regression: the sum of squared error (SSE)."
   ]
  },
  {
   "cell_type": "markdown",
   "metadata": {},
   "source": [
    "## Compute model fit for our two models"
   ]
  },
  {
   "cell_type": "markdown",
   "metadata": {},
   "source": [
    "- Step 1: plot a model + some data to see how well they overlap\n",
    "- Step 2: compute the model fit"
   ]
  },
  {
   "cell_type": "code",
   "execution_count": 9,
   "metadata": {},
   "outputs": [
    {
     "data": {
      "text/html": [
       "<div>\n",
       "<style scoped>\n",
       "    .dataframe tbody tr th:only-of-type {\n",
       "        vertical-align: middle;\n",
       "    }\n",
       "\n",
       "    .dataframe tbody tr th {\n",
       "        vertical-align: top;\n",
       "    }\n",
       "\n",
       "    .dataframe thead th {\n",
       "        text-align: right;\n",
       "    }\n",
       "</style>\n",
       "<table border=\"1\" class=\"dataframe\">\n",
       "  <thead>\n",
       "    <tr style=\"text-align: right;\">\n",
       "      <th></th>\n",
       "      <th>trial</th>\n",
       "      <th>offer</th>\n",
       "      <th>choice</th>\n",
       "    </tr>\n",
       "  </thead>\n",
       "  <tbody>\n",
       "    <tr>\n",
       "      <th>340</th>\n",
       "      <td>1</td>\n",
       "      <td>30</td>\n",
       "      <td>0</td>\n",
       "    </tr>\n",
       "    <tr>\n",
       "      <th>341</th>\n",
       "      <td>2</td>\n",
       "      <td>45</td>\n",
       "      <td>0</td>\n",
       "    </tr>\n",
       "    <tr>\n",
       "      <th>342</th>\n",
       "      <td>3</td>\n",
       "      <td>20</td>\n",
       "      <td>1</td>\n",
       "    </tr>\n",
       "    <tr>\n",
       "      <th>343</th>\n",
       "      <td>4</td>\n",
       "      <td>40</td>\n",
       "      <td>0</td>\n",
       "    </tr>\n",
       "    <tr>\n",
       "      <th>344</th>\n",
       "      <td>5</td>\n",
       "      <td>40</td>\n",
       "      <td>0</td>\n",
       "    </tr>\n",
       "  </tbody>\n",
       "</table>\n",
       "</div>"
      ],
      "text/plain": [
       "     trial  offer  choice\n",
       "340      1     30       0\n",
       "341      2     45       0\n",
       "342      3     20       1\n",
       "343      4     40       0\n",
       "344      5     40       0"
      ]
     },
     "execution_count": 9,
     "metadata": {},
     "output_type": "execute_result"
    }
   ],
   "source": [
    "# Load data for a subject\n",
    "sub = 20\n",
    "sub_data = data.query('sub == %i'%sub)[['trial','offer','choice']]\n",
    "sub_data.head()"
   ]
  },
  {
   "cell_type": "markdown",
   "metadata": {},
   "source": [
    "##### EXERCISE: Plot the subject's data as well as simulated data from the random model side-by-side"
   ]
  },
  {
   "cell_type": "markdown",
   "metadata": {},
   "source": [
    "To do this, use.... (existing python functions, packages, or computations)"
   ]
  },
  {
   "cell_type": "code",
   "execution_count": 10,
   "metadata": {},
   "outputs": [
    {
     "data": {
      "text/plain": [
       "[(-0.1, 1.1),\n",
       " Text(0, 0.5, 'choice'),\n",
       " Text(0.5, 0, 'offer'),\n",
       " Text(0.5, 1.0, 'SIMULATION')]"
      ]
     },
     "execution_count": 10,
     "metadata": {},
     "output_type": "execute_result"
    },
    {
     "data": {
      "image/png": "[encoded data removed]",
      "text/plain": [
       "<Figure size 720x288 with 2 Axes>"
      ]
     },
     "metadata": {
      "needs_background": "light"
     },
     "output_type": "display_data"
    }
   ],
   "source": [
    "# Make a figure with two axes\n",
    "fig, axes = plt.subplots(nrows = 1, ncols = 2, figsize = [10,4])\n",
    "\n",
    "# Plot data\n",
    "axes[0].scatter(x = sub_data['offer'], y = sub_data['choice'], alpha = .5)\n",
    "axes[0].set(ylim = [-.1,1.1])\n",
    "\n",
    "# Simulating the model\n",
    "data_to_simulate = sub_data.copy()\n",
    "simulated_data = simulate_model(random_model, data_to_simulate)\n",
    "\n",
    "# Plot the model\n",
    "axes[1].scatter(x = simulated_data['offer'], y = simulated_data['choice'], alpha = .5)\n",
    "axes[1].set(title = 'SIMULATION', xlabel = 'offer', ylabel = 'choice', ylim = [-.1,1.1])"
   ]
  },
  {
   "cell_type": "markdown",
   "metadata": {},
   "source": [
    "##### Compute model fit for random model"
   ]
  },
  {
   "cell_type": "markdown",
   "metadata": {},
   "source": [
    "Write what model fit is, and why sum of squared error (SSE) is a good approximation.\n",
    "1. Absolute => can integrate positive and negative deviations\n",
    "2. It's used in regression\n",
    "3. It ensures that outliers have a bigger impact on your error, e.g. 1 outlier can drive up SSE more than 3 near points. Maybe that's a good thing, maybe not?\n",
    "4. It's simple\n",
    "5. It allows you to directly compare a point prediction (from your model) and an observation data point (we will work with probability distributions later on)."
   ]
  },
  {
   "cell_type": "code",
   "execution_count": 12,
   "metadata": {},
   "outputs": [
    {
     "name": "stdout",
     "output_type": "stream",
     "text": [
      "Sum of squared error = 9\n"
     ]
    }
   ],
   "source": [
    "# Model fit = sum of squared errors\n",
    "\n",
    "# First merge the two dataframes to make sure the offers match up:\n",
    "total_data = sub_data.merge(simulated_data, on = ['trial','offer'], suffixes = ['_subject', '_simulation'])\n",
    "total_data\n",
    "\n",
    "# So first compute errors:\n",
    "errors = total_data['choice_subject'] - total_data['choice_simulation']\n",
    "errors\n",
    "\n",
    "# Compute the sum of squared errors:\n",
    "SSE = np.sum(np.square(errors))\n",
    "print('Sum of squared error = %i'%SSE)"
   ]
  },
  {
   "cell_type": "markdown",
   "metadata": {},
   "source": [
    "Now we know how 'good' or 'bad' the model is. But are the errors in one specific direction? For example, a model that always predicts 'accept' will be correct about 'accept' trials 100% of time time, but always wrong about 'reject' trials. To find out, we can use the confusion matrix:"
   ]
  },
  {
   "cell_type": "code",
   "execution_count": 13,
   "metadata": {},
   "outputs": [
    {
     "data": {
      "text/plain": [
       "<matplotlib.axes._subplots.AxesSubplot at 0x1a19e1f898>"
      ]
     },
     "execution_count": 13,
     "metadata": {},
     "output_type": "execute_result"
    },
    {
     "data": {
      "image/png": "[encoded data removed]",
      "text/plain": [
       "<Figure size 432x288 with 2 Axes>"
      ]
     },
     "metadata": {
      "needs_background": "light"
     },
     "output_type": "display_data"
    }
   ],
   "source": [
    "confusion_matrix = (total_data[['choice_subject','choice_simulation','trial']]\n",
    "                    .groupby(['choice_subject','choice_simulation']).count()\n",
    "                    .reset_index().pivot(index='choice_subject', columns = 'choice_simulation', values = 'trial'))\n",
    "sns.heatmap(confusion_matrix, square = True, vmin = 0, vmax = 10)"
   ]
  },
  {
   "cell_type": "code",
   "execution_count": 14,
   "metadata": {},
   "outputs": [
    {
     "name": "stdout",
     "output_type": "stream",
     "text": [
      "11 hits\n"
     ]
    }
   ],
   "source": [
    "total_data['correct'] = total_data['choice_subject'] == total_data['choice_simulation']\n",
    "hits = np.sum(total_data['correct'])\n",
    "print('%i hits'%hits)"
   ]
  },
  {
   "cell_type": "markdown",
   "metadata": {},
   "source": [
    "##### EXERCISE: Compute model fit for inequity aversion model"
   ]
  },
  {
   "cell_type": "code",
   "execution_count": 16,
   "metadata": {},
   "outputs": [],
   "source": [
    "simulated_data = simulate_model(inequity_aversion, data_to_simulate, [2])"
   ]
  },
  {
   "cell_type": "code",
   "execution_count": 17,
   "metadata": {},
   "outputs": [
    {
     "name": "stdout",
     "output_type": "stream",
     "text": [
      "Sum of squared error = 2\n",
      "18 hits\n"
     ]
    }
   ],
   "source": [
    "# Model fit = sum of squared errors\n",
    "\n",
    "# First merge the two dataframes to make sure the offers match up:\n",
    "total_data = sub_data.merge(simulated_data, on = ['trial','offer'], suffixes = ['_subject', '_simulation'])\n",
    "total_data\n",
    "\n",
    "# So first compute errors:\n",
    "errors = total_data['choice_subject'] - total_data['choice_simulation']\n",
    "errors\n",
    "\n",
    "# Compute the sum of squared errors:\n",
    "SSE = np.sum(np.square(errors))\n",
    "print('Sum of squared error = %i'%SSE)\n",
    "\n",
    "# Compute number of hits\n",
    "total_data['correct'] = total_data['choice_subject'] == total_data['choice_simulation']\n",
    "hits = np.sum(total_data['correct'])\n",
    "print('%i hits'%hits)"
   ]
  },
  {
   "cell_type": "markdown",
   "metadata": {},
   "source": [
    "In this case, the SSE and the number of hits are perfectly correlated (hits = 20 - SSE), so we can pick just one as our objective function (the measure of model fit)."
   ]
  },
  {
   "cell_type": "markdown",
   "metadata": {},
   "source": [
    "## Model fitting: finding the parameters of the model that yield the best model fit"
   ]
  },
  {
   "cell_type": "markdown",
   "metadata": {},
   "source": [
    "WRITE some explanation text here about model fitting and grid search."
   ]
  },
  {
   "cell_type": "markdown",
   "metadata": {},
   "source": [
    "##### Compute the model fit for many different values of alpha"
   ]
  },
  {
   "cell_type": "code",
   "execution_count": 18,
   "metadata": {},
   "outputs": [],
   "source": [
    "range_of_alphas = np.arange(0,10,.1)\n",
    "\n",
    "model_results = pd.DataFrame(columns=['alpha','hits'])\n",
    "\n",
    "for alpha in range_of_alphas:\n",
    "    \n",
    "    # Simulate the model\n",
    "    simulated_data = simulate_model(inequity_aversion, data_to_simulate, [alpha])\n",
    "    \n",
    "    # Merge observed and simulated data\n",
    "    total_data = sub_data.merge(simulated_data, on = ['trial','offer'], suffixes = ['_subject', '_simulation'])\n",
    "    \n",
    "    # Compute hits\n",
    "    total_data['correct'] = total_data['choice_subject'] == total_data['choice_simulation']\n",
    "    hits = np.sum(total_data['correct'])\n",
    "    \n",
    "    # Store result\n",
    "    tmp = pd.DataFrame([[alpha,hits]], columns=model_results.columns)\n",
    "    model_results = model_results.append(tmp)"
   ]
  },
  {
   "cell_type": "code",
   "execution_count": 19,
   "metadata": {},
   "outputs": [
    {
     "data": {
      "text/plain": [
       "[<matplotlib.lines.Line2D at 0x1a1a054b00>]"
      ]
     },
     "execution_count": 19,
     "metadata": {},
     "output_type": "execute_result"
    },
    {
     "data": {
      "image/png": "[encoded data removed]",
      "text/plain": [
       "<Figure size 432x288 with 1 Axes>"
      ]
     },
     "metadata": {
      "needs_background": "light"
     },
     "output_type": "display_data"
    }
   ],
   "source": [
    "sns.scatterplot(data = model_results, x = 'alpha', y = 'hits')\n",
    "best_alpha = model_results.query('hits == %i'%np.max(model_results.hits))['alpha'].mean()\n",
    "plt.plot([best_alpha, best_alpha], [0,20], 'r:')"
   ]
  },
  {
   "cell_type": "markdown",
   "metadata": {},
   "source": [
    "This plot shows you the value of alpha where you get the maximum number of hits, i.e. the best 'model fit'!"
   ]
  },
  {
   "cell_type": "markdown",
   "metadata": {},
   "source": [
    "## Fitting the model for different subjects"
   ]
  },
  {
   "cell_type": "markdown",
   "metadata": {},
   "source": [
    "Now we can automate the fitting procedure and try it for a group of subjects."
   ]
  },
  {
   "cell_type": "markdown",
   "metadata": {},
   "source": [
    "##### EXERCISE: Write a function 'subject_fit' that takes subject data and model as inputs and returns the best alpha"
   ]
  },
  {
   "cell_type": "code",
   "execution_count": 20,
   "metadata": {},
   "outputs": [],
   "source": [
    "def subject_fit(subject_data, model, min_alpha, max_alpha, alpha_step):\n",
    "    \n",
    "    range_of_alphas = np.arange(min_alpha, max_alpha, alpha_step)\n",
    "\n",
    "    model_results = pd.DataFrame(columns=['alpha','hits'])\n",
    "\n",
    "    for alpha in range_of_alphas:\n",
    "\n",
    "        # Simulate the model\n",
    "        simulated_data = simulate_model(model, subject_data, [alpha])\n",
    "\n",
    "        # Merge observed and simulated data\n",
    "        total_data = subject_data.merge(simulated_data,\n",
    "                            on = ['trial','offer'], suffixes = ['_subject', '_simulation'])\n",
    "\n",
    "        # Compute hits\n",
    "        total_data['correct'] = total_data['choice_subject'] == total_data['choice_simulation']\n",
    "        hits = np.sum(total_data['correct'])\n",
    "\n",
    "        # Store result\n",
    "        tmp = pd.DataFrame([[alpha,hits]], columns=model_results.columns)\n",
    "        model_results = model_results.append(tmp)\n",
    "    \n",
    "    # Last step: select the best alpha\n",
    "    best_hits = np.max(model_results['hits'])\n",
    "    best_alphas = model_results.query('hits == %i'%best_hits)['alpha'].values\n",
    "    best_alpha = np.mean(best_alphas)\n",
    "    \n",
    "    return best_alpha, best_hits, total_data, model_results"
   ]
  },
  {
   "cell_type": "code",
   "execution_count": 21,
   "metadata": {},
   "outputs": [
    {
     "data": {
      "text/html": [
       "<div>\n",
       "<style scoped>\n",
       "    .dataframe tbody tr th:only-of-type {\n",
       "        vertical-align: middle;\n",
       "    }\n",
       "\n",
       "    .dataframe tbody tr th {\n",
       "        vertical-align: top;\n",
       "    }\n",
       "\n",
       "    .dataframe thead th {\n",
       "        text-align: right;\n",
       "    }\n",
       "</style>\n",
       "<table border=\"1\" class=\"dataframe\">\n",
       "  <thead>\n",
       "    <tr style=\"text-align: right;\">\n",
       "      <th></th>\n",
       "      <th>trial</th>\n",
       "      <th>offer</th>\n",
       "      <th>choice</th>\n",
       "    </tr>\n",
       "  </thead>\n",
       "  <tbody>\n",
       "    <tr>\n",
       "      <th>340</th>\n",
       "      <td>1</td>\n",
       "      <td>30</td>\n",
       "      <td>0</td>\n",
       "    </tr>\n",
       "    <tr>\n",
       "      <th>341</th>\n",
       "      <td>2</td>\n",
       "      <td>45</td>\n",
       "      <td>0</td>\n",
       "    </tr>\n",
       "    <tr>\n",
       "      <th>342</th>\n",
       "      <td>3</td>\n",
       "      <td>20</td>\n",
       "      <td>1</td>\n",
       "    </tr>\n",
       "    <tr>\n",
       "      <th>343</th>\n",
       "      <td>4</td>\n",
       "      <td>40</td>\n",
       "      <td>0</td>\n",
       "    </tr>\n",
       "    <tr>\n",
       "      <th>344</th>\n",
       "      <td>5</td>\n",
       "      <td>40</td>\n",
       "      <td>0</td>\n",
       "    </tr>\n",
       "  </tbody>\n",
       "</table>\n",
       "</div>"
      ],
      "text/plain": [
       "     trial  offer  choice\n",
       "340      1     30       0\n",
       "341      2     45       0\n",
       "342      3     20       1\n",
       "343      4     40       0\n",
       "344      5     40       0"
      ]
     },
     "execution_count": 21,
     "metadata": {},
     "output_type": "execute_result"
    }
   ],
   "source": [
    "# Load data for a subject\n",
    "sub = 20\n",
    "sub_data = data.query('sub == %i'%sub)[['trial','offer','choice']]\n",
    "sub_data.head()"
   ]
  },
  {
   "cell_type": "code",
   "execution_count": 22,
   "metadata": {},
   "outputs": [],
   "source": [
    "best_alpha, best_hits, total_data, model_results = subject_fit(sub_data, inequity_aversion, 0, 10, .1)"
   ]
  },
  {
   "cell_type": "markdown",
   "metadata": {},
   "source": [
    "##### Loop over subjects"
   ]
  },
  {
   "cell_type": "code",
   "execution_count": 68,
   "metadata": {},
   "outputs": [
    {
     "name": "stdout",
     "output_type": "stream",
     "text": [
      "1, 2, 3, 4, 5, 6, 7, 8, 9, 10, 11, 12, 13, 14, 15, 16, 17, 18, 19, 20, "
     ]
    }
   ],
   "source": [
    "model_fits = pd.DataFrame(columns=['subject','best_alpha','hits'])\n",
    "for sub in np.arange(1,21):\n",
    "    print(sub, end = ', ')\n",
    "    # Load data for a subject\n",
    "    sub_data = data.query('sub == %i'%sub)[['trial','offer','choice']]\n",
    "    sub_data.head()\n",
    "    # Fit model\n",
    "    best_alpha, best_hits, total_data, model_results = (\n",
    "        subject_fit(sub_data, inequity_aversion, 0, 10, .1))\n",
    "    # Store\n",
    "    tmp = pd.DataFrame([[sub, best_alpha, best_hits]], columns=model_fits.columns)\n",
    "    model_fits = model_fits.append(tmp).reset_index(drop=True)"
   ]
  },
  {
   "cell_type": "code",
   "execution_count": 83,
   "metadata": {},
   "outputs": [
    {
     "data": {
      "text/plain": [
       "<matplotlib.axes._subplots.AxesSubplot at 0x11effce80>"
      ]
     },
     "execution_count": 83,
     "metadata": {},
     "output_type": "execute_result"
    },
    {
     "data": {
      "image/png": "[encoded data removed]",
      "text/plain": [
       "<Figure size 432x288 with 1 Axes>"
      ]
     },
     "metadata": {
      "needs_background": "light"
     },
     "output_type": "display_data"
    }
   ],
   "source": [
    "# Plot 1: distribution of alphas\n",
    "sns.distplot(model_fits['best_alpha'], bins = np.arange(0, 2, .1), rug = True, kde = False)"
   ]
  },
  {
   "cell_type": "code",
   "execution_count": 82,
   "metadata": {},
   "outputs": [
    {
     "data": {
      "text/plain": [
       "<matplotlib.axes._subplots.AxesSubplot at 0x11ed0bf10>"
      ]
     },
     "execution_count": 82,
     "metadata": {},
     "output_type": "execute_result"
    },
    {
     "data": {
      "image/png": "[encoded data removed]",
      "text/plain": [
       "<Figure size 432x288 with 1 Axes>"
      ]
     },
     "metadata": {
      "needs_background": "light"
     },
     "output_type": "display_data"
    }
   ],
   "source": [
    "sns.distplot(model_fits['hits'], bins = np.arange(0, 20), kde = False, rug = True)"
   ]
  },
  {
   "cell_type": "markdown",
   "metadata": {},
   "source": [
    "## During next session, we will:"
   ]
  },
  {
   "cell_type": "markdown",
   "metadata": {},
   "source": [
    "- Talk about different model fit metrics\n",
    "- Talk about different choice rules (Softmax, epsilon-greedy)"
   ]
  }
 ],
 "metadata": {
  "kernelspec": {
   "display_name": "Python 3",
   "language": "python",
   "name": "python3"
  },
  "language_info": {
   "codemirror_mode": {
    "name": "ipython",
    "version": 3
   },
   "file_extension": ".py",
   "mimetype": "text/x-python",
   "name": "python",
   "nbconvert_exporter": "python",
   "pygments_lexer": "ipython3",
   "version": "3.7.3"
  }
 },
 "nbformat": 4,
 "nbformat_minor": 4
}
