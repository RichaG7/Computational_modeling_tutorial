{
 "cells": [
  {
   "cell_type": "markdown",
   "metadata": {},
   "source": [
    "## Goals:"
   ]
  },
  {
   "cell_type": "markdown",
   "metadata": {},
   "source": [
    "- Talk about different model fit metrics\n",
    "- Talk about different choice rules (Softmax, epsilon-greedy)"
   ]
  },
  {
   "cell_type": "markdown",
   "metadata": {},
   "source": [
    "##### Why do we need different model fit metrics than the summed squared error (SSE)?"
   ]
  },
  {
   "cell_type": "markdown",
   "metadata": {},
   "source": [
    "- We see in the example at the end of notebook 2 that many different values of alpha all give the same (minimum) model error. We might want more precision in the model prediction to arbitrate between these different optimal alphas, which we can achieve by predicting _probability distributions_ instead of _point predictions_ from the model and from those probability distributions computing the likelihood of an observed data point.\n",
    "- Many choice models simply don't provide a point prediction, but only a probability distribution. E.g. DDM, common choice rules in RL. Precise error is in that case _harder_ to compute than the likelihood of an observation.\n",
    "- Likelihood will allow us to express model fit as a probability. This is useful for Bayesian inference, where we want to be able to say e.g. what the likelihood of the data given the model is (i.e. the probability of observing exactly this data if your model were true). We can then integrate this with a prior probability that our model is true and make more informed inferences.\n",
    "- Models that produce probability distributions can account for noise/exploration/non-deterministic choice in datasets. This is adaptive in artifical agents!\n",
    "- (You can _convert_ SSE into likelihood, but only under the assumption that the errors are normally distributed.)"
   ]
  },
  {
   "cell_type": "code",
   "execution_count": 1,
   "metadata": {},
   "outputs": [],
   "source": [
    "import os, sys, glob, scipy\n",
    "import numpy as np\n",
    "import pandas as pd\n",
    "import matplotlib.pyplot as plt\n",
    "import seaborn as sns"
   ]
  },
  {
   "cell_type": "markdown",
   "metadata": {},
   "source": [
    "## Writing choice rules"
   ]
  },
  {
   "cell_type": "code",
   "execution_count": 36,
   "metadata": {},
   "outputs": [],
   "source": [
    "def greedy(utilities, params = []):\n",
    "    \n",
    "    choice = np.where(utilities == np.max(utilities))[0][0]\n",
    "    \n",
    "    return choice"
   ]
  },
  {
   "cell_type": "code",
   "execution_count": 37,
   "metadata": {},
   "outputs": [],
   "source": [
    "def e_greedy(utilities, epsilon):\n",
    "    \n",
    "    random_number = np.random.rand()\n",
    "    \n",
    "    if random_number < epsilon:\n",
    "        # Choose randomly\n",
    "        choice = np.random.randint(0,2)\n",
    "    else:\n",
    "        # Choose deterministically\n",
    "#         choice = np.where(utilites == np.max(utilities))\n",
    "        choice = greedy(utilities)\n",
    "    \n",
    "    return choice"
   ]
  },
  {
   "cell_type": "code",
   "execution_count": null,
   "metadata": {},
   "outputs": [],
   "source": [
    "def softmax(utilities, beta):\n",
    "    # Beta is sometimes called 'inverse temperature' or 'explore parameter'\n",
    "    \n",
    "    # Version for choice A only => then prob_B will be 1 - prob_A\n",
    "    prob_A = (np.exp(utilities[0] * beta) /\n",
    "              (np.exp(utilities[0] * beta) + np.exp(utilities[1] * beta)))\n",
    "    \n",
    "    # General version (this works too, try it out!)\n",
    "    probs = (np.exp(np.multiply(utilities, beta)) /\n",
    "             (np.sum(np.exp(np.multiply(utility, beta))))\n",
    "    \n",
    "    random_number = np.random.rand()\n",
    "    if random_number < prob_A:\n",
    "        choice = 0\n",
    "    \n",
    "    return choice"
   ]
  },
  {
   "cell_type": "markdown",
   "metadata": {},
   "source": [
    "##### Simulate some data for each choice rule"
   ]
  },
  {
   "cell_type": "code",
   "execution_count": 40,
   "metadata": {},
   "outputs": [
    {
     "data": {
      "text/plain": [
       "(0, 1)"
      ]
     },
     "execution_count": 40,
     "metadata": {},
     "output_type": "execute_result"
    },
    {
     "data": {
      "image/png": "[encoded data removed]",
      "text/plain": [
       "<Figure size 432x288 with 1 Axes>"
      ]
     },
     "metadata": {
      "needs_background": "light"
     },
     "output_type": "display_data"
    }
   ],
   "source": [
    "model = e_greedy\n",
    "utilities = [6, 5.9] # just randomly chosen numbers\n",
    "choices = []\n",
    "epsilon = .9\n",
    "for trial in range(10000):\n",
    "    choice = model(utilities, epsilon)\n",
    "    choices.append(choice)\n",
    "plt.hist(choices);\n",
    "plt.xlim([0,1])"
   ]
  },
  {
   "cell_type": "markdown",
   "metadata": {},
   "source": [
    "## Prepare for next time:"
   ]
  },
  {
   "cell_type": "markdown",
   "metadata": {},
   "source": [
    "1. Check that the softmax works! Try it out, visualize it.\n",
    "2. Simulate choice data from the softmax model. What happens when the value difference of A and B increases or decreases?"
   ]
  },
  {
   "cell_type": "code",
   "execution_count": null,
   "metadata": {},
   "outputs": [],
   "source": []
  },
  {
   "cell_type": "markdown",
   "metadata": {},
   "source": [
    "## Also include in next session:"
   ]
  },
  {
   "cell_type": "markdown",
   "metadata": {},
   "source": [
    "1. How to determine the likelihood of a dataset (as opposed to a single data point).\n",
    "2. Talk about log-likelihood and why we use it."
   ]
  },
  {
   "cell_type": "markdown",
   "metadata": {},
   "source": [
    "## Session after that:"
   ]
  },
  {
   "cell_type": "markdown",
   "metadata": {},
   "source": [
    "1. Find maximum-likelihood parameters for a model using gradient descent algorithms (based on SSE or LL)\n",
    "2. Model comparison using AIC and BIC\n",
    "3. Posterior predictive checks (no model is accurate!)"
   ]
  },
  {
   "cell_type": "markdown",
   "metadata": {},
   "source": [
    "## Then:"
   ]
  },
  {
   "cell_type": "markdown",
   "metadata": {},
   "source": [
    "1. Summarize what we've seen so far. Take a step back and talk about why it's useful what we've done and what we're still lacking.\n",
    "2. Model / parameter recovery"
   ]
  },
  {
   "cell_type": "code",
   "execution_count": null,
   "metadata": {},
   "outputs": [],
   "source": []
  },
  {
   "cell_type": "code",
   "execution_count": null,
   "metadata": {},
   "outputs": [],
   "source": []
  },
  {
   "cell_type": "code",
   "execution_count": null,
   "metadata": {},
   "outputs": [],
   "source": []
  },
  {
   "cell_type": "markdown",
   "metadata": {},
   "source": [
    "## Functions from before"
   ]
  },
  {
   "cell_type": "markdown",
   "metadata": {},
   "source": [
    "##### Choice models"
   ]
  },
  {
   "cell_type": "code",
   "execution_count": 2,
   "metadata": {},
   "outputs": [],
   "source": [
    "def inequity_aversion_greedy(params, offer):\n",
    "    \n",
    "    # Inequity aversion model with one inequity term (= symmetric) and a money term\n",
    "    payoffs = [offer, 0]\n",
    "    inequities = [(100-offer)-offer, 0]\n",
    "    utilities = payoffs - np.multiply(params[0],inequities)\n",
    "    choice = np.where(utilities == np.max(utilities))[0][0]\n",
    "\n",
    "    return choice"
   ]
  },
  {
   "cell_type": "code",
   "execution_count": 3,
   "metadata": {},
   "outputs": [],
   "source": [
    "def random_model(params, offer):\n",
    "    \n",
    "    choice = np.random.randint(0,2)\n",
    "    \n",
    "    return choice"
   ]
  },
  {
   "cell_type": "markdown",
   "metadata": {},
   "source": [
    "##### Simulation code"
   ]
  },
  {
   "cell_type": "code",
   "execution_count": 4,
   "metadata": {},
   "outputs": [],
   "source": [
    "def simulate_model(model, data_to_simulate, params = None):\n",
    "    \n",
    "    # Input variables: ...asdoaijsoiajc\n",
    "    \n",
    "    # Create output dataframe\n",
    "    simulation_results = data_to_simulate.copy()\n",
    "    \n",
    "    # Loop over trials and simulate each trial\n",
    "    for trial in data_to_simulate['trial']:\n",
    "        offer = data_to_simulate.loc[data_to_simulate['trial']==trial, 'offer'].values[0]\n",
    "        predicted_choice = model(params, offer)\n",
    "        # store in output dataframe:\n",
    "        simulation_results.loc[data_to_simulate['trial']==trial,'choice'] = predicted_choice\n",
    "        \n",
    "    return simulation_results"
   ]
  },
  {
   "cell_type": "code",
   "execution_count": 5,
   "metadata": {},
   "outputs": [],
   "source": [
    "def plot_simulation(simulated_sub_data):\n",
    "    \n",
    "    fig = sns.scatterplot(data = simulated_sub_data, x = 'offer', y = 'choice')\n",
    "    \n",
    "    return fig"
   ]
  },
  {
   "cell_type": "markdown",
   "metadata": {},
   "source": [
    "## Plan"
   ]
  },
  {
   "cell_type": "markdown",
   "metadata": {},
   "source": [
    "1. Think about how to define 'model fit', i.e. when is a model good?\n",
    "2. Computing model fit for a given model\n",
    "3. Comparing model fit across participants and models"
   ]
  },
  {
   "cell_type": "markdown",
   "metadata": {},
   "source": [
    "## Load some data"
   ]
  },
  {
   "cell_type": "code",
   "execution_count": 6,
   "metadata": {},
   "outputs": [],
   "source": [
    "data_dir = '/Users/jvanbaar/Dropbox (Brown)/Postdoc FHL/Teaching/Computational_modeling_tutorial/Data/Joey'"
   ]
  },
  {
   "cell_type": "code",
   "execution_count": 7,
   "metadata": {},
   "outputs": [
    {
     "data": {
      "text/html": [
       "<div>\n",
       "<style scoped>\n",
       "    .dataframe tbody tr th:only-of-type {\n",
       "        vertical-align: middle;\n",
       "    }\n",
       "\n",
       "    .dataframe tbody tr th {\n",
       "        vertical-align: top;\n",
       "    }\n",
       "\n",
       "    .dataframe thead th {\n",
       "        text-align: right;\n",
       "    }\n",
       "</style>\n",
       "<table border=\"1\" class=\"dataframe\">\n",
       "  <thead>\n",
       "    <tr style=\"text-align: right;\">\n",
       "      <th></th>\n",
       "      <th>sub</th>\n",
       "      <th>trial</th>\n",
       "      <th>unfairness</th>\n",
       "      <th>choice</th>\n",
       "      <th>offer</th>\n",
       "    </tr>\n",
       "  </thead>\n",
       "  <tbody>\n",
       "    <tr>\n",
       "      <th>0</th>\n",
       "      <td>1</td>\n",
       "      <td>1</td>\n",
       "      <td>50</td>\n",
       "      <td>0</td>\n",
       "      <td>50</td>\n",
       "    </tr>\n",
       "    <tr>\n",
       "      <th>1</th>\n",
       "      <td>1</td>\n",
       "      <td>2</td>\n",
       "      <td>80</td>\n",
       "      <td>0</td>\n",
       "      <td>20</td>\n",
       "    </tr>\n",
       "    <tr>\n",
       "      <th>2</th>\n",
       "      <td>1</td>\n",
       "      <td>3</td>\n",
       "      <td>95</td>\n",
       "      <td>0</td>\n",
       "      <td>5</td>\n",
       "    </tr>\n",
       "    <tr>\n",
       "      <th>3</th>\n",
       "      <td>1</td>\n",
       "      <td>4</td>\n",
       "      <td>60</td>\n",
       "      <td>0</td>\n",
       "      <td>40</td>\n",
       "    </tr>\n",
       "    <tr>\n",
       "      <th>4</th>\n",
       "      <td>1</td>\n",
       "      <td>5</td>\n",
       "      <td>75</td>\n",
       "      <td>0</td>\n",
       "      <td>25</td>\n",
       "    </tr>\n",
       "  </tbody>\n",
       "</table>\n",
       "</div>"
      ],
      "text/plain": [
       "   sub  trial  unfairness  choice  offer\n",
       "0    1      1          50       0     50\n",
       "1    1      2          80       0     20\n",
       "2    1      3          95       0      5\n",
       "3    1      4          60       0     40\n",
       "4    1      5          75       0     25"
      ]
     },
     "execution_count": 7,
     "metadata": {},
     "output_type": "execute_result"
    }
   ],
   "source": [
    "data = pd.read_csv(data_dir + '/Study1_UG_Data.csv')\n",
    "data = data[['sub','trial','unfairness','choice']]\n",
    "data['offer'] = 100 - data['unfairness']\n",
    "data.head()"
   ]
  },
  {
   "cell_type": "markdown",
   "metadata": {},
   "source": [
    "## 1.How to define model fit?"
   ]
  },
  {
   "cell_type": "markdown",
   "metadata": {},
   "source": [
    "Let's start with a metric of model fit that you might know from regression: the sum of squared error (SSE)."
   ]
  },
  {
   "cell_type": "markdown",
   "metadata": {},
   "source": [
    "## Compute model fit for our two models"
   ]
  },
  {
   "cell_type": "markdown",
   "metadata": {},
   "source": [
    "- Step 1: plot a model + some data to see how well they overlap\n",
    "- Step 2: compute the model fit"
   ]
  },
  {
   "cell_type": "code",
   "execution_count": 8,
   "metadata": {},
   "outputs": [
    {
     "data": {
      "text/html": [
       "<div>\n",
       "<style scoped>\n",
       "    .dataframe tbody tr th:only-of-type {\n",
       "        vertical-align: middle;\n",
       "    }\n",
       "\n",
       "    .dataframe tbody tr th {\n",
       "        vertical-align: top;\n",
       "    }\n",
       "\n",
       "    .dataframe thead th {\n",
       "        text-align: right;\n",
       "    }\n",
       "</style>\n",
       "<table border=\"1\" class=\"dataframe\">\n",
       "  <thead>\n",
       "    <tr style=\"text-align: right;\">\n",
       "      <th></th>\n",
       "      <th>trial</th>\n",
       "      <th>offer</th>\n",
       "      <th>choice</th>\n",
       "    </tr>\n",
       "  </thead>\n",
       "  <tbody>\n",
       "    <tr>\n",
       "      <th>380</th>\n",
       "      <td>1</td>\n",
       "      <td>30</td>\n",
       "      <td>0</td>\n",
       "    </tr>\n",
       "    <tr>\n",
       "      <th>381</th>\n",
       "      <td>2</td>\n",
       "      <td>45</td>\n",
       "      <td>0</td>\n",
       "    </tr>\n",
       "    <tr>\n",
       "      <th>382</th>\n",
       "      <td>3</td>\n",
       "      <td>20</td>\n",
       "      <td>1</td>\n",
       "    </tr>\n",
       "    <tr>\n",
       "      <th>383</th>\n",
       "      <td>4</td>\n",
       "      <td>40</td>\n",
       "      <td>0</td>\n",
       "    </tr>\n",
       "    <tr>\n",
       "      <th>384</th>\n",
       "      <td>5</td>\n",
       "      <td>40</td>\n",
       "      <td>0</td>\n",
       "    </tr>\n",
       "  </tbody>\n",
       "</table>\n",
       "</div>"
      ],
      "text/plain": [
       "     trial  offer  choice\n",
       "380      1     30       0\n",
       "381      2     45       0\n",
       "382      3     20       1\n",
       "383      4     40       0\n",
       "384      5     40       0"
      ]
     },
     "execution_count": 8,
     "metadata": {},
     "output_type": "execute_result"
    }
   ],
   "source": [
    "# Load data for a subject\n",
    "sub = 20\n",
    "sub_data = data.query('sub == %i'%sub)[['trial','offer','choice']]\n",
    "sub_data.head()"
   ]
  },
  {
   "cell_type": "markdown",
   "metadata": {},
   "source": [
    "##### Visualize predictions of random model"
   ]
  },
  {
   "cell_type": "code",
   "execution_count": 9,
   "metadata": {},
   "outputs": [
    {
     "data": {
      "text/plain": [
       "[(-0.1, 1.1),\n",
       " Text(0, 0.5, 'choice'),\n",
       " Text(0.5, 0, 'offer'),\n",
       " Text(0.5, 1.0, 'SIMULATION')]"
      ]
     },
     "execution_count": 9,
     "metadata": {},
     "output_type": "execute_result"
    },
    {
     "data": {
      "image/png": "[encoded data removed]",
      "text/plain": [
       "<Figure size 720x288 with 2 Axes>"
      ]
     },
     "metadata": {
      "needs_background": "light"
     },
     "output_type": "display_data"
    }
   ],
   "source": [
    "# Make a figure with two axes\n",
    "fig, axes = plt.subplots(nrows = 1, ncols = 2, figsize = [10,4])\n",
    "\n",
    "# Plot data\n",
    "axes[0].scatter(x = sub_data['offer'], y = sub_data['choice'], alpha = .5)\n",
    "axes[0].set(ylim = [-.1,1.1])\n",
    "\n",
    "# Simulating the model\n",
    "data_to_simulate = sub_data.copy()\n",
    "simulated_data = simulate_model(random_model, data_to_simulate)\n",
    "\n",
    "# Plot the model\n",
    "axes[1].scatter(x = simulated_data['offer'], y = simulated_data['choice'], alpha = .5)\n",
    "axes[1].set(title = 'SIMULATION', xlabel = 'offer', ylabel = 'choice', ylim = [-.1,1.1])"
   ]
  },
  {
   "cell_type": "markdown",
   "metadata": {},
   "source": [
    "##### Compute model fit for random model"
   ]
  },
  {
   "cell_type": "code",
   "execution_count": 10,
   "metadata": {},
   "outputs": [
    {
     "name": "stdout",
     "output_type": "stream",
     "text": [
      "Sum of squared error = 10\n"
     ]
    },
    {
     "data": {
      "text/plain": [
       "<matplotlib.axes._subplots.AxesSubplot at 0x1074f9730>"
      ]
     },
     "execution_count": 10,
     "metadata": {},
     "output_type": "execute_result"
    },
    {
     "data": {
      "image/png": "[encoded data removed]",
      "text/plain": [
       "<Figure size 432x288 with 1 Axes>"
      ]
     },
     "metadata": {
      "needs_background": "light"
     },
     "output_type": "display_data"
    }
   ],
   "source": [
    "# Model fit = sum of squared errors\n",
    "\n",
    "# First merge the two dataframes to make sure the offers match up:\n",
    "total_data = sub_data.merge(simulated_data, on = ['trial','offer'], suffixes = ['_subject', '_simulation'])\n",
    "total_data\n",
    "\n",
    "# So first compute errors:\n",
    "errors = total_data['choice_subject'] - total_data['choice_simulation']\n",
    "errors\n",
    "\n",
    "# Compute the sum of squared errors:\n",
    "SSE = np.sum(np.square(errors))\n",
    "print('Sum of squared error = %i'%SSE)\n",
    "\n",
    "sns.scatterplot(data = total_data, x = 'choice_subject', y = 'choice_simulation')"
   ]
  },
  {
   "cell_type": "code",
   "execution_count": 14,
   "metadata": {},
   "outputs": [
    {
     "data": {
      "text/plain": [
       "<matplotlib.axes._subplots.AxesSubplot at 0x11a384760>"
      ]
     },
     "execution_count": 14,
     "metadata": {},
     "output_type": "execute_result"
    },
    {
     "data": {
      "image/png": "[encoded data removed]",
      "text/plain": [
       "<Figure size 432x288 with 2 Axes>"
      ]
     },
     "metadata": {
      "needs_background": "light"
     },
     "output_type": "display_data"
    }
   ],
   "source": [
    "confusion_matrix = (total_data[['choice_subject','choice_simulation','trial']]\n",
    "                    .groupby(['choice_subject','choice_simulation']).count()\n",
    "                    .reset_index().pivot(index='choice_subject', columns = 'choice_simulation', values = 'trial'))\n",
    "sns.heatmap(confusion_matrix, square = True, vmin = 0, vmax = 10)"
   ]
  },
  {
   "cell_type": "code",
   "execution_count": 15,
   "metadata": {},
   "outputs": [
    {
     "name": "stdout",
     "output_type": "stream",
     "text": [
      "10 hits\n"
     ]
    }
   ],
   "source": [
    "total_data['correct'] = total_data['choice_subject'] == total_data['choice_simulation']\n",
    "hits = np.sum(total_data['correct'])\n",
    "print('%i hits'%hits)"
   ]
  },
  {
   "cell_type": "markdown",
   "metadata": {},
   "source": [
    "##### Compute model fit for inequity aversion model"
   ]
  },
  {
   "cell_type": "code",
   "execution_count": 16,
   "metadata": {},
   "outputs": [],
   "source": [
    "simulated_data = simulate_model(inequity_aversion, data_to_simulate, [2])"
   ]
  },
  {
   "cell_type": "code",
   "execution_count": 17,
   "metadata": {},
   "outputs": [
    {
     "name": "stdout",
     "output_type": "stream",
     "text": [
      "Sum of squared error = 2\n",
      "18 hits\n"
     ]
    }
   ],
   "source": [
    "# Model fit = sum of squared errors\n",
    "\n",
    "# First merge the two dataframes to make sure the offers match up:\n",
    "total_data = sub_data.merge(simulated_data, on = ['trial','offer'], suffixes = ['_subject', '_simulation'])\n",
    "total_data\n",
    "\n",
    "# So first compute errors:\n",
    "errors = total_data['choice_subject'] - total_data['choice_simulation']\n",
    "errors\n",
    "\n",
    "# Compute the sum of squared errors:\n",
    "SSE = np.sum(np.square(errors))\n",
    "print('Sum of squared error = %i'%SSE)\n",
    "\n",
    "# Compute number of hits\n",
    "total_data['correct'] = total_data['choice_subject'] == total_data['choice_simulation']\n",
    "hits = np.sum(total_data['correct'])\n",
    "print('%i hits'%hits)"
   ]
  },
  {
   "cell_type": "markdown",
   "metadata": {},
   "source": [
    "In this case, the SSE and the number of hits are perfectly correlated (hits = 20 - SSE), so we can pick just one as our objective function (the measure of model fit)."
   ]
  },
  {
   "cell_type": "markdown",
   "metadata": {},
   "source": [
    "##### Compute the model fit for many different values of alpha"
   ]
  },
  {
   "cell_type": "code",
   "execution_count": 46,
   "metadata": {},
   "outputs": [],
   "source": [
    "range_of_alphas = np.arange(0,10,.1)\n",
    "\n",
    "model_results = pd.DataFrame(columns=['alpha','hits'])\n",
    "\n",
    "for alpha in range_of_alphas:\n",
    "    \n",
    "    # Simulate the model\n",
    "    simulated_data = simulate_model(inequity_aversion, data_to_simulate, [alpha])\n",
    "    \n",
    "    # Merge observed and simulated data\n",
    "    total_data = sub_data.merge(simulated_data, on = ['trial','offer'], suffixes = ['_subject', '_simulation'])\n",
    "    \n",
    "    # Compute hits\n",
    "    total_data['correct'] = total_data['choice_subject'] == total_data['choice_simulation']\n",
    "    hits = np.sum(total_data['correct'])\n",
    "    \n",
    "    # Store result\n",
    "    tmp = pd.DataFrame([[alpha,hits]], columns=model_results.columns)\n",
    "    model_results = model_results.append(tmp)"
   ]
  },
  {
   "cell_type": "code",
   "execution_count": 47,
   "metadata": {},
   "outputs": [
    {
     "data": {
      "text/plain": [
       "[<matplotlib.lines.Line2D at 0x11bead7c0>]"
      ]
     },
     "execution_count": 47,
     "metadata": {},
     "output_type": "execute_result"
    },
    {
     "data": {
      "image/png": "[encoded data removed]",
      "text/plain": [
       "<Figure size 432x288 with 1 Axes>"
      ]
     },
     "metadata": {
      "needs_background": "light"
     },
     "output_type": "display_data"
    }
   ],
   "source": [
    "sns.scatterplot(data = model_results, x = 'alpha', y = 'hits')\n",
    "best_alpha = model_results.query('hits == %i'%np.max(model_results.hits))['alpha'].mean()\n",
    "plt.plot([best_alpha, best_alpha], [0,20], 'r:')"
   ]
  },
  {
   "cell_type": "markdown",
   "metadata": {},
   "source": [
    "This plot shows you the value of alpha where you get the maximum number of hits, i.e. the best 'model fit'!"
   ]
  },
  {
   "cell_type": "markdown",
   "metadata": {},
   "source": [
    "## Fitting the model for different subjects"
   ]
  },
  {
   "cell_type": "code",
   "execution_count": 60,
   "metadata": {},
   "outputs": [],
   "source": [
    "def subject_fit(subject_data, model, min_alpha, max_alpha, alpha_step):\n",
    "    \n",
    "    range_of_alphas = np.arange(min_alpha, max_alpha, alpha_step)\n",
    "\n",
    "    model_results = pd.DataFrame(columns=['alpha','hits'])\n",
    "\n",
    "    for alpha in range_of_alphas:\n",
    "\n",
    "        # Simulate the model\n",
    "        simulated_data = simulate_model(model, subject_data, [alpha])\n",
    "\n",
    "        # Merge observed and simulated data\n",
    "        total_data = subject_data.merge(simulated_data,\n",
    "                            on = ['trial','offer'], suffixes = ['_subject', '_simulation'])\n",
    "\n",
    "        # Compute hits\n",
    "        total_data['correct'] = total_data['choice_subject'] == total_data['choice_simulation']\n",
    "        hits = np.sum(total_data['correct'])\n",
    "\n",
    "        # Store result\n",
    "        tmp = pd.DataFrame([[alpha,hits]], columns=model_results.columns)\n",
    "        model_results = model_results.append(tmp)\n",
    "    \n",
    "    # Last step: select the best alpha\n",
    "    best_hits = np.max(model_results['hits'])\n",
    "    best_alphas = model_results.query('hits == %i'%best_hits)['alpha'].values\n",
    "    best_alpha = np.mean(best_alphas)\n",
    "    \n",
    "    return best_alpha, best_hits, total_data, model_results"
   ]
  },
  {
   "cell_type": "code",
   "execution_count": 61,
   "metadata": {},
   "outputs": [
    {
     "data": {
      "text/html": [
       "<div>\n",
       "<style scoped>\n",
       "    .dataframe tbody tr th:only-of-type {\n",
       "        vertical-align: middle;\n",
       "    }\n",
       "\n",
       "    .dataframe tbody tr th {\n",
       "        vertical-align: top;\n",
       "    }\n",
       "\n",
       "    .dataframe thead th {\n",
       "        text-align: right;\n",
       "    }\n",
       "</style>\n",
       "<table border=\"1\" class=\"dataframe\">\n",
       "  <thead>\n",
       "    <tr style=\"text-align: right;\">\n",
       "      <th></th>\n",
       "      <th>trial</th>\n",
       "      <th>offer</th>\n",
       "      <th>choice</th>\n",
       "    </tr>\n",
       "  </thead>\n",
       "  <tbody>\n",
       "    <tr>\n",
       "      <th>380</th>\n",
       "      <td>1</td>\n",
       "      <td>30</td>\n",
       "      <td>0</td>\n",
       "    </tr>\n",
       "    <tr>\n",
       "      <th>381</th>\n",
       "      <td>2</td>\n",
       "      <td>45</td>\n",
       "      <td>0</td>\n",
       "    </tr>\n",
       "    <tr>\n",
       "      <th>382</th>\n",
       "      <td>3</td>\n",
       "      <td>20</td>\n",
       "      <td>1</td>\n",
       "    </tr>\n",
       "    <tr>\n",
       "      <th>383</th>\n",
       "      <td>4</td>\n",
       "      <td>40</td>\n",
       "      <td>0</td>\n",
       "    </tr>\n",
       "    <tr>\n",
       "      <th>384</th>\n",
       "      <td>5</td>\n",
       "      <td>40</td>\n",
       "      <td>0</td>\n",
       "    </tr>\n",
       "  </tbody>\n",
       "</table>\n",
       "</div>"
      ],
      "text/plain": [
       "     trial  offer  choice\n",
       "380      1     30       0\n",
       "381      2     45       0\n",
       "382      3     20       1\n",
       "383      4     40       0\n",
       "384      5     40       0"
      ]
     },
     "execution_count": 61,
     "metadata": {},
     "output_type": "execute_result"
    }
   ],
   "source": [
    "# Load data for a subject\n",
    "sub = 20\n",
    "sub_data = data.query('sub == %i'%sub)[['trial','offer','choice']]\n",
    "sub_data.head()"
   ]
  },
  {
   "cell_type": "code",
   "execution_count": 62,
   "metadata": {},
   "outputs": [],
   "source": [
    "best_alpha, best_hits, total_data, model_results = subject_fit(sub_data, inequity_aversion, 0, 10, .1)"
   ]
  },
  {
   "cell_type": "markdown",
   "metadata": {},
   "source": [
    "##### Loop over subjects"
   ]
  },
  {
   "cell_type": "code",
   "execution_count": 68,
   "metadata": {},
   "outputs": [
    {
     "name": "stdout",
     "output_type": "stream",
     "text": [
      "1, 2, 3, 4, 5, 6, 7, 8, 9, 10, 11, 12, 13, 14, 15, 16, 17, 18, 19, 20, "
     ]
    }
   ],
   "source": [
    "model_fits = pd.DataFrame(columns=['subject','best_alpha','hits'])\n",
    "for sub in np.arange(1,21):\n",
    "    print(sub, end = ', ')\n",
    "    # Load data for a subject\n",
    "    sub_data = data.query('sub == %i'%sub)[['trial','offer','choice']]\n",
    "    sub_data.head()\n",
    "    # Fit model\n",
    "    best_alpha, best_hits, total_data, model_results = (\n",
    "        subject_fit(sub_data, inequity_aversion, 0, 10, .1))\n",
    "    # Store\n",
    "    tmp = pd.DataFrame([[sub, best_alpha, best_hits]], columns=model_fits.columns)\n",
    "    model_fits = model_fits.append(tmp).reset_index(drop=True)"
   ]
  },
  {
   "cell_type": "code",
   "execution_count": 69,
   "metadata": {
    "scrolled": true
   },
   "outputs": [
    {
     "data": {
      "text/html": [
       "<div>\n",
       "<style scoped>\n",
       "    .dataframe tbody tr th:only-of-type {\n",
       "        vertical-align: middle;\n",
       "    }\n",
       "\n",
       "    .dataframe tbody tr th {\n",
       "        vertical-align: top;\n",
       "    }\n",
       "\n",
       "    .dataframe thead th {\n",
       "        text-align: right;\n",
       "    }\n",
       "</style>\n",
       "<table border=\"1\" class=\"dataframe\">\n",
       "  <thead>\n",
       "    <tr style=\"text-align: right;\">\n",
       "      <th></th>\n",
       "      <th>subject</th>\n",
       "      <th>best_alpha</th>\n",
       "      <th>hits</th>\n",
       "    </tr>\n",
       "  </thead>\n",
       "  <tbody>\n",
       "    <tr>\n",
       "      <th>0</th>\n",
       "      <td>1</td>\n",
       "      <td>0.00</td>\n",
       "      <td>20</td>\n",
       "    </tr>\n",
       "    <tr>\n",
       "      <th>1</th>\n",
       "      <td>2</td>\n",
       "      <td>0.50</td>\n",
       "      <td>17</td>\n",
       "    </tr>\n",
       "    <tr>\n",
       "      <th>2</th>\n",
       "      <td>3</td>\n",
       "      <td>0.00</td>\n",
       "      <td>20</td>\n",
       "    </tr>\n",
       "    <tr>\n",
       "      <th>3</th>\n",
       "      <td>4</td>\n",
       "      <td>0.65</td>\n",
       "      <td>18</td>\n",
       "    </tr>\n",
       "    <tr>\n",
       "      <th>4</th>\n",
       "      <td>5</td>\n",
       "      <td>0.25</td>\n",
       "      <td>19</td>\n",
       "    </tr>\n",
       "    <tr>\n",
       "      <th>5</th>\n",
       "      <td>6</td>\n",
       "      <td>0.45</td>\n",
       "      <td>20</td>\n",
       "    </tr>\n",
       "    <tr>\n",
       "      <th>6</th>\n",
       "      <td>7</td>\n",
       "      <td>0.10</td>\n",
       "      <td>20</td>\n",
       "    </tr>\n",
       "    <tr>\n",
       "      <th>7</th>\n",
       "      <td>8</td>\n",
       "      <td>0.00</td>\n",
       "      <td>20</td>\n",
       "    </tr>\n",
       "    <tr>\n",
       "      <th>8</th>\n",
       "      <td>9</td>\n",
       "      <td>0.45</td>\n",
       "      <td>20</td>\n",
       "    </tr>\n",
       "    <tr>\n",
       "      <th>9</th>\n",
       "      <td>10</td>\n",
       "      <td>0.00</td>\n",
       "      <td>20</td>\n",
       "    </tr>\n",
       "    <tr>\n",
       "      <th>10</th>\n",
       "      <td>11</td>\n",
       "      <td>0.00</td>\n",
       "      <td>20</td>\n",
       "    </tr>\n",
       "    <tr>\n",
       "      <th>11</th>\n",
       "      <td>12</td>\n",
       "      <td>0.00</td>\n",
       "      <td>20</td>\n",
       "    </tr>\n",
       "    <tr>\n",
       "      <th>12</th>\n",
       "      <td>13</td>\n",
       "      <td>0.00</td>\n",
       "      <td>20</td>\n",
       "    </tr>\n",
       "    <tr>\n",
       "      <th>13</th>\n",
       "      <td>14</td>\n",
       "      <td>1.60</td>\n",
       "      <td>20</td>\n",
       "    </tr>\n",
       "    <tr>\n",
       "      <th>14</th>\n",
       "      <td>15</td>\n",
       "      <td>0.00</td>\n",
       "      <td>20</td>\n",
       "    </tr>\n",
       "    <tr>\n",
       "      <th>15</th>\n",
       "      <td>16</td>\n",
       "      <td>1.60</td>\n",
       "      <td>20</td>\n",
       "    </tr>\n",
       "    <tr>\n",
       "      <th>16</th>\n",
       "      <td>17</td>\n",
       "      <td>0.20</td>\n",
       "      <td>20</td>\n",
       "    </tr>\n",
       "    <tr>\n",
       "      <th>17</th>\n",
       "      <td>18</td>\n",
       "      <td>1.40</td>\n",
       "      <td>19</td>\n",
       "    </tr>\n",
       "    <tr>\n",
       "      <th>18</th>\n",
       "      <td>19</td>\n",
       "      <td>0.65</td>\n",
       "      <td>19</td>\n",
       "    </tr>\n",
       "    <tr>\n",
       "      <th>19</th>\n",
       "      <td>20</td>\n",
       "      <td>1.30</td>\n",
       "      <td>18</td>\n",
       "    </tr>\n",
       "  </tbody>\n",
       "</table>\n",
       "</div>"
      ],
      "text/plain": [
       "   subject  best_alpha hits\n",
       "0        1        0.00   20\n",
       "1        2        0.50   17\n",
       "2        3        0.00   20\n",
       "3        4        0.65   18\n",
       "4        5        0.25   19\n",
       "5        6        0.45   20\n",
       "6        7        0.10   20\n",
       "7        8        0.00   20\n",
       "8        9        0.45   20\n",
       "9       10        0.00   20\n",
       "10      11        0.00   20\n",
       "11      12        0.00   20\n",
       "12      13        0.00   20\n",
       "13      14        1.60   20\n",
       "14      15        0.00   20\n",
       "15      16        1.60   20\n",
       "16      17        0.20   20\n",
       "17      18        1.40   19\n",
       "18      19        0.65   19\n",
       "19      20        1.30   18"
      ]
     },
     "execution_count": 69,
     "metadata": {},
     "output_type": "execute_result"
    }
   ],
   "source": [
    "model_fits"
   ]
  },
  {
   "cell_type": "code",
   "execution_count": 77,
   "metadata": {},
   "outputs": [
    {
     "data": {
      "text/plain": [
       "1.6"
      ]
     },
     "execution_count": 77,
     "metadata": {},
     "output_type": "execute_result"
    }
   ],
   "source": [
    "np.max(model_fits['best_alpha'])"
   ]
  },
  {
   "cell_type": "code",
   "execution_count": 83,
   "metadata": {},
   "outputs": [
    {
     "data": {
      "text/plain": [
       "<matplotlib.axes._subplots.AxesSubplot at 0x11effce80>"
      ]
     },
     "execution_count": 83,
     "metadata": {},
     "output_type": "execute_result"
    },
    {
     "data": {
      "image/png": "[encoded data removed]",
      "text/plain": [
       "<Figure size 432x288 with 1 Axes>"
      ]
     },
     "metadata": {
      "needs_background": "light"
     },
     "output_type": "display_data"
    }
   ],
   "source": [
    "# Plot 1: distribution of alphas\n",
    "sns.distplot(model_fits['best_alpha'], bins = np.arange(0, 2, .1), rug = True, kde = False)"
   ]
  },
  {
   "cell_type": "code",
   "execution_count": 82,
   "metadata": {},
   "outputs": [
    {
     "data": {
      "text/plain": [
       "<matplotlib.axes._subplots.AxesSubplot at 0x11ed0bf10>"
      ]
     },
     "execution_count": 82,
     "metadata": {},
     "output_type": "execute_result"
    },
    {
     "data": {
      "image/png": "[encoded data removed]",
      "text/plain": [
       "<Figure size 432x288 with 1 Axes>"
      ]
     },
     "metadata": {
      "needs_background": "light"
     },
     "output_type": "display_data"
    }
   ],
   "source": [
    "sns.distplot(model_fits['hits'], bins = np.arange(0, 20), kde = False, rug = True)"
   ]
  }
 ],
 "metadata": {
  "kernelspec": {
   "display_name": "Python 3",
   "language": "python",
   "name": "python3"
  },
  "language_info": {
   "codemirror_mode": {
    "name": "ipython",
    "version": 3
   },
   "file_extension": ".py",
   "mimetype": "text/x-python",
   "name": "python",
   "nbconvert_exporter": "python",
   "pygments_lexer": "ipython3",
   "version": "3.8.1"
  }
 },
 "nbformat": 4,
 "nbformat_minor": 4
}
