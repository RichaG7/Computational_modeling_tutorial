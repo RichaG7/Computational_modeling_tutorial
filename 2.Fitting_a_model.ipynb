{
 "cells": [
  {
   "cell_type": "code",
   "execution_count": 1,
   "metadata": {},
   "outputs": [],
   "source": [
    "import os, sys, glob, scipy\n",
    "import numpy as np\n",
    "import pandas as pd\n",
    "import matplotlib.pyplot as plt\n",
    "import seaborn as sns"
   ]
  },
  {
   "cell_type": "markdown",
   "metadata": {},
   "source": [
    "## Functions from before"
   ]
  },
  {
   "cell_type": "markdown",
   "metadata": {},
   "source": [
    "##### Choice models"
   ]
  },
  {
   "cell_type": "code",
   "execution_count": 2,
   "metadata": {},
   "outputs": [],
   "source": [
    "def inequity_aversion(params, offer):\n",
    "    \n",
    "    # Inequity aversion model with one inequity term (= symmetric) and a money term\n",
    "    payoffs = [offer, 0]\n",
    "    inequities = [(100-offer)-offer, 0]\n",
    "    utilities = payoffs - np.multiply(params[0],inequities)\n",
    "    choice = np.where(utilities == np.max(utilities))[0][0]\n",
    "\n",
    "    return choice"
   ]
  },
  {
   "cell_type": "code",
   "execution_count": 3,
   "metadata": {},
   "outputs": [],
   "source": [
    "def random_model(params, offer):\n",
    "    \n",
    "    choice = np.random.randint(0,2)\n",
    "    \n",
    "    return choice"
   ]
  },
  {
   "cell_type": "markdown",
   "metadata": {},
   "source": [
    "##### Simulation code"
   ]
  },
  {
   "cell_type": "code",
   "execution_count": 4,
   "metadata": {},
   "outputs": [],
   "source": [
    "def simulate_model(model, data_to_simulate, params = None):\n",
    "    \n",
    "    # Input variables: ...asdoaijsoiajc\n",
    "    \n",
    "    # Create output dataframe\n",
    "    simulation_results = data_to_simulate.copy()\n",
    "    \n",
    "    # Loop over trials and simulate each trial\n",
    "    for trial in data_to_simulate['trial']:\n",
    "        offer = data_to_simulate.loc[data_to_simulate['trial']==trial, 'offer'].values[0]\n",
    "        predicted_choice = model(params, offer)\n",
    "        # store in output dataframe:\n",
    "        simulation_results.loc[data_to_simulate['trial']==trial,'choice'] = predicted_choice\n",
    "        \n",
    "    return simulation_results"
   ]
  },
  {
   "cell_type": "code",
   "execution_count": 5,
   "metadata": {},
   "outputs": [],
   "source": [
    "def plot_simulation(simulated_sub_data):\n",
    "    \n",
    "    fig = sns.scatterplot(data = simulated_sub_data, x = 'offer', y = 'choice')\n",
    "    \n",
    "    return fig"
   ]
  },
  {
   "cell_type": "markdown",
   "metadata": {},
   "source": [
    "## Plan"
   ]
  },
  {
   "cell_type": "markdown",
   "metadata": {},
   "source": [
    "1. Think about how to define 'model fit', i.e. when is a model good?\n",
    "2. Computing model fit for a given model\n",
    "3. Comparing model fit across participants and models"
   ]
  },
  {
   "cell_type": "markdown",
   "metadata": {},
   "source": [
    "## Load some data"
   ]
  },
  {
   "cell_type": "code",
   "execution_count": 6,
   "metadata": {},
   "outputs": [],
   "source": [
    "data_dir = '/Users/jvanbaar/Dropbox (Brown)/Postdoc FHL/Teaching/Computational_modeling_tutorial/Data/Joey'"
   ]
  },
  {
   "cell_type": "code",
   "execution_count": 7,
   "metadata": {},
   "outputs": [
    {
     "data": {
      "text/html": [
       "<div>\n",
       "<style scoped>\n",
       "    .dataframe tbody tr th:only-of-type {\n",
       "        vertical-align: middle;\n",
       "    }\n",
       "\n",
       "    .dataframe tbody tr th {\n",
       "        vertical-align: top;\n",
       "    }\n",
       "\n",
       "    .dataframe thead th {\n",
       "        text-align: right;\n",
       "    }\n",
       "</style>\n",
       "<table border=\"1\" class=\"dataframe\">\n",
       "  <thead>\n",
       "    <tr style=\"text-align: right;\">\n",
       "      <th></th>\n",
       "      <th>sub</th>\n",
       "      <th>trial</th>\n",
       "      <th>unfairness</th>\n",
       "      <th>choice</th>\n",
       "      <th>offer</th>\n",
       "    </tr>\n",
       "  </thead>\n",
       "  <tbody>\n",
       "    <tr>\n",
       "      <th>0</th>\n",
       "      <td>1</td>\n",
       "      <td>1</td>\n",
       "      <td>50</td>\n",
       "      <td>0</td>\n",
       "      <td>50</td>\n",
       "    </tr>\n",
       "    <tr>\n",
       "      <th>1</th>\n",
       "      <td>1</td>\n",
       "      <td>2</td>\n",
       "      <td>80</td>\n",
       "      <td>0</td>\n",
       "      <td>20</td>\n",
       "    </tr>\n",
       "    <tr>\n",
       "      <th>2</th>\n",
       "      <td>1</td>\n",
       "      <td>3</td>\n",
       "      <td>95</td>\n",
       "      <td>0</td>\n",
       "      <td>5</td>\n",
       "    </tr>\n",
       "    <tr>\n",
       "      <th>3</th>\n",
       "      <td>1</td>\n",
       "      <td>4</td>\n",
       "      <td>60</td>\n",
       "      <td>0</td>\n",
       "      <td>40</td>\n",
       "    </tr>\n",
       "    <tr>\n",
       "      <th>4</th>\n",
       "      <td>1</td>\n",
       "      <td>5</td>\n",
       "      <td>75</td>\n",
       "      <td>0</td>\n",
       "      <td>25</td>\n",
       "    </tr>\n",
       "  </tbody>\n",
       "</table>\n",
       "</div>"
      ],
      "text/plain": [
       "   sub  trial  unfairness  choice  offer\n",
       "0    1      1          50       0     50\n",
       "1    1      2          80       0     20\n",
       "2    1      3          95       0      5\n",
       "3    1      4          60       0     40\n",
       "4    1      5          75       0     25"
      ]
     },
     "execution_count": 7,
     "metadata": {},
     "output_type": "execute_result"
    }
   ],
   "source": [
    "data = pd.read_csv(data_dir + '/Study1_UG_Data.csv')\n",
    "data = data[['sub','trial','unfairness','choice']]\n",
    "data['offer'] = 100 - data['unfairness']\n",
    "data.head()"
   ]
  },
  {
   "cell_type": "markdown",
   "metadata": {},
   "source": [
    "## 1.How to define model fit?"
   ]
  },
  {
   "cell_type": "markdown",
   "metadata": {},
   "source": [
    "Let's start with a metric of model fit that you might know from regression: the sum of squared error (SSE)."
   ]
  },
  {
   "cell_type": "markdown",
   "metadata": {},
   "source": [
    "## Compute model fit for our two models"
   ]
  },
  {
   "cell_type": "markdown",
   "metadata": {},
   "source": [
    "- Step 1: plot a model + some data to see how well they overlap\n",
    "- Step 2: compute the model fit"
   ]
  },
  {
   "cell_type": "code",
   "execution_count": 80,
   "metadata": {},
   "outputs": [
    {
     "data": {
      "text/html": [
       "<div>\n",
       "<style scoped>\n",
       "    .dataframe tbody tr th:only-of-type {\n",
       "        vertical-align: middle;\n",
       "    }\n",
       "\n",
       "    .dataframe tbody tr th {\n",
       "        vertical-align: top;\n",
       "    }\n",
       "\n",
       "    .dataframe thead th {\n",
       "        text-align: right;\n",
       "    }\n",
       "</style>\n",
       "<table border=\"1\" class=\"dataframe\">\n",
       "  <thead>\n",
       "    <tr style=\"text-align: right;\">\n",
       "      <th></th>\n",
       "      <th>trial</th>\n",
       "      <th>offer</th>\n",
       "      <th>choice</th>\n",
       "    </tr>\n",
       "  </thead>\n",
       "  <tbody>\n",
       "    <tr>\n",
       "      <th>380</th>\n",
       "      <td>1</td>\n",
       "      <td>30</td>\n",
       "      <td>0</td>\n",
       "    </tr>\n",
       "    <tr>\n",
       "      <th>381</th>\n",
       "      <td>2</td>\n",
       "      <td>45</td>\n",
       "      <td>0</td>\n",
       "    </tr>\n",
       "    <tr>\n",
       "      <th>382</th>\n",
       "      <td>3</td>\n",
       "      <td>20</td>\n",
       "      <td>1</td>\n",
       "    </tr>\n",
       "    <tr>\n",
       "      <th>383</th>\n",
       "      <td>4</td>\n",
       "      <td>40</td>\n",
       "      <td>0</td>\n",
       "    </tr>\n",
       "    <tr>\n",
       "      <th>384</th>\n",
       "      <td>5</td>\n",
       "      <td>40</td>\n",
       "      <td>0</td>\n",
       "    </tr>\n",
       "  </tbody>\n",
       "</table>\n",
       "</div>"
      ],
      "text/plain": [
       "     trial  offer  choice\n",
       "380      1     30       0\n",
       "381      2     45       0\n",
       "382      3     20       1\n",
       "383      4     40       0\n",
       "384      5     40       0"
      ]
     },
     "execution_count": 80,
     "metadata": {},
     "output_type": "execute_result"
    }
   ],
   "source": [
    "# Load data for a subject\n",
    "sub = 20\n",
    "sub_data = data.query('sub == %i'%sub)[['trial','offer','choice']]\n",
    "sub_data.head()"
   ]
  },
  {
   "cell_type": "code",
   "execution_count": 81,
   "metadata": {},
   "outputs": [
    {
     "data": {
      "text/plain": [
       "[(-0.1, 1.1),\n",
       " Text(0, 0.5, 'choice'),\n",
       " Text(0.5, 0, 'offer'),\n",
       " Text(0.5, 1.0, 'SIMULATION')]"
      ]
     },
     "execution_count": 81,
     "metadata": {},
     "output_type": "execute_result"
    },
    {
     "data": {
      "image/png": "[encoded data removed]",
      "text/plain": [
       "<Figure size 720x288 with 2 Axes>"
      ]
     },
     "metadata": {
      "needs_background": "light"
     },
     "output_type": "display_data"
    }
   ],
   "source": [
    "# Make a figure with two axes\n",
    "fig, axes = plt.subplots(nrows = 1, ncols = 2, figsize = [10,4])\n",
    "\n",
    "# Plot data\n",
    "axes[0].scatter(x = sub_data['offer'], y = sub_data['choice'], alpha = .5)\n",
    "axes[0].set(ylim = [-.1,1.1])\n",
    "\n",
    "# Simulating the model\n",
    "data_to_simulate = sub_data.copy()\n",
    "simulated_data = simulate_model(random_model, data_to_simulate)\n",
    "\n",
    "# Plot the model\n",
    "axes[1].scatter(x = simulated_data['offer'], y = simulated_data['choice'], alpha = .5)\n",
    "axes[1].set(title = 'SIMULATION', xlabel = 'offer', ylabel = 'choice', ylim = [-.1,1.1])"
   ]
  },
  {
   "cell_type": "markdown",
   "metadata": {},
   "source": [
    "##### Compute model fit for random model"
   ]
  },
  {
   "cell_type": "code",
   "execution_count": 82,
   "metadata": {},
   "outputs": [
    {
     "name": "stdout",
     "output_type": "stream",
     "text": [
      "Sum of squared error = 12\n"
     ]
    },
    {
     "data": {
      "text/plain": [
       "<matplotlib.axes._subplots.AxesSubplot at 0x125df9580>"
      ]
     },
     "execution_count": 82,
     "metadata": {},
     "output_type": "execute_result"
    },
    {
     "data": {
      "image/png": "[encoded data removed]",
      "text/plain": [
       "<Figure size 432x288 with 1 Axes>"
      ]
     },
     "metadata": {
      "needs_background": "light"
     },
     "output_type": "display_data"
    }
   ],
   "source": [
    "# Model fit = sum of squared errors\n",
    "\n",
    "# First merge the two dataframes to make sure the offers match up:\n",
    "total_data = sub_data.merge(simulated_data, on = ['trial','offer'], suffixes = ['_subject', '_simulation'])\n",
    "total_data\n",
    "\n",
    "# So first compute errors:\n",
    "errors = total_data['choice_subject'] - total_data['choice_simulation']\n",
    "errors\n",
    "\n",
    "# Compute the sum of squared errors:\n",
    "SSE = np.sum(np.square(errors))\n",
    "print('Sum of squared error = %i'%SSE)\n",
    "\n",
    "sns.scatterplot(data = total_data, x = 'choice_subject', y = 'choice_simulation')"
   ]
  },
  {
   "cell_type": "code",
   "execution_count": 83,
   "metadata": {},
   "outputs": [
    {
     "name": "stdout",
     "output_type": "stream",
     "text": [
      "8 hits\n"
     ]
    }
   ],
   "source": [
    "total_data['correct'] = total_data['choice_subject'] == total_data['choice_simulation']\n",
    "hits = np.sum(total_data['correct'])\n",
    "print('%i hits'%hits)"
   ]
  },
  {
   "cell_type": "markdown",
   "metadata": {},
   "source": [
    "##### Compute model fit for inequity aversion model"
   ]
  },
  {
   "cell_type": "code",
   "execution_count": 84,
   "metadata": {},
   "outputs": [],
   "source": [
    "simulated_data = simulate_model(inequity_aversion, data_to_simulate, [2])"
   ]
  },
  {
   "cell_type": "code",
   "execution_count": 85,
   "metadata": {},
   "outputs": [
    {
     "name": "stdout",
     "output_type": "stream",
     "text": [
      "Sum of squared error = 2\n",
      "18 hits\n"
     ]
    }
   ],
   "source": [
    "# Model fit = sum of squared errors\n",
    "\n",
    "# First merge the two dataframes to make sure the offers match up:\n",
    "total_data = sub_data.merge(simulated_data, on = ['trial','offer'], suffixes = ['_subject', '_simulation'])\n",
    "total_data\n",
    "\n",
    "# So first compute errors:\n",
    "errors = total_data['choice_subject'] - total_data['choice_simulation']\n",
    "errors\n",
    "\n",
    "# Compute the sum of squared errors:\n",
    "SSE = np.sum(np.square(errors))\n",
    "print('Sum of squared error = %i'%SSE)\n",
    "\n",
    "# Compute number of hits\n",
    "total_data['correct'] = total_data['choice_subject'] == total_data['choice_simulation']\n",
    "hits = np.sum(total_data['correct'])\n",
    "print('%i hits'%hits)"
   ]
  },
  {
   "cell_type": "markdown",
   "metadata": {},
   "source": [
    "In this case, the SSE and the number of hits are perfectly correlated (hits = 20 - SSE), so we can pick just one."
   ]
  },
  {
   "cell_type": "markdown",
   "metadata": {},
   "source": [
    "##### Compute the model fit for many different values of alpha"
   ]
  },
  {
   "cell_type": "code",
   "execution_count": 86,
   "metadata": {},
   "outputs": [],
   "source": [
    "range_of_alphas = np.arange(0,10,.1)\n",
    "\n",
    "model_results = pd.DataFrame(columns=['alpha','hits'])\n",
    "\n",
    "for alpha in range_of_alphas:\n",
    "    \n",
    "    # Simulate the model\n",
    "    simulated_data = simulate_model(inequity_aversion, data_to_simulate, [alpha])\n",
    "    \n",
    "    # Merge observed and simulated data\n",
    "    total_data = sub_data.merge(simulated_data, on = ['trial','offer'], suffixes = ['_subject', '_simulation'])\n",
    "    \n",
    "    # Compute hits\n",
    "    total_data['correct'] = total_data['choice_subject'] == total_data['choice_simulation']\n",
    "    hits = np.sum(total_data['correct'])\n",
    "    \n",
    "    # Store result\n",
    "    tmp = pd.DataFrame([[alpha,hits]], columns=model_results.columns)\n",
    "    model_results = model_results.append(tmp)"
   ]
  },
  {
   "cell_type": "code",
   "execution_count": 87,
   "metadata": {},
   "outputs": [
    {
     "data": {
      "text/plain": [
       "<matplotlib.axes._subplots.AxesSubplot at 0x125f14fa0>"
      ]
     },
     "execution_count": 87,
     "metadata": {},
     "output_type": "execute_result"
    },
    {
     "data": {
      "image/png": "[encoded data removed]",
      "text/plain": [
       "<Figure size 432x288 with 1 Axes>"
      ]
     },
     "metadata": {
      "needs_background": "light"
     },
     "output_type": "display_data"
    }
   ],
   "source": [
    "sns.scatterplot(data = model_results, x = 'alpha', y = 'hits')\n",
    "# best_alpha = "
   ]
  },
  {
   "cell_type": "markdown",
   "metadata": {},
   "source": [
    "This plot shows you the value of alpha where you get the maximum number of hits, i.e. the best 'model fit'!"
   ]
  },
  {
   "cell_type": "markdown",
   "metadata": {},
   "source": [
    "## In preparation for next session:"
   ]
  },
  {
   "cell_type": "markdown",
   "metadata": {},
   "source": [
    "- Clean up the functions (make them efficient, take out unnecessary steps, add code comments (!))\n",
    "- For each subject, fit the model with different alphas and record the best value of alpha\n",
    "- Visualize the spread of alpha across subjects"
   ]
  },
  {
   "cell_type": "markdown",
   "metadata": {},
   "source": [
    "## During next session, we will:"
   ]
  },
  {
   "cell_type": "markdown",
   "metadata": {},
   "source": [
    "- Talk about different choice rules (Softmax, epsilon-greedy)\n",
    "- Talk about different model fit metrics"
   ]
  }
 ],
 "metadata": {
  "kernelspec": {
   "display_name": "Python 3",
   "language": "python",
   "name": "python3"
  },
  "language_info": {
   "codemirror_mode": {
    "name": "ipython",
    "version": 3
   },
   "file_extension": ".py",
   "mimetype": "text/x-python",
   "name": "python",
   "nbconvert_exporter": "python",
   "pygments_lexer": "ipython3",
   "version": "3.8.1"
  }
 },
 "nbformat": 4,
 "nbformat_minor": 4
}
