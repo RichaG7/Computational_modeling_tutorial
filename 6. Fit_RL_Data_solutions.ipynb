{
 "cells": [
  {
   "cell_type": "markdown",
   "metadata": {},
   "source": [
    "## Load packages"
   ]
  },
  {
   "cell_type": "code",
   "execution_count": 13,
   "metadata": {},
   "outputs": [],
   "source": [
    "import os, sys, glob, scipy\n",
    "import numpy as np\n",
    "import pandas as pd\n",
    "import matplotlib.pyplot as plt\n",
    "import seaborn as sns\n",
    "import tqdm"
   ]
  },
  {
   "cell_type": "markdown",
   "metadata": {},
   "source": [
    "## Learning Model"
   ]
  },
  {
   "cell_type": "markdown",
   "metadata": {},
   "source": [
    "The learning model used to generate choices is a simple Rescorla-Wagner (Rescorla & Wagner, 1972) model.\n",
    "\n",
    "$$ Q(action, trial) = Q(action, trial - 1) + \\alpha*prediction_{error}$$\n",
    "$$ prediction_{error} = r(trial-1) - Q(action, trial - 1)$$\n",
    "$$ 0 <= \\alpha <= 1 $$\n",
    "\n",
    "In the previous scripts, you have already read about the RL model and also already came across the softmax choice rule (recall the orange juice/coffee example). Now, we are going to use the softmax function again to generate choice probabilities."
   ]
  },
  {
   "cell_type": "markdown",
   "metadata": {},
   "source": [
    "### Softmax"
   ]
  },
  {
   "cell_type": "code",
   "execution_count": 14,
   "metadata": {},
   "outputs": [],
   "source": [
    "def softmax(q_values, beta):\n",
    "    # Inputs:\n",
    "    #       q_values: value of different actions, often just 2\n",
    "    #       beta: inverse temperature, also known as exploitation parameter\n",
    "    # Outputs:\n",
    "    #       choice_probs: model's predicted probability of actions\n",
    "\n",
    "    # Numerator represents value of utility of single choice\n",
    "    numerator = np.exp(np.multiply(q_values, beta))\n",
    "\n",
    "    # Denominator represents sum of total value of utilities\n",
    "    denominator = np.sum(np.exp(np.multiply(q_values, beta)))\n",
    "    \n",
    "    # Outputs\n",
    "    choice_probs = numerator / denominator\n",
    "        \n",
    "    return choice_probs\n"
   ]
  },
  {
   "cell_type": "markdown",
   "metadata": {},
   "source": [
    "## Simulation\n",
    "\n",
    "The function task_parameters generates the experimental data that an agent will receive. It defines the volatility of the switching, the block number, the trial number, the probability that the left and right levers give rewards, and whether they actually would give a reward (random sample drawn from that probability)."
   ]
  },
  {
   "cell_type": "code",
   "execution_count": 15,
   "metadata": {},
   "outputs": [],
   "source": [
    "def task_parameters(volatility = 'low'): \n",
    "    \n",
    "    # Generate dataframe to store simulated results\n",
    "    sim_exp = pd.DataFrame(columns = ['volatility', 'block', 'block_trial', 'exp_trial', \n",
    "                                       'prob_reward_left', 'prob_reward_right', 'reward_left', 'reward_right'])\n",
    "    \n",
    "    # Trial sequence\n",
    "    block_seq = [[17, 15, 19, 18, 15, 17, 19, 15], # high volatility\n",
    "                [35, 30, 35, 35]] # low volatility\n",
    "    reward_probs_left = [.7, .3] \n",
    "    reward_probs_right = [.3, .7] \n",
    "\n",
    "    if volatility == 'low':\n",
    "        task_blocks = block_seq[1]\n",
    "        block_prob_reward_left = np.array(reward_probs_left*(np.int(len(task_blocks)/2)))\n",
    "        block_prob_reward_right = np.array(reward_probs_right*(np.int(len(task_blocks)/2)))\n",
    "    else: \n",
    "        task_blocks = block_seq[0]\n",
    "        block_prob_reward_left = np.array(reward_probs_left*(np.int(len(task_blocks)/2)))\n",
    "        block_prob_reward_right = np.array(reward_probs_right*(np.int(len(task_blocks)/2)))\n",
    "\n",
    "    # generate trials\n",
    "    trial = 0\n",
    "    for block in range(len(task_blocks)): \n",
    "        block_trial = 0\n",
    "        # Loop through trials of the block\n",
    "        for block_trial in range(task_blocks[block]):\n",
    "            trial += 1\n",
    "            block_trial += 1\n",
    "            \n",
    "            # Generate reward for both choices\n",
    "            prob_reward_left = block_prob_reward_left[block] # pulls correct probability for left\n",
    "            prob_reward_right = block_prob_reward_right[block] # pulls correct probability for right\n",
    "            \n",
    "            # Left choice\n",
    "            if np.random.rand() <= prob_reward_left:\n",
    "                reward_left = 1\n",
    "            else: \n",
    "                reward_left = 0\n",
    "                \n",
    "            # Right choice\n",
    "            if np.random.rand() <= prob_reward_right:\n",
    "                reward_right = 1\n",
    "            else: \n",
    "                reward_right = 0\n",
    "                \n",
    "            # Store results\n",
    "            trial_data = pd.DataFrame([[volatility, block+1, block_trial, trial, \n",
    "                                        prob_reward_left, prob_reward_right, reward_left, reward_right]], \n",
    "                                     columns = ['volatility', 'block', 'block_trial', 'exp_trial', \n",
    "                                       'prob_reward_left', 'prob_reward_right', 'reward_left', 'reward_right'])\n",
    "            sim_exp = sim_exp.append(trial_data).reset_index(drop=True)\n",
    "            \n",
    "    return sim_exp\n"
   ]
  },
  {
   "cell_type": "markdown",
   "metadata": {},
   "source": [
    "### Reinforcement Learning\n",
    "\n",
    "With the simulated task parameters from the task_parameter function, you can now generate choices with rl_simulate. "
   ]
  },
  {
   "cell_type": "code",
   "execution_count": 16,
   "metadata": {},
   "outputs": [],
   "source": [
    "def rl_simulate(params, sim_exp): \n",
    "    data = sim_exp.copy()\n",
    "    # Initialize parameters\n",
    "    # two alphas? (positive vs negative pes), stickiness? (likelihood of just repeating past action)\n",
    "    # two-step modeling\n",
    "    alpha = params[0] # learning param\n",
    "    beta = params[1] # exploitation param\n",
    "    q_values = [.5, .5] # q-values for left and right choices start at .5\n",
    "    \n",
    "    # Loop over rows in data\n",
    "    for index, row in data.iterrows(): # loop over rows, slow but easy to understand and index\n",
    "        \n",
    "        # Compute probability of chosing left or right\n",
    "        choice_probs = softmax(q_values, beta) \n",
    "        \n",
    "        # Make choice weighted by probabilities\n",
    "        # probabilities given by left, right\n",
    "        if np.random.rand() <= choice_probs[0]:\n",
    "            choice = 'left'\n",
    "            choice_num = 0\n",
    "        else:\n",
    "            choice = 'right'\n",
    "            choice_num = 1\n",
    "\n",
    "                    \n",
    "        # Store (keep above update)      \n",
    "        data.at[index, 'choice'] = choice # useful way to append single values\n",
    "        data.at[index, 'choice_num'] = choice_num\n",
    "        data.at[index, 'prob_left'] = choice_probs[0]\n",
    "        data.at[index, 'prob_right'] = choice_probs[1]\n",
    "        data.at[index, 'q_left'] = q_values[0]\n",
    "        data.at[index, 'q_right'] = q_values[1]\n",
    "        \n",
    "        # Update q_values (to be used on next trial)\n",
    "        # All the magic happens here\n",
    "        if choice == 'left':\n",
    "            pe = row['reward_left'] - q_values[choice_num] # compute pe = reward - q_value['choice']\n",
    "            q_values[choice_num] = q_values[choice_num] + alpha*pe # update value\n",
    "        else:\n",
    "            pe = row['reward_right'] - q_values[choice_num] # compute pe\n",
    "            q_values[choice_num] = q_values[choice_num] + alpha*pe # update value\n",
    "                \n",
    "    # Add final information\n",
    "    data['alpha'] = alpha\n",
    "    data['beta'] = beta\n",
    "    \n",
    "    return data"
   ]
  },
  {
   "cell_type": "markdown",
   "metadata": {},
   "source": [
    "##### Exercise 1\n",
    "Now you have a function to simulate task parameters and a function to simulate choice. Using these two functions, visualize the probability of getting a reward for choosing the right lever and the simulated choice. \n",
    "You can also add a running average to visualize how the simulated subject behaved on average. "
   ]
  },
  {
   "cell_type": "code",
   "execution_count": 18,
   "metadata": {},
   "outputs": [
    {
     "data": {
      "image/png": "[encoded data removed]",
      "text/plain": [
       "<Figure size 432x288 with 1 Axes>"
      ]
     },
     "metadata": {
      "needs_background": "light"
     },
     "output_type": "display_data"
    }
   ],
   "source": [
    "# Simulate task parameters\n",
    "sim_exp = task_parameters(volatility = 'low')\n",
    "# Generate data with rl_simulate based on the true parameters and the simulated task parameters\n",
    "sim_data = rl_simulate(params_true, sim_exp)\n",
    "\n",
    "# Moving average of 6 trials\n",
    "sim_data['choice_smoothed'] = sim_data['choice_num'].rolling(window = 6).mean()\n",
    "\n",
    "# Plot\n",
    "plt.plot('exp_trial', 'prob_reward_right', 'k', data = sim_data) # black solid line\n",
    "plt.plot('exp_trial', 'choice_num', 'k*', data = sim_data) # black stars\n",
    "plt.plot('exp_trial', 'choice_smoothed', 'r:', data = sim_data) # dashed red\n",
    "plt.legend(['p(reward|right)', 'choice', 'smoothed choice'], bbox_to_anchor = (1, .75))\n",
    "plt.show()"
   ]
  },
  {
   "cell_type": "markdown",
   "metadata": {},
   "source": [
    "# Fit simulated data"
   ]
  },
  {
   "cell_type": "markdown",
   "metadata": {},
   "source": [
    "##### Exercise 2\n",
    "\n",
    "Adjust rl_simulate to rl_simulate_fit. The rl_simulate_fit function returns the negative loglikelihood based on the alpha and beta parameters and some input data."
   ]
  },
  {
   "cell_type": "code",
   "execution_count": 20,
   "metadata": {},
   "outputs": [],
   "source": [
    "def rl_simulate_fit(params, data): \n",
    "    \n",
    "    # Initialize parameters\n",
    "    # two alphas? (positive vs negative pes), stickiness? (likelihood of just repeating past action)\n",
    "    # two-step modeling\n",
    "    alpha = params[0] # learning param\n",
    "    beta = params[1] # exploitation param\n",
    "    q_values = [.5, .5] # q-values for left and right choices start at .5\n",
    "    log_likelihood = 0.\n",
    "    \n",
    "    # Loop over rows in data\n",
    "    for index, row in data.iterrows(): # loop over rows, slow but easy to understand and index\n",
    "        \n",
    "        # Compute probability of chosing left or right\n",
    "        choice_probs = softmax(q_values, beta)\n",
    "        \n",
    "        # Determine the choice\n",
    "        choice = np.int(row['choice_num'])\n",
    "        \n",
    "        # Determine reward based on choice\n",
    "        rewards = [np.int(row['reward_left']), np.int(row['reward_right'])]\n",
    "        reward = rewards[choice]\n",
    "        \n",
    "        # Update likelihood\n",
    "        log_likelihood += np.log(choice_probs[choice]) # index based on choice \n",
    "\n",
    "        pe = reward - q_values[choice] # compute pe = reward - q_value['choice']\n",
    "        q_values[choice] = q_values[choice] + alpha*pe # update value\n",
    "                 \n",
    "    return -log_likelihood"
   ]
  },
  {
   "cell_type": "markdown",
   "metadata": {},
   "source": [
    "## Parameter fitting"
   ]
  },
  {
   "cell_type": "markdown",
   "metadata": {},
   "source": [
    "##### Exercise 3\n",
    "\n",
    "1. simulate task parameters\n",
    "2. simulate data\n",
    "3. using the function you defined in exercise 2, fit the model to the simulated data to obtain the best parameters\n",
    "4. Repeat the model fitting 20 times and store results in fit_results"
   ]
  },
  {
   "cell_type": "code",
   "execution_count": 21,
   "metadata": {
    "scrolled": true
   },
   "outputs": [
    {
     "name": "stderr",
     "output_type": "stream",
     "text": [
      "  5%|██▏                                        | 1/20 [00:01<00:36,  1.90s/it]"
     ]
    },
    {
     "name": "stdout",
     "output_type": "stream",
     "text": [
      "Optimization terminated successfully.\n",
      "         Current function value: 92.560974\n",
      "         Iterations: 36\n",
      "         Function evaluations: 69\n"
     ]
    },
    {
     "name": "stderr",
     "output_type": "stream",
     "text": [
      "\r",
      " 10%|████▎                                      | 2/20 [00:03<00:34,  1.93s/it]"
     ]
    },
    {
     "name": "stdout",
     "output_type": "stream",
     "text": [
      "Optimization terminated successfully.\n",
      "         Current function value: 92.560974\n",
      "         Iterations: 38\n",
      "         Function evaluations: 74\n"
     ]
    },
    {
     "name": "stderr",
     "output_type": "stream",
     "text": [
      "\r",
      " 15%|██████▍                                    | 3/20 [00:05<00:32,  1.91s/it]"
     ]
    },
    {
     "name": "stdout",
     "output_type": "stream",
     "text": [
      "Optimization terminated successfully.\n",
      "         Current function value: 92.560974\n",
      "         Iterations: 31\n",
      "         Function evaluations: 60\n"
     ]
    },
    {
     "name": "stderr",
     "output_type": "stream",
     "text": [
      "\r",
      " 20%|████████▌                                  | 4/20 [00:08<00:34,  2.17s/it]"
     ]
    },
    {
     "name": "stdout",
     "output_type": "stream",
     "text": [
      "Optimization terminated successfully.\n",
      "         Current function value: 92.560974\n",
      "         Iterations: 58\n",
      "         Function evaluations: 104\n"
     ]
    },
    {
     "name": "stderr",
     "output_type": "stream",
     "text": [
      "\r",
      " 25%|██████████▊                                | 5/20 [00:10<00:31,  2.12s/it]"
     ]
    },
    {
     "name": "stdout",
     "output_type": "stream",
     "text": [
      "Optimization terminated successfully.\n",
      "         Current function value: 92.560974\n",
      "         Iterations: 38\n",
      "         Function evaluations: 74\n"
     ]
    },
    {
     "name": "stderr",
     "output_type": "stream",
     "text": [
      "\r",
      " 30%|████████████▉                              | 6/20 [00:12<00:27,  1.98s/it]"
     ]
    },
    {
     "name": "stdout",
     "output_type": "stream",
     "text": [
      "Optimization terminated successfully.\n",
      "         Current function value: 92.560974\n",
      "         Iterations: 27\n",
      "         Function evaluations: 53\n"
     ]
    },
    {
     "name": "stderr",
     "output_type": "stream",
     "text": [
      "\r",
      " 35%|███████████████                            | 7/20 [00:14<00:27,  2.11s/it]"
     ]
    },
    {
     "name": "stdout",
     "output_type": "stream",
     "text": [
      "Optimization terminated successfully.\n",
      "         Current function value: 92.560974\n",
      "         Iterations: 47\n",
      "         Function evaluations: 88\n"
     ]
    },
    {
     "name": "stderr",
     "output_type": "stream",
     "text": [
      "\r",
      " 40%|█████████████████▏                         | 8/20 [00:16<00:23,  1.96s/it]"
     ]
    },
    {
     "name": "stdout",
     "output_type": "stream",
     "text": [
      "Optimization terminated successfully.\n",
      "         Current function value: 92.560974\n",
      "         Iterations: 30\n",
      "         Function evaluations: 58\n"
     ]
    },
    {
     "name": "stderr",
     "output_type": "stream",
     "text": [
      "\r",
      " 45%|███████████████████▎                       | 9/20 [00:18<00:21,  1.98s/it]"
     ]
    },
    {
     "name": "stdout",
     "output_type": "stream",
     "text": [
      "Optimization terminated successfully.\n",
      "         Current function value: 92.560974\n",
      "         Iterations: 41\n",
      "         Function evaluations: 79\n"
     ]
    },
    {
     "name": "stderr",
     "output_type": "stream",
     "text": [
      "\r",
      " 50%|█████████████████████                     | 10/20 [00:19<00:18,  1.82s/it]"
     ]
    },
    {
     "name": "stdout",
     "output_type": "stream",
     "text": [
      "Optimization terminated successfully.\n",
      "         Current function value: 92.560974\n",
      "         Iterations: 32\n",
      "         Function evaluations: 60\n"
     ]
    },
    {
     "name": "stderr",
     "output_type": "stream",
     "text": [
      "\r",
      " 55%|███████████████████████                   | 11/20 [00:21<00:16,  1.86s/it]"
     ]
    },
    {
     "name": "stdout",
     "output_type": "stream",
     "text": [
      "Optimization terminated successfully.\n",
      "         Current function value: 92.560974\n",
      "         Iterations: 43\n",
      "         Function evaluations: 81\n"
     ]
    },
    {
     "name": "stderr",
     "output_type": "stream",
     "text": [
      "\r",
      " 60%|█████████████████████████▏                | 12/20 [00:23<00:14,  1.82s/it]"
     ]
    },
    {
     "name": "stdout",
     "output_type": "stream",
     "text": [
      "Optimization terminated successfully.\n",
      "         Current function value: 92.560974\n",
      "         Iterations: 41\n",
      "         Function evaluations: 76\n"
     ]
    },
    {
     "name": "stderr",
     "output_type": "stream",
     "text": [
      "\r",
      " 65%|███████████████████████████▎              | 13/20 [00:25<00:12,  1.77s/it]"
     ]
    },
    {
     "name": "stdout",
     "output_type": "stream",
     "text": [
      "Optimization terminated successfully.\n",
      "         Current function value: 92.560974\n",
      "         Iterations: 38\n",
      "         Function evaluations: 73\n"
     ]
    },
    {
     "name": "stderr",
     "output_type": "stream",
     "text": [
      "\r",
      " 70%|█████████████████████████████▍            | 14/20 [00:26<00:09,  1.64s/it]"
     ]
    },
    {
     "name": "stdout",
     "output_type": "stream",
     "text": [
      "Optimization terminated successfully.\n",
      "         Current function value: 92.560974\n",
      "         Iterations: 33\n",
      "         Function evaluations: 61\n"
     ]
    },
    {
     "name": "stderr",
     "output_type": "stream",
     "text": [
      "\r",
      " 75%|███████████████████████████████▌          | 15/20 [00:27<00:08,  1.63s/it]"
     ]
    },
    {
     "name": "stdout",
     "output_type": "stream",
     "text": [
      "Optimization terminated successfully.\n",
      "         Current function value: 92.560974\n",
      "         Iterations: 37\n",
      "         Function evaluations: 73\n"
     ]
    },
    {
     "name": "stderr",
     "output_type": "stream",
     "text": [
      "\r",
      " 80%|█████████████████████████████████▌        | 16/20 [00:29<00:06,  1.65s/it]"
     ]
    },
    {
     "name": "stdout",
     "output_type": "stream",
     "text": [
      "Optimization terminated successfully.\n",
      "         Current function value: 92.560974\n",
      "         Iterations: 41\n",
      "         Function evaluations: 79\n"
     ]
    },
    {
     "name": "stderr",
     "output_type": "stream",
     "text": [
      "\r",
      " 85%|███████████████████████████████████▋      | 17/20 [00:31<00:04,  1.56s/it]"
     ]
    },
    {
     "name": "stdout",
     "output_type": "stream",
     "text": [
      "Optimization terminated successfully.\n",
      "         Current function value: 92.560974\n",
      "         Iterations: 28\n",
      "         Function evaluations: 51\n"
     ]
    },
    {
     "name": "stderr",
     "output_type": "stream",
     "text": [
      "\r",
      " 90%|█████████████████████████████████████▊    | 18/20 [00:32<00:02,  1.50s/it]"
     ]
    },
    {
     "name": "stdout",
     "output_type": "stream",
     "text": [
      "Optimization terminated successfully.\n",
      "         Current function value: 92.560974\n",
      "         Iterations: 29\n",
      "         Function evaluations: 58\n"
     ]
    },
    {
     "name": "stderr",
     "output_type": "stream",
     "text": [
      "\r",
      " 95%|███████████████████████████████████████▉  | 19/20 [00:33<00:01,  1.47s/it]"
     ]
    },
    {
     "name": "stdout",
     "output_type": "stream",
     "text": [
      "Optimization terminated successfully.\n",
      "         Current function value: 92.560974\n",
      "         Iterations: 31\n",
      "         Function evaluations: 61\n"
     ]
    },
    {
     "name": "stderr",
     "output_type": "stream",
     "text": [
      "c:\\users\\lotte\\anaconda2\\envs\\py35\\lib\\site-packages\\ipykernel_launcher.py:15: RuntimeWarning: invalid value encountered in true_divide\n",
      "  from ipykernel import kernelapp as app\n",
      "100%|██████████████████████████████████████████| 20/20 [00:45<00:00,  2.25s/it]"
     ]
    },
    {
     "name": "stdout",
     "output_type": "stream",
     "text": [
      "Warning: Maximum number of function evaluations has been exceeded.\n"
     ]
    },
    {
     "name": "stderr",
     "output_type": "stream",
     "text": [
      "\n"
     ]
    }
   ],
   "source": [
    "# define the true alpha and beta\n",
    "params_true = [0.5, 0.5] \n",
    "\n",
    "# Simulate task parameters\n",
    "sim_exp = task_parameters(volatility = 'low')\n",
    "# Generate data with rl_simulate based on the true parameters and the simulated task parameters\n",
    "sim_data = rl_simulate(params_true, sim_exp)\n",
    "\n",
    "# Objective function for rl_simulate_fit\n",
    "objective_function = lambda params: rl_simulate_fit(params, sim_data)\n",
    "\n",
    "# initialize number of iterations \n",
    "n_iter = 20\n",
    "\n",
    "# Create a fit_results dataframe storing the iteration, best parameters and \n",
    "# the best negative loglikelihood \n",
    "fit_results = pd.DataFrame()\n",
    "\n",
    "# Loop over the iteration and call on rl_simulate_fit with random alpha and\n",
    "# beta parameters each time to determine the parameter values with the best fit\n",
    "for j in tqdm.tqdm(range(n_iter)):\n",
    "    x0 = np.random.rand(2) # random alpha and beta params\n",
    "    out = scipy.optimize.fmin(objective_function, x0, full_output=True)\n",
    "    best_params, best_NLL = out[:2]\n",
    "    fit_results = fit_results.append(pd.DataFrame([[j, best_params, best_NLL]],\n",
    "                                             columns = ['iteration','best_params','best_NLL']))\n",
    "\n",
    "        "
   ]
  },
  {
   "cell_type": "markdown",
   "metadata": {},
   "source": []
  },
  {
   "cell_type": "code",
   "execution_count": null,
   "metadata": {},
   "outputs": [],
   "source": []
  },
  {
   "cell_type": "code",
   "execution_count": null,
   "metadata": {},
   "outputs": [],
   "source": []
  }
 ],
 "metadata": {
  "kernelspec": {
   "display_name": "Python 3",
   "language": "python",
   "name": "python3"
  },
  "language_info": {
   "codemirror_mode": {
    "name": "ipython",
    "version": 3
   },
   "file_extension": ".py",
   "mimetype": "text/x-python",
   "name": "python",
   "nbconvert_exporter": "python",
   "pygments_lexer": "ipython3",
   "version": "3.7.6"
  }
 },
 "nbformat": 4,
 "nbformat_minor": 4
}
