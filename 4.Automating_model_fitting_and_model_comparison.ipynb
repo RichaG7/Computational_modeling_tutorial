{
 "cells": [
  {
   "cell_type": "markdown",
   "metadata": {},
   "source": [
    "## Goals:"
   ]
  },
  {
   "cell_type": "markdown",
   "metadata": {},
   "source": [
    "1. Find maximum-likelihood parameters for a model using gradient descent algorithms (based on SSE or LL)\n",
    "2. Model comparison using AIC and BIC\n",
    "3. Model and parameter recovery"
   ]
  },
  {
   "cell_type": "markdown",
   "metadata": {},
   "source": [
    "## Load packages"
   ]
  },
  {
   "cell_type": "code",
   "execution_count": 1,
   "metadata": {},
   "outputs": [],
   "source": [
    "import os, sys, glob, scipy\n",
    "import numpy as np\n",
    "import pandas as pd\n",
    "import matplotlib.pyplot as plt\n",
    "import seaborn as sns"
   ]
  },
  {
   "cell_type": "code",
   "execution_count": 2,
   "metadata": {},
   "outputs": [],
   "source": [
    "base_dir = os.path.realpath('.')"
   ]
  },
  {
   "cell_type": "markdown",
   "metadata": {},
   "source": [
    "## Writing choice rules"
   ]
  },
  {
   "cell_type": "code",
   "execution_count": 3,
   "metadata": {},
   "outputs": [],
   "source": [
    "def greedy(utilities, params = []):\n",
    "    \n",
    "    choice = np.where(utilities == np.max(utilities))[0][0]\n",
    "    \n",
    "    return choice"
   ]
  },
  {
   "cell_type": "code",
   "execution_count": 4,
   "metadata": {},
   "outputs": [],
   "source": [
    "def e_greedy(utilities, epsilon):\n",
    "    \n",
    "    random_number = np.random.rand()\n",
    "    \n",
    "    if random_number < epsilon:\n",
    "        # Choose randomly\n",
    "        choice = np.random.randint(0,2)\n",
    "    else:\n",
    "        # Choose deterministically\n",
    "#         choice = np.where(utilites == np.max(utilities))\n",
    "        choice = greedy(utilities)\n",
    "    \n",
    "    return choice"
   ]
  },
  {
   "cell_type": "code",
   "execution_count": 5,
   "metadata": {},
   "outputs": [],
   "source": [
    "def softmax_with_choice(utilities, beta):\n",
    "    # Beta is sometimes called 'inverse temperature' or 'explore parameter'\n",
    "    \n",
    "    # Version for choice A only => then prob_B will be 1 - prob_A\n",
    "    prob_A = (np.exp(utilities[0] * beta) /\n",
    "              (np.exp(utilities[0] * beta) + np.exp(utilities[1] * beta)))\n",
    "    \n",
    "    # General version (this works too, try it out!)\n",
    "    probs = (np.exp(np.multiply(utilities, beta)) /\n",
    "             (np.sum(np.exp(np.multiply(utilities, beta)))))\n",
    "    \n",
    "    random_number = np.random.rand()\n",
    "    if random_number < prob_A:\n",
    "        choice = 0\n",
    "    else:\n",
    "        choice = 1\n",
    "    \n",
    "    return choice"
   ]
  },
  {
   "cell_type": "code",
   "execution_count": 6,
   "metadata": {},
   "outputs": [],
   "source": [
    "def softmax(utilities, beta):\n",
    "\n",
    "    probs = (np.exp(np.multiply(utilities, beta)) /\n",
    "             (np.sum(np.exp(np.multiply(utilities, beta)))))\n",
    "    \n",
    "    return probs"
   ]
  },
  {
   "cell_type": "markdown",
   "metadata": {},
   "source": [
    "##### Define our inequity aversion model again:"
   ]
  },
  {
   "cell_type": "code",
   "execution_count": 7,
   "metadata": {},
   "outputs": [],
   "source": [
    "def inequity_aversion(offer, alpha):\n",
    "    \n",
    "    # Inequity aversion model with one inequity term (= symmetric) and a money term\n",
    "    payoffs = np.array([offer, 0])\n",
    "    inequities = np.array([(100-offer)-offer, 0])\n",
    "    utilities = payoffs - np.multiply(alpha,inequities)\n",
    "\n",
    "    return utilities"
   ]
  },
  {
   "cell_type": "markdown",
   "metadata": {},
   "source": [
    "##### Simulate data for inequity aversion + softmax with varying parameter values"
   ]
  },
  {
   "cell_type": "code",
   "execution_count": 8,
   "metadata": {},
   "outputs": [],
   "source": [
    "def simulate_data(sub_data, alpha, beta, evaluate_choices = False):\n",
    "    simulated_data = pd.DataFrame()\n",
    "    for trial in sub_data['trial'].unique():\n",
    "        trial_data = sub_data.query('trial == @trial')\n",
    "        offer = trial_data['offer'].values[0]\n",
    "        \n",
    "        # Value function: inequity aversion ==> utilities\n",
    "        utilities = inequity_aversion(offer, alpha)\n",
    "        \n",
    "        # Choice rule: softmax ==> probabilities\n",
    "        choice_probabilities = softmax(utilities, beta)\n",
    "        \n",
    "        # Make a choice\n",
    "        if evaluate_choices:\n",
    "            choice = 0 if np.random.rand() < choice_probabilities[0] else 1\n",
    "        \n",
    "        # Store results\n",
    "        if evaluate_choices:\n",
    "            simulated_data = simulated_data.append(pd.DataFrame(\n",
    "                [[trial, offer, choice_probabilities[0], choice]],\n",
    "                columns=['trial', 'offer', 'probability_accept', 'choice'])).reset_index(drop=True)\n",
    "        else:\n",
    "            simulated_data = simulated_data.append(pd.DataFrame(\n",
    "                [[trial, offer, choice_probabilities[0]]],\n",
    "                columns=['trial', 'offer', 'probability_accept'])).reset_index(drop=True)\n",
    "    return simulated_data"
   ]
  },
  {
   "cell_type": "markdown",
   "metadata": {},
   "source": [
    "## Using the SciPy package to fit the model for us"
   ]
  },
  {
   "cell_type": "markdown",
   "metadata": {},
   "source": [
    "1. Load Joey's data again\n",
    "2. Tell the SciPy.Optimise. to find the best fitting parameters"
   ]
  },
  {
   "cell_type": "markdown",
   "metadata": {},
   "source": [
    "##### Load some data"
   ]
  },
  {
   "cell_type": "code",
   "execution_count": 9,
   "metadata": {},
   "outputs": [
    {
     "data": {
      "text/html": [
       "<div>\n",
       "<style scoped>\n",
       "    .dataframe tbody tr th:only-of-type {\n",
       "        vertical-align: middle;\n",
       "    }\n",
       "\n",
       "    .dataframe tbody tr th {\n",
       "        vertical-align: top;\n",
       "    }\n",
       "\n",
       "    .dataframe thead th {\n",
       "        text-align: right;\n",
       "    }\n",
       "</style>\n",
       "<table border=\"1\" class=\"dataframe\">\n",
       "  <thead>\n",
       "    <tr style=\"text-align: right;\">\n",
       "      <th></th>\n",
       "      <th>sub</th>\n",
       "      <th>trial</th>\n",
       "      <th>unfairness</th>\n",
       "      <th>choice</th>\n",
       "      <th>offer</th>\n",
       "    </tr>\n",
       "  </thead>\n",
       "  <tbody>\n",
       "    <tr>\n",
       "      <th>0</th>\n",
       "      <td>1</td>\n",
       "      <td>1</td>\n",
       "      <td>50</td>\n",
       "      <td>0</td>\n",
       "      <td>50</td>\n",
       "    </tr>\n",
       "    <tr>\n",
       "      <th>1</th>\n",
       "      <td>1</td>\n",
       "      <td>2</td>\n",
       "      <td>80</td>\n",
       "      <td>0</td>\n",
       "      <td>20</td>\n",
       "    </tr>\n",
       "    <tr>\n",
       "      <th>2</th>\n",
       "      <td>1</td>\n",
       "      <td>3</td>\n",
       "      <td>95</td>\n",
       "      <td>0</td>\n",
       "      <td>5</td>\n",
       "    </tr>\n",
       "    <tr>\n",
       "      <th>3</th>\n",
       "      <td>1</td>\n",
       "      <td>4</td>\n",
       "      <td>60</td>\n",
       "      <td>0</td>\n",
       "      <td>40</td>\n",
       "    </tr>\n",
       "    <tr>\n",
       "      <th>4</th>\n",
       "      <td>1</td>\n",
       "      <td>5</td>\n",
       "      <td>75</td>\n",
       "      <td>0</td>\n",
       "      <td>25</td>\n",
       "    </tr>\n",
       "  </tbody>\n",
       "</table>\n",
       "</div>"
      ],
      "text/plain": [
       "   sub  trial  unfairness  choice  offer\n",
       "0    1      1          50       0     50\n",
       "1    1      2          80       0     20\n",
       "2    1      3          95       0      5\n",
       "3    1      4          60       0     40\n",
       "4    1      5          75       0     25"
      ]
     },
     "execution_count": 9,
     "metadata": {},
     "output_type": "execute_result"
    }
   ],
   "source": [
    "data = pd.read_csv(base_dir + '/Data/Study1_UG.csv')\n",
    "data = data[['sub','trial','unfairness','choice']]\n",
    "data['offer'] = 100 - data['unfairness']\n",
    "data.head()"
   ]
  },
  {
   "cell_type": "markdown",
   "metadata": {},
   "source": [
    "Single subject:"
   ]
  },
  {
   "cell_type": "code",
   "execution_count": 10,
   "metadata": {},
   "outputs": [
    {
     "data": {
      "text/html": [
       "<div>\n",
       "<style scoped>\n",
       "    .dataframe tbody tr th:only-of-type {\n",
       "        vertical-align: middle;\n",
       "    }\n",
       "\n",
       "    .dataframe tbody tr th {\n",
       "        vertical-align: top;\n",
       "    }\n",
       "\n",
       "    .dataframe thead th {\n",
       "        text-align: right;\n",
       "    }\n",
       "</style>\n",
       "<table border=\"1\" class=\"dataframe\">\n",
       "  <thead>\n",
       "    <tr style=\"text-align: right;\">\n",
       "      <th></th>\n",
       "      <th>sub</th>\n",
       "      <th>trial</th>\n",
       "      <th>unfairness</th>\n",
       "      <th>choice</th>\n",
       "      <th>offer</th>\n",
       "    </tr>\n",
       "  </thead>\n",
       "  <tbody>\n",
       "    <tr>\n",
       "      <th>0</th>\n",
       "      <td>2</td>\n",
       "      <td>1</td>\n",
       "      <td>60</td>\n",
       "      <td>0</td>\n",
       "      <td>40</td>\n",
       "    </tr>\n",
       "    <tr>\n",
       "      <th>1</th>\n",
       "      <td>2</td>\n",
       "      <td>2</td>\n",
       "      <td>55</td>\n",
       "      <td>0</td>\n",
       "      <td>45</td>\n",
       "    </tr>\n",
       "    <tr>\n",
       "      <th>2</th>\n",
       "      <td>2</td>\n",
       "      <td>3</td>\n",
       "      <td>85</td>\n",
       "      <td>1</td>\n",
       "      <td>15</td>\n",
       "    </tr>\n",
       "    <tr>\n",
       "      <th>3</th>\n",
       "      <td>2</td>\n",
       "      <td>4</td>\n",
       "      <td>95</td>\n",
       "      <td>1</td>\n",
       "      <td>5</td>\n",
       "    </tr>\n",
       "    <tr>\n",
       "      <th>4</th>\n",
       "      <td>2</td>\n",
       "      <td>5</td>\n",
       "      <td>65</td>\n",
       "      <td>0</td>\n",
       "      <td>35</td>\n",
       "    </tr>\n",
       "  </tbody>\n",
       "</table>\n",
       "</div>"
      ],
      "text/plain": [
       "   sub  trial  unfairness  choice  offer\n",
       "0    2      1          60       0     40\n",
       "1    2      2          55       0     45\n",
       "2    2      3          85       1     15\n",
       "3    2      4          95       1      5\n",
       "4    2      5          65       0     35"
      ]
     },
     "execution_count": 10,
     "metadata": {},
     "output_type": "execute_result"
    }
   ],
   "source": [
    "sub = 2\n",
    "sub_data = data.query('sub == @sub').reset_index(drop=True)\n",
    "sub_data.head()"
   ]
  },
  {
   "cell_type": "code",
   "execution_count": 11,
   "metadata": {},
   "outputs": [
    {
     "data": {
      "text/plain": [
       "<matplotlib.collections.PathCollection at 0x1a1de4da58>"
      ]
     },
     "execution_count": 11,
     "metadata": {},
     "output_type": "execute_result"
    },
    {
     "data": {
      "image/png": "[encoded data removed]",
      "text/plain": [
       "<Figure size 432x288 with 1 Axes>"
      ]
     },
     "metadata": {
      "needs_background": "light"
     },
     "output_type": "display_data"
    }
   ],
   "source": [
    "plt.scatter(sub_data['unfairness'], sub_data['choice'])"
   ]
  },
  {
   "cell_type": "markdown",
   "metadata": {},
   "source": [
    "##### Implement the optimization routine"
   ]
  },
  {
   "cell_type": "code",
   "execution_count": 12,
   "metadata": {},
   "outputs": [],
   "source": [
    "def compute_negloglike(params, data):\n",
    "    \n",
    "    alpha = params[0]\n",
    "    beta = params[1]\n",
    "    \n",
    "    # For each trial, compute the probability of observing THIS PARTICULAR BEHAVIOR given alpha and beta\n",
    "    trial_probs = []\n",
    "    for trial in data['trial'].unique():\n",
    "        trial_data = data.query('trial == @trial')\n",
    "        offer = trial_data['offer'].values[0]\n",
    "        choice = trial_data['choice'].values[0]\n",
    "        utilities = inequity_aversion(offer, alpha)\n",
    "        choice_probabilities = softmax(utilities, beta)\n",
    "        prob_of_observed = choice_probabilities[choice]\n",
    "        trial_probs.append(prob_of_observed)\n",
    "    \n",
    "    # Multiply the probabilities of all trials to get the likelihood of the whole dataset –– here use the log trick!\n",
    "    loglike = np.sum(np.log(trial_probs))\n",
    "    \n",
    "    return -loglike"
   ]
  },
  {
   "cell_type": "code",
   "execution_count": 13,
   "metadata": {},
   "outputs": [],
   "source": [
    "import tqdm"
   ]
  },
  {
   "cell_type": "code",
   "execution_count": 14,
   "metadata": {
    "scrolled": true
   },
   "outputs": [
    {
     "name": "stderr",
     "output_type": "stream",
     "text": [
      " 10%|█         | 1/10 [00:02<00:19,  2.17s/it]"
     ]
    },
    {
     "name": "stdout",
     "output_type": "stream",
     "text": [
      "Optimization terminated successfully.\n",
      "         Current function value: 6.392669\n",
      "         Iterations: 39\n",
      "         Function evaluations: 77\n"
     ]
    },
    {
     "name": "stderr",
     "output_type": "stream",
     "text": [
      "\r",
      " 20%|██        | 2/10 [00:04<00:16,  2.11s/it]"
     ]
    },
    {
     "name": "stdout",
     "output_type": "stream",
     "text": [
      "Optimization terminated successfully.\n",
      "         Current function value: 6.392669\n",
      "         Iterations: 37\n",
      "         Function evaluations: 73\n"
     ]
    },
    {
     "name": "stderr",
     "output_type": "stream",
     "text": [
      "\r",
      " 30%|███       | 3/10 [00:05<00:13,  1.95s/it]"
     ]
    },
    {
     "name": "stdout",
     "output_type": "stream",
     "text": [
      "Optimization terminated successfully.\n",
      "         Current function value: 6.392668\n",
      "         Iterations: 31\n",
      "         Function evaluations: 61\n"
     ]
    },
    {
     "name": "stderr",
     "output_type": "stream",
     "text": [
      "\r",
      " 40%|████      | 4/10 [00:07<00:11,  1.93s/it]"
     ]
    },
    {
     "name": "stdout",
     "output_type": "stream",
     "text": [
      "Optimization terminated successfully.\n",
      "         Current function value: 6.392669\n",
      "         Iterations: 36\n",
      "         Function evaluations: 71\n"
     ]
    },
    {
     "name": "stderr",
     "output_type": "stream",
     "text": [
      "\r",
      " 50%|█████     | 5/10 [00:09<00:10,  2.01s/it]"
     ]
    },
    {
     "name": "stdout",
     "output_type": "stream",
     "text": [
      "Optimization terminated successfully.\n",
      "         Current function value: 6.392669\n",
      "         Iterations: 44\n",
      "         Function evaluations: 82\n"
     ]
    },
    {
     "name": "stderr",
     "output_type": "stream",
     "text": [
      "\r",
      " 60%|██████    | 6/10 [00:11<00:08,  2.01s/it]"
     ]
    },
    {
     "name": "stdout",
     "output_type": "stream",
     "text": [
      "Optimization terminated successfully.\n",
      "         Current function value: 6.392668\n",
      "         Iterations: 38\n",
      "         Function evaluations: 73\n"
     ]
    },
    {
     "name": "stderr",
     "output_type": "stream",
     "text": [
      "\r",
      " 70%|███████   | 7/10 [00:13<00:06,  2.04s/it]"
     ]
    },
    {
     "name": "stdout",
     "output_type": "stream",
     "text": [
      "Optimization terminated successfully.\n",
      "         Current function value: 6.392669\n",
      "         Iterations: 42\n",
      "         Function evaluations: 78\n"
     ]
    },
    {
     "name": "stderr",
     "output_type": "stream",
     "text": [
      "\r",
      " 80%|████████  | 8/10 [00:15<00:03,  2.00s/it]"
     ]
    },
    {
     "name": "stdout",
     "output_type": "stream",
     "text": [
      "Optimization terminated successfully.\n",
      "         Current function value: 6.392669\n",
      "         Iterations: 34\n",
      "         Function evaluations: 67\n"
     ]
    },
    {
     "name": "stderr",
     "output_type": "stream",
     "text": [
      "\r",
      " 90%|█████████ | 9/10 [00:19<00:02,  2.38s/it]"
     ]
    },
    {
     "name": "stdout",
     "output_type": "stream",
     "text": [
      "Optimization terminated successfully.\n",
      "         Current function value: 6.392669\n",
      "         Iterations: 32\n",
      "         Function evaluations: 62\n"
     ]
    },
    {
     "name": "stderr",
     "output_type": "stream",
     "text": [
      "100%|██████████| 10/10 [00:21<00:00,  2.17s/it]"
     ]
    },
    {
     "name": "stdout",
     "output_type": "stream",
     "text": [
      "Optimization terminated successfully.\n",
      "         Current function value: 6.392669\n",
      "         Iterations: 37\n",
      "         Function evaluations: 73\n"
     ]
    },
    {
     "name": "stderr",
     "output_type": "stream",
     "text": [
      "\n"
     ]
    }
   ],
   "source": [
    "n_iter = 10\n",
    "objective_function = lambda params: compute_negloglike(params, sub_data)\n",
    "fit_results = pd.DataFrame()\n",
    "for i in tqdm.tqdm(range(n_iter)):\n",
    "    x0 = np.random.rand(2)\n",
    "    out = scipy.optimize.fmin(objective_function, x0, full_output=True)\n",
    "    best_params, best_NLL = out[:2]\n",
    "    fit_results = fit_results.append(pd.DataFrame([[i, best_params, best_NLL]],\n",
    "                                     columns = ['iteration','best_params','best_NLL']))"
   ]
  },
  {
   "cell_type": "code",
   "execution_count": 15,
   "metadata": {},
   "outputs": [
    {
     "data": {
      "text/html": [
       "<div>\n",
       "<style scoped>\n",
       "    .dataframe tbody tr th:only-of-type {\n",
       "        vertical-align: middle;\n",
       "    }\n",
       "\n",
       "    .dataframe tbody tr th {\n",
       "        vertical-align: top;\n",
       "    }\n",
       "\n",
       "    .dataframe thead th {\n",
       "        text-align: right;\n",
       "    }\n",
       "</style>\n",
       "<table border=\"1\" class=\"dataframe\">\n",
       "  <thead>\n",
       "    <tr style=\"text-align: right;\">\n",
       "      <th></th>\n",
       "      <th>iteration</th>\n",
       "      <th>best_params</th>\n",
       "      <th>best_NLL</th>\n",
       "    </tr>\n",
       "  </thead>\n",
       "  <tbody>\n",
       "    <tr>\n",
       "      <th>0</th>\n",
       "      <td>2</td>\n",
       "      <td>[0.3288702598905009, 0.11685361066413796]</td>\n",
       "      <td>6.392668</td>\n",
       "    </tr>\n",
       "    <tr>\n",
       "      <th>0</th>\n",
       "      <td>5</td>\n",
       "      <td>[0.32887658175219914, 0.11686010804358646]</td>\n",
       "      <td>6.392668</td>\n",
       "    </tr>\n",
       "    <tr>\n",
       "      <th>0</th>\n",
       "      <td>8</td>\n",
       "      <td>[0.3289025286020799, 0.11683589358467195]</td>\n",
       "      <td>6.392669</td>\n",
       "    </tr>\n",
       "    <tr>\n",
       "      <th>0</th>\n",
       "      <td>1</td>\n",
       "      <td>[0.3288699926475456, 0.11687560770559734]</td>\n",
       "      <td>6.392669</td>\n",
       "    </tr>\n",
       "    <tr>\n",
       "      <th>0</th>\n",
       "      <td>0</td>\n",
       "      <td>[0.3288369014474526, 0.11686558035186786]</td>\n",
       "      <td>6.392669</td>\n",
       "    </tr>\n",
       "    <tr>\n",
       "      <th>0</th>\n",
       "      <td>6</td>\n",
       "      <td>[0.32889606161726137, 0.11687321808229567]</td>\n",
       "      <td>6.392669</td>\n",
       "    </tr>\n",
       "    <tr>\n",
       "      <th>0</th>\n",
       "      <td>4</td>\n",
       "      <td>[0.3288363303506362, 0.116844304692205]</td>\n",
       "      <td>6.392669</td>\n",
       "    </tr>\n",
       "    <tr>\n",
       "      <th>0</th>\n",
       "      <td>7</td>\n",
       "      <td>[0.32884660859700576, 0.11683602585168429]</td>\n",
       "      <td>6.392669</td>\n",
       "    </tr>\n",
       "    <tr>\n",
       "      <th>0</th>\n",
       "      <td>3</td>\n",
       "      <td>[0.3288863313131345, 0.11682312751077244]</td>\n",
       "      <td>6.392669</td>\n",
       "    </tr>\n",
       "    <tr>\n",
       "      <th>0</th>\n",
       "      <td>9</td>\n",
       "      <td>[0.32887027537340896, 0.11681698536131242]</td>\n",
       "      <td>6.392669</td>\n",
       "    </tr>\n",
       "  </tbody>\n",
       "</table>\n",
       "</div>"
      ],
      "text/plain": [
       "   iteration                                 best_params  best_NLL\n",
       "0          2   [0.3288702598905009, 0.11685361066413796]  6.392668\n",
       "0          5  [0.32887658175219914, 0.11686010804358646]  6.392668\n",
       "0          8   [0.3289025286020799, 0.11683589358467195]  6.392669\n",
       "0          1   [0.3288699926475456, 0.11687560770559734]  6.392669\n",
       "0          0   [0.3288369014474526, 0.11686558035186786]  6.392669\n",
       "0          6  [0.32889606161726137, 0.11687321808229567]  6.392669\n",
       "0          4     [0.3288363303506362, 0.116844304692205]  6.392669\n",
       "0          7  [0.32884660859700576, 0.11683602585168429]  6.392669\n",
       "0          3   [0.3288863313131345, 0.11682312751077244]  6.392669\n",
       "0          9  [0.32887027537340896, 0.11681698536131242]  6.392669"
      ]
     },
     "execution_count": 15,
     "metadata": {},
     "output_type": "execute_result"
    }
   ],
   "source": [
    "fit_results.sort_values(by='best_NLL')"
   ]
  },
  {
   "cell_type": "markdown",
   "metadata": {},
   "source": [
    "## Say you want to send this data to the GitHub repository for others to see"
   ]
  },
  {
   "cell_type": "code",
   "execution_count": 16,
   "metadata": {},
   "outputs": [],
   "source": [
    "fit_results.to_csv(base_dir + '/Results/fit_onesub_jeroen.csv')"
   ]
  },
  {
   "cell_type": "markdown",
   "metadata": {},
   "source": [
    "Now use git command line or GitHub Desktop to push this file to the repo (outside of notebook)"
   ]
  },
  {
   "cell_type": "markdown",
   "metadata": {},
   "source": [
    "## Find the best-fitting parameters for all subjects using scipy.optimize.fmin"
   ]
  },
  {
   "cell_type": "markdown",
   "metadata": {},
   "source": [
    "Homework:\n",
    "1. Fit model for all subjects - find a good number of iterations to try\n",
    "2. Plot the best-fitting parameters for all subjects\n",
    "3. Do parameter recovery: a) pick 10 sets of parameters (alpha & beta), b) simulate data for each set, c) fit the model to the simulated data, d) repeat b and c 100 times, e) compare the 'recovered' parameters to the ones you picked in step a)."
   ]
  },
  {
   "cell_type": "markdown",
   "metadata": {},
   "source": [
    "## Load Joey's model fit results"
   ]
  },
  {
   "cell_type": "code",
   "execution_count": 18,
   "metadata": {},
   "outputs": [
    {
     "data": {
      "text/html": [
       "<div>\n",
       "<style scoped>\n",
       "    .dataframe tbody tr th:only-of-type {\n",
       "        vertical-align: middle;\n",
       "    }\n",
       "\n",
       "    .dataframe tbody tr th {\n",
       "        vertical-align: top;\n",
       "    }\n",
       "\n",
       "    .dataframe thead th {\n",
       "        text-align: right;\n",
       "    }\n",
       "</style>\n",
       "<table border=\"1\" class=\"dataframe\">\n",
       "  <thead>\n",
       "    <tr style=\"text-align: right;\">\n",
       "      <th></th>\n",
       "      <th>sub</th>\n",
       "      <th>alpha</th>\n",
       "      <th>beta</th>\n",
       "      <th>log_lik</th>\n",
       "    </tr>\n",
       "  </thead>\n",
       "  <tbody>\n",
       "    <tr>\n",
       "      <th>1</th>\n",
       "      <td>1</td>\n",
       "      <td>-0.847179</td>\n",
       "      <td>0.812091</td>\n",
       "      <td>0.000000</td>\n",
       "    </tr>\n",
       "    <tr>\n",
       "      <th>2</th>\n",
       "      <td>2</td>\n",
       "      <td>0.328861</td>\n",
       "      <td>0.116852</td>\n",
       "      <td>-6.392668</td>\n",
       "    </tr>\n",
       "    <tr>\n",
       "      <th>3</th>\n",
       "      <td>3</td>\n",
       "      <td>-0.466158</td>\n",
       "      <td>0.844786</td>\n",
       "      <td>0.000000</td>\n",
       "    </tr>\n",
       "    <tr>\n",
       "      <th>4</th>\n",
       "      <td>4</td>\n",
       "      <td>0.611098</td>\n",
       "      <td>0.068869</td>\n",
       "      <td>-7.950943</td>\n",
       "    </tr>\n",
       "    <tr>\n",
       "      <th>5</th>\n",
       "      <td>5</td>\n",
       "      <td>0.214286</td>\n",
       "      <td>5.286248</td>\n",
       "      <td>-1.386294</td>\n",
       "    </tr>\n",
       "  </tbody>\n",
       "</table>\n",
       "</div>"
      ],
      "text/plain": [
       "   sub     alpha      beta   log_lik\n",
       "1    1 -0.847179  0.812091  0.000000\n",
       "2    2  0.328861  0.116852 -6.392668\n",
       "3    3 -0.466158  0.844786  0.000000\n",
       "4    4  0.611098  0.068869 -7.950943\n",
       "5    5  0.214286  5.286248 -1.386294"
      ]
     },
     "execution_count": 18,
     "metadata": {},
     "output_type": "execute_result"
    }
   ],
   "source": [
    "model_fits_allsubs = pd.read_csv(base_dir + '/Results/Study1_UG_Fits_Joey.csv',index_col=0)\n",
    "model_fits_allsubs.head()"
   ]
  },
  {
   "cell_type": "markdown",
   "metadata": {},
   "source": [
    "##### Visualize the fitted parameters:"
   ]
  },
  {
   "cell_type": "code",
   "execution_count": 19,
   "metadata": {},
   "outputs": [
    {
     "data": {
      "text/plain": [
       "<matplotlib.axes._subplots.AxesSubplot at 0x1a1df5dd30>"
      ]
     },
     "execution_count": 19,
     "metadata": {},
     "output_type": "execute_result"
    },
    {
     "data": {
      "image/png": "[encoded data removed]",
      "text/plain": [
       "<Figure size 432x288 with 1 Axes>"
      ]
     },
     "metadata": {
      "needs_background": "light"
     },
     "output_type": "display_data"
    }
   ],
   "source": [
    "sns.scatterplot(x = model_fits_allsubs.query('alpha < 10')['alpha'],\n",
    "               y = model_fits_allsubs.query('alpha < 10')['beta'])"
   ]
  },
  {
   "cell_type": "code",
   "execution_count": 20,
   "metadata": {},
   "outputs": [
    {
     "name": "stderr",
     "output_type": "stream",
     "text": [
      "/Applications/anaconda3/envs/structLearn/lib/python3.5/site-packages/scipy/stats/stats.py:1713: FutureWarning: Using a non-tuple sequence for multidimensional indexing is deprecated; use `arr[tuple(seq)]` instead of `arr[seq]`. In the future this will be interpreted as an array index, `arr[np.array(seq)]`, which will result either in an error or a different result.\n",
      "  return np.add.reduce(sorted[indexer] * weights, axis=axis) / sumval\n"
     ]
    },
    {
     "data": {
      "text/plain": [
       "<matplotlib.axes._subplots.AxesSubplot at 0x1a1d5b0dd8>"
      ]
     },
     "execution_count": 20,
     "metadata": {},
     "output_type": "execute_result"
    },
    {
     "data": {
      "image/png": "[encoded data removed]",
      "text/plain": [
       "<Figure size 432x288 with 1 Axes>"
      ]
     },
     "metadata": {
      "needs_background": "light"
     },
     "output_type": "display_data"
    }
   ],
   "source": [
    "sns.distplot(model_fits_allsubs['alpha'], bins = 50)"
   ]
  },
  {
   "cell_type": "code",
   "execution_count": 21,
   "metadata": {},
   "outputs": [
    {
     "data": {
      "text/plain": [
       "<matplotlib.axes._subplots.AxesSubplot at 0x1a1df26390>"
      ]
     },
     "execution_count": 21,
     "metadata": {},
     "output_type": "execute_result"
    },
    {
     "data": {
      "image/png": "[encoded data removed]",
      "text/plain": [
       "<Figure size 432x288 with 1 Axes>"
      ]
     },
     "metadata": {
      "needs_background": "light"
     },
     "output_type": "display_data"
    }
   ],
   "source": [
    "sns.distplot(model_fits_allsubs['beta'], bins = 50)"
   ]
  },
  {
   "cell_type": "code",
   "execution_count": 22,
   "metadata": {},
   "outputs": [
    {
     "data": {
      "text/plain": [
       "<matplotlib.axes._subplots.AxesSubplot at 0x1a1d5a3dd8>"
      ]
     },
     "execution_count": 22,
     "metadata": {},
     "output_type": "execute_result"
    },
    {
     "data": {
      "image/png": "[encoded data removed]",
      "text/plain": [
       "<Figure size 432x288 with 1 Axes>"
      ]
     },
     "metadata": {
      "needs_background": "light"
     },
     "output_type": "display_data"
    }
   ],
   "source": [
    "sns.distplot(model_fits_allsubs.query('log_lik < -.1')['log_lik'])"
   ]
  },
  {
   "cell_type": "markdown",
   "metadata": {},
   "source": [
    "##### Compare to Lotte's results"
   ]
  },
  {
   "cell_type": "code",
   "execution_count": 23,
   "metadata": {},
   "outputs": [
    {
     "data": {
      "text/html": [
       "<div>\n",
       "<style scoped>\n",
       "    .dataframe tbody tr th:only-of-type {\n",
       "        vertical-align: middle;\n",
       "    }\n",
       "\n",
       "    .dataframe tbody tr th {\n",
       "        vertical-align: top;\n",
       "    }\n",
       "\n",
       "    .dataframe thead th {\n",
       "        text-align: right;\n",
       "    }\n",
       "</style>\n",
       "<table border=\"1\" class=\"dataframe\">\n",
       "  <thead>\n",
       "    <tr style=\"text-align: right;\">\n",
       "      <th></th>\n",
       "      <th>sub</th>\n",
       "      <th>alpha</th>\n",
       "      <th>beta</th>\n",
       "      <th>NLL</th>\n",
       "      <th>log_lik</th>\n",
       "    </tr>\n",
       "  </thead>\n",
       "  <tbody>\n",
       "    <tr>\n",
       "      <th>0</th>\n",
       "      <td>2</td>\n",
       "      <td>0.328821</td>\n",
       "      <td>0.116842</td>\n",
       "      <td>6.392669</td>\n",
       "      <td>-6.392669</td>\n",
       "    </tr>\n",
       "    <tr>\n",
       "      <th>0</th>\n",
       "      <td>3</td>\n",
       "      <td>-0.576554</td>\n",
       "      <td>1.176875</td>\n",
       "      <td>-0.000000</td>\n",
       "      <td>0.000000</td>\n",
       "    </tr>\n",
       "    <tr>\n",
       "      <th>0</th>\n",
       "      <td>4</td>\n",
       "      <td>0.611046</td>\n",
       "      <td>0.068872</td>\n",
       "      <td>7.950943</td>\n",
       "      <td>-7.950943</td>\n",
       "    </tr>\n",
       "    <tr>\n",
       "      <th>0</th>\n",
       "      <td>5</td>\n",
       "      <td>0.214286</td>\n",
       "      <td>5.020193</td>\n",
       "      <td>1.386294</td>\n",
       "      <td>-1.386294</td>\n",
       "    </tr>\n",
       "    <tr>\n",
       "      <th>0</th>\n",
       "      <td>6</td>\n",
       "      <td>0.412874</td>\n",
       "      <td>9.383481</td>\n",
       "      <td>-0.000000</td>\n",
       "      <td>0.000000</td>\n",
       "    </tr>\n",
       "  </tbody>\n",
       "</table>\n",
       "</div>"
      ],
      "text/plain": [
       "   sub     alpha      beta       NLL   log_lik\n",
       "0    2  0.328821  0.116842  6.392669 -6.392669\n",
       "0    3 -0.576554  1.176875 -0.000000  0.000000\n",
       "0    4  0.611046  0.068872  7.950943 -7.950943\n",
       "0    5  0.214286  5.020193  1.386294 -1.386294\n",
       "0    6  0.412874  9.383481 -0.000000  0.000000"
      ]
     },
     "execution_count": 23,
     "metadata": {},
     "output_type": "execute_result"
    }
   ],
   "source": [
    "model_fits_lotte = pd.read_csv(base_dir + '/Results/Model_fit_results_Lotte.csv',\n",
    "                              index_col = 0)\n",
    "model_fits_lotte = model_fits_lotte.rename(columns = {'subject':'sub','tot_best_NLL':'NLL'})\n",
    "model_fits_lotte['log_lik'] = -model_fits_lotte['NLL']\n",
    "model_fits_lotte.head()"
   ]
  },
  {
   "cell_type": "code",
   "execution_count": 24,
   "metadata": {},
   "outputs": [],
   "source": [
    "model_fits_joeylotte = model_fits_allsubs.merge(model_fits_lotte,\n",
    "                           on = 'sub', suffixes = ['_joey','_lotte'])"
   ]
  },
  {
   "cell_type": "code",
   "execution_count": 25,
   "metadata": {},
   "outputs": [
    {
     "data": {
      "text/html": [
       "<div>\n",
       "<style scoped>\n",
       "    .dataframe tbody tr th:only-of-type {\n",
       "        vertical-align: middle;\n",
       "    }\n",
       "\n",
       "    .dataframe tbody tr th {\n",
       "        vertical-align: top;\n",
       "    }\n",
       "\n",
       "    .dataframe thead th {\n",
       "        text-align: right;\n",
       "    }\n",
       "</style>\n",
       "<table border=\"1\" class=\"dataframe\">\n",
       "  <thead>\n",
       "    <tr style=\"text-align: right;\">\n",
       "      <th></th>\n",
       "      <th>sub</th>\n",
       "      <th>alpha_joey</th>\n",
       "      <th>beta_joey</th>\n",
       "      <th>log_lik_joey</th>\n",
       "      <th>alpha_lotte</th>\n",
       "      <th>beta_lotte</th>\n",
       "      <th>NLL</th>\n",
       "      <th>log_lik_lotte</th>\n",
       "    </tr>\n",
       "  </thead>\n",
       "  <tbody>\n",
       "    <tr>\n",
       "      <th>0</th>\n",
       "      <td>2</td>\n",
       "      <td>0.328861</td>\n",
       "      <td>0.116852</td>\n",
       "      <td>-6.392668</td>\n",
       "      <td>0.328821</td>\n",
       "      <td>0.116842</td>\n",
       "      <td>6.392669</td>\n",
       "      <td>-6.392669</td>\n",
       "    </tr>\n",
       "    <tr>\n",
       "      <th>1</th>\n",
       "      <td>3</td>\n",
       "      <td>-0.466158</td>\n",
       "      <td>0.844786</td>\n",
       "      <td>0.000000</td>\n",
       "      <td>-0.576554</td>\n",
       "      <td>1.176875</td>\n",
       "      <td>-0.000000</td>\n",
       "      <td>0.000000</td>\n",
       "    </tr>\n",
       "    <tr>\n",
       "      <th>2</th>\n",
       "      <td>4</td>\n",
       "      <td>0.611098</td>\n",
       "      <td>0.068869</td>\n",
       "      <td>-7.950943</td>\n",
       "      <td>0.611046</td>\n",
       "      <td>0.068872</td>\n",
       "      <td>7.950943</td>\n",
       "      <td>-7.950943</td>\n",
       "    </tr>\n",
       "    <tr>\n",
       "      <th>3</th>\n",
       "      <td>5</td>\n",
       "      <td>0.214286</td>\n",
       "      <td>5.286248</td>\n",
       "      <td>-1.386294</td>\n",
       "      <td>0.214286</td>\n",
       "      <td>5.020193</td>\n",
       "      <td>1.386294</td>\n",
       "      <td>-1.386294</td>\n",
       "    </tr>\n",
       "    <tr>\n",
       "      <th>4</th>\n",
       "      <td>6</td>\n",
       "      <td>0.408515</td>\n",
       "      <td>8.274810</td>\n",
       "      <td>0.000000</td>\n",
       "      <td>0.412874</td>\n",
       "      <td>9.383481</td>\n",
       "      <td>-0.000000</td>\n",
       "      <td>0.000000</td>\n",
       "    </tr>\n",
       "  </tbody>\n",
       "</table>\n",
       "</div>"
      ],
      "text/plain": [
       "   sub  alpha_joey  beta_joey  log_lik_joey  alpha_lotte  beta_lotte  \\\n",
       "0    2    0.328861   0.116852     -6.392668     0.328821    0.116842   \n",
       "1    3   -0.466158   0.844786      0.000000    -0.576554    1.176875   \n",
       "2    4    0.611098   0.068869     -7.950943     0.611046    0.068872   \n",
       "3    5    0.214286   5.286248     -1.386294     0.214286    5.020193   \n",
       "4    6    0.408515   8.274810      0.000000     0.412874    9.383481   \n",
       "\n",
       "        NLL  log_lik_lotte  \n",
       "0  6.392669      -6.392669  \n",
       "1 -0.000000       0.000000  \n",
       "2  7.950943      -7.950943  \n",
       "3  1.386294      -1.386294  \n",
       "4 -0.000000       0.000000  "
      ]
     },
     "execution_count": 25,
     "metadata": {},
     "output_type": "execute_result"
    }
   ],
   "source": [
    "model_fits_joeylotte.head()"
   ]
  },
  {
   "cell_type": "code",
   "execution_count": 26,
   "metadata": {},
   "outputs": [
    {
     "data": {
      "text/plain": [
       "<matplotlib.axes._subplots.AxesSubplot at 0x1a1dfe36a0>"
      ]
     },
     "execution_count": 26,
     "metadata": {},
     "output_type": "execute_result"
    },
    {
     "data": {
      "image/png": "[encoded data removed]",
      "text/plain": [
       "<Figure size 432x288 with 1 Axes>"
      ]
     },
     "metadata": {
      "needs_background": "light"
     },
     "output_type": "display_data"
    }
   ],
   "source": [
    "sns.scatterplot(model_fits_joeylotte['alpha_joey'],\n",
    "                model_fits_joeylotte['alpha_lotte'])"
   ]
  },
  {
   "cell_type": "code",
   "execution_count": 27,
   "metadata": {},
   "outputs": [
    {
     "data": {
      "text/plain": [
       "<matplotlib.axes._subplots.AxesSubplot at 0x1a1e034978>"
      ]
     },
     "execution_count": 27,
     "metadata": {},
     "output_type": "execute_result"
    },
    {
     "data": {
      "image/png": "[encoded data removed]",
      "text/plain": [
       "<Figure size 432x288 with 1 Axes>"
      ]
     },
     "metadata": {
      "needs_background": "light"
     },
     "output_type": "display_data"
    }
   ],
   "source": [
    "sns.scatterplot(model_fits_joeylotte['beta_joey'],\n",
    "                model_fits_joeylotte['beta_lotte'])"
   ]
  },
  {
   "cell_type": "markdown",
   "metadata": {},
   "source": [
    "This looks pretty good: it seems like the subjects with alpha > 0 gave consistent results, while subjects with alpha < 0 gave erratic estimates for alpha. This means that alpha is not as well interpretable with < 0 values, which we can also conclude by reasoning about the model since all different alpha < 0 will yield the same result where the subject always accepts an UG offer."
   ]
  },
  {
   "cell_type": "markdown",
   "metadata": {},
   "source": [
    "Actually going back to the original Fehr & Schmidt (1999) paper, where the IA model is proposed, they say alpha must be >= 0."
   ]
  },
  {
   "cell_type": "markdown",
   "metadata": {},
   "source": [
    "So if we wanted, we could run the model again with that constraint."
   ]
  },
  {
   "cell_type": "markdown",
   "metadata": {},
   "source": [
    "##### Summary: how to deal with unreliable parameter fits?"
   ]
  },
  {
   "cell_type": "markdown",
   "metadata": {},
   "source": [
    "1. Run the model more times to avoid local maxima.\n",
    "2. Apply boundaries to the model parameters, based on the theory behind the model or simulations of the model. E.g. Capping beta at 10, or writing the model such that alpha is between 0 and 1 with 0 meaning only caring about payoff and 1 meaning only caring about inequity.\n",
    "3. Run parameter recovery to test if the fits are reliable or not."
   ]
  },
  {
   "cell_type": "markdown",
   "metadata": {},
   "source": [
    "## Parameter recovery"
   ]
  },
  {
   "cell_type": "markdown",
   "metadata": {},
   "source": [
    "##### Logic:"
   ]
  },
  {
   "cell_type": "markdown",
   "metadata": {},
   "source": [
    "1. Create a 'ground truth' model for which you KNOW the parameter values.\n",
    "2. Simulate data from that ground truth model.\n",
    "3. Fit your model to the simulated data to see if you can RECOVER the known parameters."
   ]
  },
  {
   "cell_type": "code",
   "execution_count": 28,
   "metadata": {},
   "outputs": [],
   "source": [
    "# Step 1: pick some ground truth alphas and betas\n",
    "alpha = 1\n",
    "beta = 2"
   ]
  },
  {
   "cell_type": "code",
   "execution_count": 29,
   "metadata": {},
   "outputs": [
    {
     "data": {
      "text/html": [
       "<div>\n",
       "<style scoped>\n",
       "    .dataframe tbody tr th:only-of-type {\n",
       "        vertical-align: middle;\n",
       "    }\n",
       "\n",
       "    .dataframe tbody tr th {\n",
       "        vertical-align: top;\n",
       "    }\n",
       "\n",
       "    .dataframe thead th {\n",
       "        text-align: right;\n",
       "    }\n",
       "</style>\n",
       "<table border=\"1\" class=\"dataframe\">\n",
       "  <thead>\n",
       "    <tr style=\"text-align: right;\">\n",
       "      <th></th>\n",
       "      <th>trial</th>\n",
       "      <th>offer</th>\n",
       "      <th>probability_accept</th>\n",
       "      <th>choice</th>\n",
       "    </tr>\n",
       "  </thead>\n",
       "  <tbody>\n",
       "    <tr>\n",
       "      <th>0</th>\n",
       "      <td>1</td>\n",
       "      <td>40</td>\n",
       "      <td>1.000000e+00</td>\n",
       "      <td>0</td>\n",
       "    </tr>\n",
       "    <tr>\n",
       "      <th>1</th>\n",
       "      <td>2</td>\n",
       "      <td>45</td>\n",
       "      <td>1.000000e+00</td>\n",
       "      <td>0</td>\n",
       "    </tr>\n",
       "    <tr>\n",
       "      <th>2</th>\n",
       "      <td>3</td>\n",
       "      <td>15</td>\n",
       "      <td>1.688912e-48</td>\n",
       "      <td>1</td>\n",
       "    </tr>\n",
       "    <tr>\n",
       "      <th>3</th>\n",
       "      <td>4</td>\n",
       "      <td>5</td>\n",
       "      <td>1.478898e-74</td>\n",
       "      <td>1</td>\n",
       "    </tr>\n",
       "    <tr>\n",
       "      <th>4</th>\n",
       "      <td>5</td>\n",
       "      <td>35</td>\n",
       "      <td>9.999546e-01</td>\n",
       "      <td>0</td>\n",
       "    </tr>\n",
       "  </tbody>\n",
       "</table>\n",
       "</div>"
      ],
      "text/plain": [
       "   trial  offer  probability_accept  choice\n",
       "0      1     40        1.000000e+00       0\n",
       "1      2     45        1.000000e+00       0\n",
       "2      3     15        1.688912e-48       1\n",
       "3      4      5        1.478898e-74       1\n",
       "4      5     35        9.999546e-01       0"
      ]
     },
     "execution_count": 29,
     "metadata": {},
     "output_type": "execute_result"
    }
   ],
   "source": [
    "# Step 2: simulate data\n",
    "sim_data = simulate_data(sub_data, alpha, beta, evaluate_choices = True)\n",
    "sim_data.head()"
   ]
  },
  {
   "cell_type": "code",
   "execution_count": 30,
   "metadata": {},
   "outputs": [
    {
     "data": {
      "text/plain": [
       "<matplotlib.axes._subplots.AxesSubplot at 0x1a1e0e6898>"
      ]
     },
     "execution_count": 30,
     "metadata": {},
     "output_type": "execute_result"
    },
    {
     "data": {
      "image/png": "[encoded data removed]",
      "text/plain": [
       "<Figure size 432x288 with 1 Axes>"
      ]
     },
     "metadata": {
      "needs_background": "light"
     },
     "output_type": "display_data"
    }
   ],
   "source": [
    "sns.scatterplot(data = sim_data, x = 'offer', y = 'choice')"
   ]
  },
  {
   "cell_type": "code",
   "execution_count": 31,
   "metadata": {
    "scrolled": true
   },
   "outputs": [
    {
     "name": "stdout",
     "output_type": "stream",
     "text": [
      "Optimization terminated successfully.\n",
      "         Current function value: -0.000000\n",
      "         Iterations: 35\n",
      "         Function evaluations: 92\n",
      "Optimization terminated successfully.\n",
      "         Current function value: -0.000000\n",
      "         Iterations: 57\n",
      "         Function evaluations: 134\n",
      "Optimization terminated successfully.\n",
      "         Current function value: -0.000000\n",
      "         Iterations: 56\n",
      "         Function evaluations: 132\n",
      "Optimization terminated successfully.\n",
      "         Current function value: -0.000000\n",
      "         Iterations: 41\n",
      "         Function evaluations: 108\n",
      "Optimization terminated successfully.\n",
      "         Current function value: -0.000000\n",
      "         Iterations: 61\n",
      "         Function evaluations: 148\n",
      "Optimization terminated successfully.\n",
      "         Current function value: -0.000000\n",
      "         Iterations: 45\n",
      "         Function evaluations: 114\n",
      "Optimization terminated successfully.\n",
      "         Current function value: -0.000000\n",
      "         Iterations: 44\n",
      "         Function evaluations: 110\n",
      "Optimization terminated successfully.\n",
      "         Current function value: -0.000000\n",
      "         Iterations: 36\n",
      "         Function evaluations: 97\n",
      "Optimization terminated successfully.\n",
      "         Current function value: -0.000000\n",
      "         Iterations: 37\n",
      "         Function evaluations: 96\n",
      "Optimization terminated successfully.\n",
      "         Current function value: -0.000000\n",
      "         Iterations: 39\n",
      "         Function evaluations: 102\n"
     ]
    }
   ],
   "source": [
    "# Step 3: fit model to these simulated data\n",
    "n_iter = 10\n",
    "objective_function = lambda params: compute_negloglike(params, sim_data)\n",
    "fit_results = pd.DataFrame()\n",
    "for i in range(n_iter):\n",
    "    x0 = np.random.rand(2)\n",
    "    out = scipy.optimize.fmin(objective_function, x0, full_output=True)\n",
    "    best_params, best_NLL = out[:2]\n",
    "    fit_results = fit_results.append(pd.DataFrame([[i, best_params[0], best_params[1], best_NLL]],\n",
    "                                     columns = ['iteration','alpha','beta','best_NLL']))"
   ]
  },
  {
   "cell_type": "code",
   "execution_count": 32,
   "metadata": {},
   "outputs": [
    {
     "name": "stdout",
     "output_type": "stream",
     "text": [
      "-0.0\n"
     ]
    }
   ],
   "source": [
    "best_NLL = np.min(fit_results['best_NLL'])\n",
    "print(best_NLL)"
   ]
  },
  {
   "cell_type": "code",
   "execution_count": 33,
   "metadata": {},
   "outputs": [],
   "source": [
    "best_solutions = fit_results.query('best_NLL == @best_NLL').copy()"
   ]
  },
  {
   "cell_type": "code",
   "execution_count": 34,
   "metadata": {},
   "outputs": [
    {
     "data": {
      "text/html": [
       "<div>\n",
       "<style scoped>\n",
       "    .dataframe tbody tr th:only-of-type {\n",
       "        vertical-align: middle;\n",
       "    }\n",
       "\n",
       "    .dataframe tbody tr th {\n",
       "        vertical-align: top;\n",
       "    }\n",
       "\n",
       "    .dataframe thead th {\n",
       "        text-align: right;\n",
       "    }\n",
       "</style>\n",
       "<table border=\"1\" class=\"dataframe\">\n",
       "  <thead>\n",
       "    <tr style=\"text-align: right;\">\n",
       "      <th></th>\n",
       "      <th>iteration</th>\n",
       "      <th>alpha</th>\n",
       "      <th>beta</th>\n",
       "      <th>best_NLL</th>\n",
       "    </tr>\n",
       "  </thead>\n",
       "  <tbody>\n",
       "    <tr>\n",
       "      <th>0</th>\n",
       "      <td>0</td>\n",
       "      <td>0.925799</td>\n",
       "      <td>6.820290</td>\n",
       "      <td>-0.0</td>\n",
       "    </tr>\n",
       "    <tr>\n",
       "      <th>0</th>\n",
       "      <td>1</td>\n",
       "      <td>0.934855</td>\n",
       "      <td>5.392572</td>\n",
       "      <td>-0.0</td>\n",
       "    </tr>\n",
       "    <tr>\n",
       "      <th>0</th>\n",
       "      <td>2</td>\n",
       "      <td>0.893435</td>\n",
       "      <td>7.438900</td>\n",
       "      <td>-0.0</td>\n",
       "    </tr>\n",
       "    <tr>\n",
       "      <th>0</th>\n",
       "      <td>3</td>\n",
       "      <td>0.924405</td>\n",
       "      <td>7.440319</td>\n",
       "      <td>-0.0</td>\n",
       "    </tr>\n",
       "    <tr>\n",
       "      <th>0</th>\n",
       "      <td>4</td>\n",
       "      <td>0.929362</td>\n",
       "      <td>5.465597</td>\n",
       "      <td>-0.0</td>\n",
       "    </tr>\n",
       "  </tbody>\n",
       "</table>\n",
       "</div>"
      ],
      "text/plain": [
       "   iteration     alpha      beta  best_NLL\n",
       "0          0  0.925799  6.820290      -0.0\n",
       "0          1  0.934855  5.392572      -0.0\n",
       "0          2  0.893435  7.438900      -0.0\n",
       "0          3  0.924405  7.440319      -0.0\n",
       "0          4  0.929362  5.465597      -0.0"
      ]
     },
     "execution_count": 34,
     "metadata": {},
     "output_type": "execute_result"
    }
   ],
   "source": [
    "best_solutions.head()"
   ]
  },
  {
   "cell_type": "code",
   "execution_count": 35,
   "metadata": {},
   "outputs": [
    {
     "data": {
      "text/plain": [
       "<matplotlib.collections.PathCollection at 0x1a1e1a0d30>"
      ]
     },
     "execution_count": 35,
     "metadata": {},
     "output_type": "execute_result"
    },
    {
     "data": {
      "image/png": "[encoded data removed]",
      "text/plain": [
       "<Figure size 432x288 with 1 Axes>"
      ]
     },
     "metadata": {
      "needs_background": "light"
     },
     "output_type": "display_data"
    }
   ],
   "source": [
    "sns.scatterplot(data = best_solutions, x = 'alpha', y = 'beta')\n",
    "plt.xlim([0,10]); plt.ylim([0,10]);\n",
    "plt.scatter(alpha,beta)"
   ]
  },
  {
   "cell_type": "code",
   "execution_count": 36,
   "metadata": {},
   "outputs": [
    {
     "data": {
      "text/plain": [
       "iteration    0.000000\n",
       "alpha        0.925799\n",
       "beta         6.820290\n",
       "best_NLL    -0.000000\n",
       "Name: 0, dtype: float64"
      ]
     },
     "execution_count": 36,
     "metadata": {},
     "output_type": "execute_result"
    }
   ],
   "source": [
    "best_solution = best_solutions.iloc[0]\n",
    "best_solution"
   ]
  },
  {
   "cell_type": "code",
   "execution_count": 37,
   "metadata": {},
   "outputs": [],
   "source": [
    "sim_best = simulate_data(sub_data, best_solution['alpha'], best_solution['beta'], evaluate_choices=True)"
   ]
  },
  {
   "cell_type": "code",
   "execution_count": 38,
   "metadata": {},
   "outputs": [
    {
     "data": {
      "text/plain": [
       "<matplotlib.collections.PathCollection at 0x1a1e2e20b8>"
      ]
     },
     "execution_count": 38,
     "metadata": {},
     "output_type": "execute_result"
    },
    {
     "data": {
      "image/png": "[encoded data removed]",
      "text/plain": [
       "<Figure size 720x288 with 2 Axes>"
      ]
     },
     "metadata": {
      "needs_background": "light"
     },
     "output_type": "display_data"
    }
   ],
   "source": [
    "fig,ax = plt.subplots(nrows = 1, ncols = 2, figsize = [10,4])\n",
    "ax[0].scatter(sim_data['offer'], sim_data['choice'])\n",
    "ax[1].scatter(sim_best['offer'], sim_best['choice'])"
   ]
  },
  {
   "cell_type": "markdown",
   "metadata": {},
   "source": [
    "The parameters don't fit exactly but the data is the same... we therefore need more data in our experiment (in fact: more different trials, if possible) to get a more precise match of recovered to true parameters!"
   ]
  },
  {
   "cell_type": "code",
   "execution_count": 39,
   "metadata": {},
   "outputs": [
    {
     "data": {
      "text/html": [
       "<div>\n",
       "<style scoped>\n",
       "    .dataframe tbody tr th:only-of-type {\n",
       "        vertical-align: middle;\n",
       "    }\n",
       "\n",
       "    .dataframe tbody tr th {\n",
       "        vertical-align: top;\n",
       "    }\n",
       "\n",
       "    .dataframe thead th {\n",
       "        text-align: right;\n",
       "    }\n",
       "</style>\n",
       "<table border=\"1\" class=\"dataframe\">\n",
       "  <thead>\n",
       "    <tr style=\"text-align: right;\">\n",
       "      <th></th>\n",
       "      <th>trial</th>\n",
       "      <th>offer</th>\n",
       "      <th>probability_accept</th>\n",
       "      <th>choice</th>\n",
       "    </tr>\n",
       "  </thead>\n",
       "  <tbody>\n",
       "    <tr>\n",
       "      <th>0</th>\n",
       "      <td>1</td>\n",
       "      <td>40</td>\n",
       "      <td>1.000000e+00</td>\n",
       "      <td>0</td>\n",
       "    </tr>\n",
       "    <tr>\n",
       "      <th>1</th>\n",
       "      <td>2</td>\n",
       "      <td>45</td>\n",
       "      <td>1.000000e+00</td>\n",
       "      <td>0</td>\n",
       "    </tr>\n",
       "    <tr>\n",
       "      <th>2</th>\n",
       "      <td>3</td>\n",
       "      <td>15</td>\n",
       "      <td>1.688912e-48</td>\n",
       "      <td>1</td>\n",
       "    </tr>\n",
       "    <tr>\n",
       "      <th>3</th>\n",
       "      <td>4</td>\n",
       "      <td>5</td>\n",
       "      <td>1.478898e-74</td>\n",
       "      <td>1</td>\n",
       "    </tr>\n",
       "    <tr>\n",
       "      <th>4</th>\n",
       "      <td>5</td>\n",
       "      <td>35</td>\n",
       "      <td>9.999546e-01</td>\n",
       "      <td>0</td>\n",
       "    </tr>\n",
       "  </tbody>\n",
       "</table>\n",
       "</div>"
      ],
      "text/plain": [
       "   trial  offer  probability_accept  choice\n",
       "0      1     40        1.000000e+00       0\n",
       "1      2     45        1.000000e+00       0\n",
       "2      3     15        1.688912e-48       1\n",
       "3      4      5        1.478898e-74       1\n",
       "4      5     35        9.999546e-01       0"
      ]
     },
     "execution_count": 39,
     "metadata": {},
     "output_type": "execute_result"
    }
   ],
   "source": [
    "# Step 2: simulate data\n",
    "sim_data = pd.DataFrame()\n",
    "for n_experiments in range(100):\n",
    "    to_append = simulate_data(sub_data, alpha, beta, evaluate_choices = True)\n",
    "    sim_data = sim_data.append(to_append)\n",
    "sim_data.head()"
   ]
  },
  {
   "cell_type": "code",
   "execution_count": 40,
   "metadata": {
    "scrolled": true
   },
   "outputs": [
    {
     "name": "stdout",
     "output_type": "stream",
     "text": [
      "Optimization terminated successfully.\n",
      "         Current function value: -0.000000\n",
      "         Iterations: 43\n",
      "         Function evaluations: 105\n",
      "Optimization terminated successfully.\n",
      "         Current function value: -0.000000\n",
      "         Iterations: 85\n",
      "         Function evaluations: 186\n",
      "Optimization terminated successfully.\n",
      "         Current function value: -0.000000\n",
      "         Iterations: 56\n",
      "         Function evaluations: 133\n",
      "Optimization terminated successfully.\n",
      "         Current function value: -0.000000\n",
      "         Iterations: 49\n",
      "         Function evaluations: 119\n",
      "Optimization terminated successfully.\n",
      "         Current function value: -0.000000\n",
      "         Iterations: 50\n",
      "         Function evaluations: 122\n",
      "Optimization terminated successfully.\n",
      "         Current function value: -0.000000\n",
      "         Iterations: 54\n",
      "         Function evaluations: 129\n",
      "Optimization terminated successfully.\n",
      "         Current function value: -0.000000\n",
      "         Iterations: 58\n",
      "         Function evaluations: 136\n",
      "Optimization terminated successfully.\n",
      "         Current function value: -0.000000\n",
      "         Iterations: 45\n",
      "         Function evaluations: 110\n",
      "Optimization terminated successfully.\n",
      "         Current function value: -0.000000\n",
      "         Iterations: 35\n",
      "         Function evaluations: 93\n",
      "Optimization terminated successfully.\n",
      "         Current function value: -0.000000\n",
      "         Iterations: 71\n",
      "         Function evaluations: 164\n"
     ]
    }
   ],
   "source": [
    "# Step 3: fit model to these simulated data\n",
    "n_iter = 10\n",
    "objective_function = lambda params: compute_negloglike(params, sim_data)\n",
    "fit_results = pd.DataFrame()\n",
    "for i in range(n_iter):\n",
    "    x0 = np.random.rand(2)\n",
    "    out = scipy.optimize.fmin(objective_function, x0, full_output=True)\n",
    "    best_params, best_NLL = out[:2]\n",
    "    fit_results = fit_results.append(pd.DataFrame([[i, best_params[0], best_params[1], best_NLL]],\n",
    "                                     columns = ['iteration','alpha','beta','best_NLL']))"
   ]
  },
  {
   "cell_type": "code",
   "execution_count": 41,
   "metadata": {},
   "outputs": [],
   "source": [
    "best_solutions = fit_results.query('best_NLL == @best_NLL').copy()"
   ]
  },
  {
   "cell_type": "code",
   "execution_count": 42,
   "metadata": {},
   "outputs": [
    {
     "data": {
      "text/plain": [
       "<matplotlib.collections.PathCollection at 0x1a1e3a7278>"
      ]
     },
     "execution_count": 42,
     "metadata": {},
     "output_type": "execute_result"
    },
    {
     "data": {
      "image/png": "[encoded data removed]",
      "text/plain": [
       "<Figure size 432x288 with 1 Axes>"
      ]
     },
     "metadata": {
      "needs_background": "light"
     },
     "output_type": "display_data"
    }
   ],
   "source": [
    "sns.scatterplot(data = best_solutions, x = 'alpha', y = 'beta')\n",
    "plt.xlim([0,10]); plt.ylim([0,10]);\n",
    "plt.scatter(alpha,beta)"
   ]
  },
  {
   "cell_type": "code",
   "execution_count": 43,
   "metadata": {},
   "outputs": [],
   "source": [
    "sim_data_agg = sim_data.groupby(['offer'], as_index=False).mean()"
   ]
  },
  {
   "cell_type": "code",
   "execution_count": 44,
   "metadata": {},
   "outputs": [
    {
     "data": {
      "text/plain": [
       "<matplotlib.axes._subplots.AxesSubplot at 0x1a1e3f4390>"
      ]
     },
     "execution_count": 44,
     "metadata": {},
     "output_type": "execute_result"
    },
    {
     "data": {
      "image/png": "[encoded data removed]",
      "text/plain": [
       "<Figure size 432x288 with 1 Axes>"
      ]
     },
     "metadata": {
      "needs_background": "light"
     },
     "output_type": "display_data"
    }
   ],
   "source": [
    "sns.scatterplot(data = sim_data_agg, x = 'offer', y = 'choice')"
   ]
  },
  {
   "cell_type": "markdown",
   "metadata": {},
   "source": [
    "##### Let's try other alphas and betas"
   ]
  },
  {
   "cell_type": "code",
   "execution_count": 45,
   "metadata": {},
   "outputs": [
    {
     "data": {
      "text/plain": [
       "(array([0. , 0.4, 0.8, 1.2, 1.6]), array([0. , 0.2, 0.4, 0.6, 0.8]))"
      ]
     },
     "execution_count": 45,
     "metadata": {},
     "output_type": "execute_result"
    }
   ],
   "source": [
    "alphas = np.arange(0,2,.4)\n",
    "betas = np.arange(0,1,.2)\n",
    "alphas, betas"
   ]
  },
  {
   "cell_type": "code",
   "execution_count": 46,
   "metadata": {
    "scrolled": true
   },
   "outputs": [
    {
     "name": "stdout",
     "output_type": "stream",
     "text": [
      "0.0\n",
      "Optimization terminated successfully.\n",
      "         Current function value: 13.753498\n",
      "         Iterations: 57\n",
      "         Function evaluations: 110\n",
      "Optimization terminated successfully.\n",
      "         Current function value: -0.000000\n",
      "         Iterations: 22\n",
      "         Function evaluations: 68\n",
      "Optimization terminated successfully.\n",
      "         Current function value: -0.000000\n",
      "         Iterations: 26\n",
      "         Function evaluations: 78\n",
      "Optimization terminated successfully.\n",
      "         Current function value: -0.000000\n",
      "         Iterations: 22\n",
      "         Function evaluations: 70\n"
     ]
    },
    {
     "name": "stderr",
     "output_type": "stream",
     "text": [
      "/Applications/anaconda3/envs/structLearn/lib/python3.5/site-packages/ipykernel_launcher.py:4: RuntimeWarning: invalid value encountered in true_divide\n",
      "  after removing the cwd from sys.path.\n"
     ]
    },
    {
     "name": "stdout",
     "output_type": "stream",
     "text": [
      "Optimization terminated successfully.\n",
      "         Current function value: -0.000000\n",
      "         Iterations: 26\n",
      "         Function evaluations: 77\n",
      "0.4\n",
      "Optimization terminated successfully.\n",
      "         Current function value: 12.829049\n",
      "         Iterations: 71\n",
      "         Function evaluations: 136\n",
      "Optimization terminated successfully.\n",
      "         Current function value: 3.917561\n",
      "         Iterations: 43\n",
      "         Function evaluations: 81\n",
      "Optimization terminated successfully.\n",
      "         Current function value: -0.000000\n",
      "         Iterations: 35\n",
      "         Function evaluations: 94\n",
      "Optimization terminated successfully.\n",
      "         Current function value: -0.000000\n",
      "         Iterations: 53\n",
      "         Function evaluations: 126\n",
      "Optimization terminated successfully.\n",
      "         Current function value: -0.000000\n",
      "         Iterations: 46\n",
      "         Function evaluations: 115\n",
      "0.8\n",
      "Warning: Maximum number of function evaluations has been exceeded.\n",
      "Optimization terminated successfully.\n",
      "         Current function value: -0.000000\n",
      "         Iterations: 51\n",
      "         Function evaluations: 126\n",
      "Optimization terminated successfully.\n",
      "         Current function value: 1.386294\n",
      "         Iterations: 147\n",
      "         Function evaluations: 300\n",
      "Optimization terminated successfully.\n",
      "         Current function value: 1.386294\n",
      "         Iterations: 97\n",
      "         Function evaluations: 196\n",
      "Optimization terminated successfully.\n",
      "         Current function value: -0.000000\n",
      "         Iterations: 58\n",
      "         Function evaluations: 140\n",
      "1.2000000000000002\n",
      "Optimization terminated successfully.\n",
      "         Current function value: 13.256918\n",
      "         Iterations: 55\n",
      "         Function evaluations: 100\n",
      "Optimization terminated successfully.\n",
      "         Current function value: -0.000000\n",
      "         Iterations: 63\n",
      "         Function evaluations: 146\n",
      "Optimization terminated successfully.\n",
      "         Current function value: 1.386294\n",
      "         Iterations: 104\n",
      "         Function evaluations: 205\n",
      "Optimization terminated successfully.\n",
      "         Current function value: 1.386294\n",
      "         Iterations: 139\n",
      "         Function evaluations: 275\n",
      "Optimization terminated successfully.\n",
      "         Current function value: 1.386294\n",
      "         Iterations: 108\n",
      "         Function evaluations: 219\n",
      "1.6\n",
      "Optimization terminated successfully.\n",
      "         Current function value: 11.953077\n",
      "         Iterations: 60\n",
      "         Function evaluations: 112\n",
      "Optimization terminated successfully.\n",
      "         Current function value: 1.386294\n",
      "         Iterations: 149\n",
      "         Function evaluations: 293\n",
      "Optimization terminated successfully.\n",
      "         Current function value: -0.000000\n",
      "         Iterations: 72\n",
      "         Function evaluations: 166\n",
      "Optimization terminated successfully.\n",
      "         Current function value: -0.000000\n",
      "         Iterations: 40\n",
      "         Function evaluations: 106\n",
      "Optimization terminated successfully.\n",
      "         Current function value: -0.000000\n",
      "         Iterations: 39\n",
      "         Function evaluations: 98\n"
     ]
    }
   ],
   "source": [
    "n_iter = 1\n",
    "recovery_results = pd.DataFrame()\n",
    "for alpha in alphas:\n",
    "    print(alpha)\n",
    "    for beta in betas:\n",
    "        sim_data = simulate_data(sub_data, alpha, beta, evaluate_choices=True)\n",
    "        # Fit the model\n",
    "        objective_function = lambda params: compute_negloglike(params, sim_data)\n",
    "        fit_results = pd.DataFrame()\n",
    "        for i in range(n_iter):\n",
    "            x0 = np.random.rand(2)\n",
    "            out = scipy.optimize.fmin(objective_function, x0, full_output=True)\n",
    "            best_params, best_NLL = out[:2]\n",
    "            fit_results = fit_results.append(pd.DataFrame([[i, best_params[0], best_params[1], best_NLL]],\n",
    "                                             columns = ['iteration','alpha','beta','best_NLL']))\n",
    "        to_append = pd.DataFrame([[alpha, beta, best_params[0], best_params[1], best_NLL]],\n",
    "                                 columns = ['true_alpha','true_beta','recov_alpha','recov_beta','NLL'])\n",
    "        recovery_results = recovery_results.append(to_append)"
   ]
  },
  {
   "cell_type": "code",
   "execution_count": 47,
   "metadata": {},
   "outputs": [
    {
     "data": {
      "text/html": [
       "<div>\n",
       "<style scoped>\n",
       "    .dataframe tbody tr th:only-of-type {\n",
       "        vertical-align: middle;\n",
       "    }\n",
       "\n",
       "    .dataframe tbody tr th {\n",
       "        vertical-align: top;\n",
       "    }\n",
       "\n",
       "    .dataframe thead th {\n",
       "        text-align: right;\n",
       "    }\n",
       "</style>\n",
       "<table border=\"1\" class=\"dataframe\">\n",
       "  <thead>\n",
       "    <tr style=\"text-align: right;\">\n",
       "      <th></th>\n",
       "      <th>true_alpha</th>\n",
       "      <th>true_beta</th>\n",
       "      <th>recov_alpha</th>\n",
       "      <th>recov_beta</th>\n",
       "      <th>NLL</th>\n",
       "    </tr>\n",
       "  </thead>\n",
       "  <tbody>\n",
       "    <tr>\n",
       "      <th>0</th>\n",
       "      <td>0.0</td>\n",
       "      <td>0.0</td>\n",
       "      <td>0.611145</td>\n",
       "      <td>0.006588</td>\n",
       "      <td>13.753498</td>\n",
       "    </tr>\n",
       "    <tr>\n",
       "      <th>0</th>\n",
       "      <td>0.0</td>\n",
       "      <td>0.2</td>\n",
       "      <td>-0.619028</td>\n",
       "      <td>1.080562</td>\n",
       "      <td>-0.000000</td>\n",
       "    </tr>\n",
       "    <tr>\n",
       "      <th>0</th>\n",
       "      <td>0.0</td>\n",
       "      <td>0.4</td>\n",
       "      <td>-1.955321</td>\n",
       "      <td>0.762468</td>\n",
       "      <td>-0.000000</td>\n",
       "    </tr>\n",
       "    <tr>\n",
       "      <th>0</th>\n",
       "      <td>0.0</td>\n",
       "      <td>0.6</td>\n",
       "      <td>-0.755763</td>\n",
       "      <td>0.838191</td>\n",
       "      <td>-0.000000</td>\n",
       "    </tr>\n",
       "    <tr>\n",
       "      <th>0</th>\n",
       "      <td>0.0</td>\n",
       "      <td>0.8</td>\n",
       "      <td>-5.868363</td>\n",
       "      <td>0.866854</td>\n",
       "      <td>-0.000000</td>\n",
       "    </tr>\n",
       "  </tbody>\n",
       "</table>\n",
       "</div>"
      ],
      "text/plain": [
       "   true_alpha  true_beta  recov_alpha  recov_beta        NLL\n",
       "0         0.0        0.0     0.611145    0.006588  13.753498\n",
       "0         0.0        0.2    -0.619028    1.080562  -0.000000\n",
       "0         0.0        0.4    -1.955321    0.762468  -0.000000\n",
       "0         0.0        0.6    -0.755763    0.838191  -0.000000\n",
       "0         0.0        0.8    -5.868363    0.866854  -0.000000"
      ]
     },
     "execution_count": 47,
     "metadata": {},
     "output_type": "execute_result"
    }
   ],
   "source": [
    "recovery_results.head()"
   ]
  },
  {
   "cell_type": "code",
   "execution_count": 49,
   "metadata": {},
   "outputs": [
    {
     "data": {
      "text/plain": [
       "[<matplotlib.lines.Line2D at 0x1a1e5fa518>]"
      ]
     },
     "execution_count": 49,
     "metadata": {},
     "output_type": "execute_result"
    },
    {
     "data": {
      "image/png": "[encoded data removed]",
      "text/plain": [
       "<Figure size 432x288 with 1 Axes>"
      ]
     },
     "metadata": {
      "needs_background": "light"
     },
     "output_type": "display_data"
    }
   ],
   "source": [
    "sns.scatterplot(data = recovery_results.query('recov_alpha < 2 and true_alpha > 0'),\n",
    "                x = 'true_alpha', y = 'recov_alpha')\n",
    "plt.plot([0,2],[0,2],'k:')"
   ]
  },
  {
   "cell_type": "code",
   "execution_count": 50,
   "metadata": {},
   "outputs": [
    {
     "data": {
      "text/plain": [
       "[<matplotlib.lines.Line2D at 0x1a1e63c518>]"
      ]
     },
     "execution_count": 50,
     "metadata": {},
     "output_type": "execute_result"
    },
    {
     "data": {
      "image/png": "[encoded data removed]",
      "text/plain": [
       "<Figure size 432x288 with 1 Axes>"
      ]
     },
     "metadata": {
      "needs_background": "light"
     },
     "output_type": "display_data"
    }
   ],
   "source": [
    "sns.scatterplot(data = recovery_results.query('recov_alpha < 2 and true_alpha > 0'),\n",
    "                x = 'true_beta', y = 'recov_beta')\n",
    "plt.plot([0,10],[0,10],'k:')"
   ]
  },
  {
   "cell_type": "markdown",
   "metadata": {},
   "source": [
    "From these plots you can see that parameter recovery is not great. Alpha is recovered accurately most of the time, but beta is all over the place. This implies that it doesn't really matter which beta you choose -- you can reproduce the observed behavior with the right alpha. Therefore, if we're interested in modeling beta (softmax temperature) we should design a better experiment with more trials, different kinds of trials, and/or more response options for the participant."
   ]
  },
  {
   "cell_type": "markdown",
   "metadata": {},
   "source": [
    "## Next:"
   ]
  },
  {
   "cell_type": "markdown",
   "metadata": {},
   "source": [
    "1. Talk about model comparison between model classes (first inequity aversion model vs random choice model using log likelihood, then if we want hidden multiplier trust game social preference models using sum of squared error)\n",
    "2. Summarize what we've seen so far. Take a step back and talk about why it's useful what we've done and what we're still lacking. What do we still need?\n",
    "3. Other model types - RL, DDM etc"
   ]
  }
 ],
 "metadata": {
  "kernelspec": {
   "display_name": "Python 3",
   "language": "python",
   "name": "python3"
  },
  "language_info": {
   "codemirror_mode": {
    "name": "ipython",
    "version": 3
   },
   "file_extension": ".py",
   "mimetype": "text/x-python",
   "name": "python",
   "nbconvert_exporter": "python",
   "pygments_lexer": "ipython3",
   "version": "3.5.6"
  }
 },
 "nbformat": 4,
 "nbformat_minor": 4
}
